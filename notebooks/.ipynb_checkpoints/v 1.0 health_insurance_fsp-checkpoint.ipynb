{
 "cells": [
  {
   "cell_type": "markdown",
   "id": "ec084158",
   "metadata": {},
   "source": [
    "# PA004: Health Insurance cross sell"
   ]
  },
  {
   "cell_type": "markdown",
   "id": "3f1ae71a",
   "metadata": {
    "heading_collapsed": true
   },
   "source": [
    "##  Planejamento da solução (IOT)"
   ]
  },
  {
   "cell_type": "markdown",
   "id": "414af785",
   "metadata": {
    "hidden": true
   },
   "source": [
    "### Input"
   ]
  },
  {
   "cell_type": "code",
   "execution_count": null,
   "id": "ea475a72",
   "metadata": {
    "hidden": true
   },
   "outputs": [],
   "source": []
  },
  {
   "cell_type": "markdown",
   "id": "1df47000",
   "metadata": {
    "hidden": true
   },
   "source": [
    "### Output"
   ]
  },
  {
   "cell_type": "code",
   "execution_count": null,
   "id": "2979f0e5",
   "metadata": {
    "hidden": true
   },
   "outputs": [],
   "source": []
  },
  {
   "cell_type": "markdown",
   "id": "9b253639",
   "metadata": {
    "hidden": true
   },
   "source": [
    "### Tasks"
   ]
  },
  {
   "cell_type": "code",
   "execution_count": null,
   "id": "d076bca8",
   "metadata": {
    "hidden": true
   },
   "outputs": [],
   "source": []
  },
  {
   "cell_type": "markdown",
   "id": "59d486c7",
   "metadata": {},
   "source": [
    "# 0.0. IMPORTS"
   ]
  },
  {
   "cell_type": "code",
   "execution_count": 60,
   "id": "57c09673",
   "metadata": {
    "ExecuteTime": {
     "end_time": "2022-01-19T21:07:12.654482Z",
     "start_time": "2022-01-19T21:07:12.467324Z"
    }
   },
   "outputs": [],
   "source": [
    "import seaborn        as sns\n",
    "import pandas         as pd\n",
    "import psycopg2       as pg\n",
    "import numpy          as np\n",
    "\n",
    "\n",
    "from matplotlib                    import pyplot                   as plt\n",
    "\n",
    "\n",
    "from IPython.core.display          import HTML\n",
    "\n",
    "from sklearn                       import preprocessing            as pp\n",
    "\n",
    "import warnings\n",
    "\n",
    "warnings.filterwarnings(\"ignore\")"
   ]
  },
  {
   "cell_type": "markdown",
   "id": "ff923c9c",
   "metadata": {},
   "source": [
    "## 0.1 Loading Data - Postgres"
   ]
  },
  {
   "cell_type": "code",
   "execution_count": 2,
   "id": "a22634ba",
   "metadata": {
    "ExecuteTime": {
     "end_time": "2022-01-19T17:23:01.316935Z",
     "start_time": "2022-01-19T17:23:01.314405Z"
    }
   },
   "outputs": [],
   "source": [
    "path = '/home/pedrosa/repositorio/health_insurance'"
   ]
  },
  {
   "cell_type": "code",
   "execution_count": 3,
   "id": "354bb58d",
   "metadata": {
    "ExecuteTime": {
     "end_time": "2022-01-19T17:23:01.322247Z",
     "start_time": "2022-01-19T17:23:01.318995Z"
    }
   },
   "outputs": [],
   "source": [
    " # Credentials\n",
    "host = 'comunidade-ds-postgres.c50pcakiuwi3.us-east-1.rds.amazonaws.com'\n",
    "port = 5432\n",
    "database = 'comunidadedsdb'\n",
    "username = 'member'\n",
    "pwd = 'cdspa'"
   ]
  },
  {
   "cell_type": "code",
   "execution_count": 4,
   "id": "98bdce9c",
   "metadata": {
    "ExecuteTime": {
     "end_time": "2022-01-19T17:23:53.385810Z",
     "start_time": "2022-01-19T17:23:01.324568Z"
    }
   },
   "outputs": [],
   "source": [
    "conn = pg.connect(user = username, password = pwd, host = host, port = port, database = database)\n",
    "\n",
    "query_schema = '''\n",
    "    SELECT *\n",
    "    FROM pa004.users u  INNER JOIN pa004.vehicle v on (u.id = v.id)\n",
    "                        INNER JOIN pa004.insurance i on (u.id = i.id)\n",
    "'''\n",
    "\n",
    "df_raw = pd.read_sql(query_schema, conn)\n",
    "\n",
    "conn.close()\n",
    "\n",
    "df_raw.to_pickle(path + '/data/raw/df_raw.pkl')"
   ]
  },
  {
   "cell_type": "code",
   "execution_count": 5,
   "id": "5896204b",
   "metadata": {
    "ExecuteTime": {
     "end_time": "2022-01-19T17:23:53.471067Z",
     "start_time": "2022-01-19T17:23:53.387334Z"
    }
   },
   "outputs": [],
   "source": [
    "df1 = pd.read_pickle(path + '/data/raw/df_raw.pkl') "
   ]
  },
  {
   "cell_type": "code",
   "execution_count": 6,
   "id": "2f0ad704",
   "metadata": {
    "ExecuteTime": {
     "end_time": "2022-01-19T17:23:54.615931Z",
     "start_time": "2022-01-19T17:23:53.473154Z"
    },
    "cell_style": "center"
   },
   "outputs": [
    {
     "data": {
      "text/html": [
       "<div>\n",
       "<style scoped>\n",
       "    .dataframe tbody tr th:only-of-type {\n",
       "        vertical-align: middle;\n",
       "    }\n",
       "\n",
       "    .dataframe tbody tr th {\n",
       "        vertical-align: top;\n",
       "    }\n",
       "\n",
       "    .dataframe thead th {\n",
       "        text-align: right;\n",
       "    }\n",
       "</style>\n",
       "<table border=\"1\" class=\"dataframe\">\n",
       "  <thead>\n",
       "    <tr style=\"text-align: right;\">\n",
       "      <th></th>\n",
       "      <th>id</th>\n",
       "      <th>gender</th>\n",
       "      <th>age</th>\n",
       "      <th>region_code</th>\n",
       "      <th>policy_sales_channel</th>\n",
       "      <th>id</th>\n",
       "      <th>driving_license</th>\n",
       "      <th>vehicle_age</th>\n",
       "      <th>vehicle_damage</th>\n",
       "      <th>id</th>\n",
       "      <th>previously_insured</th>\n",
       "      <th>annual_premium</th>\n",
       "      <th>vintage</th>\n",
       "      <th>response</th>\n",
       "    </tr>\n",
       "  </thead>\n",
       "  <tbody>\n",
       "    <tr>\n",
       "      <th>381099</th>\n",
       "      <td>381022</td>\n",
       "      <td>Male</td>\n",
       "      <td>80</td>\n",
       "      <td>28.0</td>\n",
       "      <td>111.0</td>\n",
       "      <td>381022</td>\n",
       "      <td>1</td>\n",
       "      <td>1-2 Year</td>\n",
       "      <td>No</td>\n",
       "      <td>381022</td>\n",
       "      <td>1</td>\n",
       "      <td>35974.0</td>\n",
       "      <td>148</td>\n",
       "      <td>0</td>\n",
       "    </tr>\n",
       "    <tr>\n",
       "      <th>381100</th>\n",
       "      <td>381042</td>\n",
       "      <td>Female</td>\n",
       "      <td>21</td>\n",
       "      <td>24.0</td>\n",
       "      <td>152.0</td>\n",
       "      <td>381042</td>\n",
       "      <td>1</td>\n",
       "      <td>&lt; 1 Year</td>\n",
       "      <td>No</td>\n",
       "      <td>381042</td>\n",
       "      <td>0</td>\n",
       "      <td>34567.0</td>\n",
       "      <td>260</td>\n",
       "      <td>0</td>\n",
       "    </tr>\n",
       "    <tr>\n",
       "      <th>381101</th>\n",
       "      <td>381045</td>\n",
       "      <td>Female</td>\n",
       "      <td>29</td>\n",
       "      <td>41.0</td>\n",
       "      <td>152.0</td>\n",
       "      <td>381045</td>\n",
       "      <td>1</td>\n",
       "      <td>&lt; 1 Year</td>\n",
       "      <td>No</td>\n",
       "      <td>381045</td>\n",
       "      <td>1</td>\n",
       "      <td>31309.0</td>\n",
       "      <td>176</td>\n",
       "      <td>0</td>\n",
       "    </tr>\n",
       "    <tr>\n",
       "      <th>381102</th>\n",
       "      <td>381058</td>\n",
       "      <td>Male</td>\n",
       "      <td>40</td>\n",
       "      <td>46.0</td>\n",
       "      <td>26.0</td>\n",
       "      <td>381058</td>\n",
       "      <td>1</td>\n",
       "      <td>1-2 Year</td>\n",
       "      <td>Yes</td>\n",
       "      <td>381058</td>\n",
       "      <td>0</td>\n",
       "      <td>27508.0</td>\n",
       "      <td>189</td>\n",
       "      <td>1</td>\n",
       "    </tr>\n",
       "    <tr>\n",
       "      <th>381103</th>\n",
       "      <td>381069</td>\n",
       "      <td>Female</td>\n",
       "      <td>49</td>\n",
       "      <td>28.0</td>\n",
       "      <td>157.0</td>\n",
       "      <td>381069</td>\n",
       "      <td>1</td>\n",
       "      <td>1-2 Year</td>\n",
       "      <td>Yes</td>\n",
       "      <td>381069</td>\n",
       "      <td>0</td>\n",
       "      <td>61705.0</td>\n",
       "      <td>39</td>\n",
       "      <td>0</td>\n",
       "    </tr>\n",
       "    <tr>\n",
       "      <th>381104</th>\n",
       "      <td>381070</td>\n",
       "      <td>Male</td>\n",
       "      <td>24</td>\n",
       "      <td>8.0</td>\n",
       "      <td>152.0</td>\n",
       "      <td>381070</td>\n",
       "      <td>1</td>\n",
       "      <td>&lt; 1 Year</td>\n",
       "      <td>No</td>\n",
       "      <td>381070</td>\n",
       "      <td>1</td>\n",
       "      <td>38254.0</td>\n",
       "      <td>127</td>\n",
       "      <td>0</td>\n",
       "    </tr>\n",
       "    <tr>\n",
       "      <th>381105</th>\n",
       "      <td>381079</td>\n",
       "      <td>Female</td>\n",
       "      <td>58</td>\n",
       "      <td>28.0</td>\n",
       "      <td>26.0</td>\n",
       "      <td>381079</td>\n",
       "      <td>1</td>\n",
       "      <td>1-2 Year</td>\n",
       "      <td>Yes</td>\n",
       "      <td>381079</td>\n",
       "      <td>0</td>\n",
       "      <td>39740.0</td>\n",
       "      <td>170</td>\n",
       "      <td>0</td>\n",
       "    </tr>\n",
       "    <tr>\n",
       "      <th>381106</th>\n",
       "      <td>381082</td>\n",
       "      <td>Female</td>\n",
       "      <td>75</td>\n",
       "      <td>28.0</td>\n",
       "      <td>26.0</td>\n",
       "      <td>381082</td>\n",
       "      <td>1</td>\n",
       "      <td>1-2 Year</td>\n",
       "      <td>No</td>\n",
       "      <td>381082</td>\n",
       "      <td>1</td>\n",
       "      <td>51619.0</td>\n",
       "      <td>80</td>\n",
       "      <td>0</td>\n",
       "    </tr>\n",
       "    <tr>\n",
       "      <th>381107</th>\n",
       "      <td>381097</td>\n",
       "      <td>Female</td>\n",
       "      <td>49</td>\n",
       "      <td>10.0</td>\n",
       "      <td>26.0</td>\n",
       "      <td>381097</td>\n",
       "      <td>1</td>\n",
       "      <td>1-2 Year</td>\n",
       "      <td>Yes</td>\n",
       "      <td>381097</td>\n",
       "      <td>0</td>\n",
       "      <td>34541.0</td>\n",
       "      <td>44</td>\n",
       "      <td>0</td>\n",
       "    </tr>\n",
       "    <tr>\n",
       "      <th>381108</th>\n",
       "      <td>381100</td>\n",
       "      <td>Female</td>\n",
       "      <td>51</td>\n",
       "      <td>28.0</td>\n",
       "      <td>26.0</td>\n",
       "      <td>381100</td>\n",
       "      <td>1</td>\n",
       "      <td>1-2 Year</td>\n",
       "      <td>Yes</td>\n",
       "      <td>381100</td>\n",
       "      <td>0</td>\n",
       "      <td>44504.0</td>\n",
       "      <td>71</td>\n",
       "      <td>0</td>\n",
       "    </tr>\n",
       "  </tbody>\n",
       "</table>\n",
       "</div>"
      ],
      "text/plain": [
       "            id  gender  age  region_code  policy_sales_channel      id  \\\n",
       "381099  381022    Male   80         28.0                 111.0  381022   \n",
       "381100  381042  Female   21         24.0                 152.0  381042   \n",
       "381101  381045  Female   29         41.0                 152.0  381045   \n",
       "381102  381058    Male   40         46.0                  26.0  381058   \n",
       "381103  381069  Female   49         28.0                 157.0  381069   \n",
       "381104  381070    Male   24          8.0                 152.0  381070   \n",
       "381105  381079  Female   58         28.0                  26.0  381079   \n",
       "381106  381082  Female   75         28.0                  26.0  381082   \n",
       "381107  381097  Female   49         10.0                  26.0  381097   \n",
       "381108  381100  Female   51         28.0                  26.0  381100   \n",
       "\n",
       "        driving_license vehicle_age vehicle_damage      id  \\\n",
       "381099                1    1-2 Year             No  381022   \n",
       "381100                1    < 1 Year             No  381042   \n",
       "381101                1    < 1 Year             No  381045   \n",
       "381102                1    1-2 Year            Yes  381058   \n",
       "381103                1    1-2 Year            Yes  381069   \n",
       "381104                1    < 1 Year             No  381070   \n",
       "381105                1    1-2 Year            Yes  381079   \n",
       "381106                1    1-2 Year             No  381082   \n",
       "381107                1    1-2 Year            Yes  381097   \n",
       "381108                1    1-2 Year            Yes  381100   \n",
       "\n",
       "        previously_insured  annual_premium  vintage  response  \n",
       "381099                   1         35974.0      148         0  \n",
       "381100                   0         34567.0      260         0  \n",
       "381101                   1         31309.0      176         0  \n",
       "381102                   0         27508.0      189         1  \n",
       "381103                   0         61705.0       39         0  \n",
       "381104                   1         38254.0      127         0  \n",
       "381105                   0         39740.0      170         0  \n",
       "381106                   1         51619.0       80         0  \n",
       "381107                   0         34541.0       44         0  \n",
       "381108                   0         44504.0       71         0  "
      ]
     },
     "execution_count": 6,
     "metadata": {},
     "output_type": "execute_result"
    }
   ],
   "source": [
    "df1.tail(10)"
   ]
  },
  {
   "cell_type": "markdown",
   "id": "20e6e033",
   "metadata": {},
   "source": [
    "## 0.2 Helper Functions"
   ]
  },
  {
   "cell_type": "code",
   "execution_count": 7,
   "id": "5cb0f10d",
   "metadata": {
    "ExecuteTime": {
     "end_time": "2022-01-19T17:23:54.624541Z",
     "start_time": "2022-01-19T17:23:54.617690Z"
    }
   },
   "outputs": [
    {
     "data": {
      "text/html": [
       "<style>.container{width:100% !important;}</style>"
      ],
      "text/plain": [
       "<IPython.core.display.HTML object>"
      ]
     },
     "metadata": {},
     "output_type": "display_data"
    }
   ],
   "source": [
    "def my_settings():\n",
    "    %matplotlib inline\n",
    "    \n",
    "    # plotly settings\n",
    "    plt.style.use( 'ggplot' )\n",
    "    plt.rcParams['figure.figsize'] = [25, 12]\n",
    "    plt.rcParams['font.size'] = 8\n",
    " \n",
    "    # notebook settings\n",
    "    display(HTML('<style>.container{width:100% !important;}</style>'))\n",
    "    np.set_printoptions(suppress=True)\n",
    "    pd.set_option('display.float_format', '{:.2f}'.format)\n",
    "    \n",
    "    # seaborn settings\n",
    "    sns.set(rc={'figure.figsize':(25,12)})\n",
    "    sns.set_theme(style = 'darkgrid', font_scale = 1)\n",
    "my_settings()"
   ]
  },
  {
   "cell_type": "markdown",
   "id": "41cc3628",
   "metadata": {},
   "source": [
    "# 1.0. Data Description\n"
   ]
  },
  {
   "cell_type": "markdown",
   "id": "7f1d1ed8",
   "metadata": {},
   "source": [
    "## 1.1. Organize columns"
   ]
  },
  {
   "cell_type": "code",
   "execution_count": 8,
   "id": "9a8bd25d",
   "metadata": {
    "ExecuteTime": {
     "end_time": "2022-01-19T17:23:54.646034Z",
     "start_time": "2022-01-19T17:23:54.626521Z"
    }
   },
   "outputs": [],
   "source": [
    " # removing duplicated columns\n",
    "df1 = df1.loc[:, ~ df1.columns.duplicated()]"
   ]
  },
  {
   "cell_type": "markdown",
   "id": "5827bb94",
   "metadata": {},
   "source": [
    "## 1.2. Data Dimensions"
   ]
  },
  {
   "cell_type": "code",
   "execution_count": 9,
   "id": "11236903",
   "metadata": {
    "ExecuteTime": {
     "end_time": "2022-01-19T17:23:54.651728Z",
     "start_time": "2022-01-19T17:23:54.647975Z"
    }
   },
   "outputs": [
    {
     "name": "stdout",
     "output_type": "stream",
     "text": [
      "Number of Rows: 381109\n",
      "Number of Cols: 12\n"
     ]
    }
   ],
   "source": [
    "print( 'Number of Rows: {}'.format( df1.shape[0] ) )\n",
    "print( 'Number of Cols: {}'.format( df1.shape[1] ) )"
   ]
  },
  {
   "cell_type": "markdown",
   "id": "fefd728d",
   "metadata": {},
   "source": [
    "## 1.3. Data Types"
   ]
  },
  {
   "cell_type": "code",
   "execution_count": 10,
   "id": "bdb4b807",
   "metadata": {
    "ExecuteTime": {
     "end_time": "2022-01-19T17:23:54.661434Z",
     "start_time": "2022-01-19T17:23:54.654943Z"
    }
   },
   "outputs": [
    {
     "data": {
      "text/plain": [
       "id                        int64\n",
       "gender                   object\n",
       "age                       int64\n",
       "region_code             float64\n",
       "policy_sales_channel    float64\n",
       "driving_license           int64\n",
       "vehicle_age              object\n",
       "vehicle_damage           object\n",
       "previously_insured        int64\n",
       "annual_premium          float64\n",
       "vintage                   int64\n",
       "response                  int64\n",
       "dtype: object"
      ]
     },
     "execution_count": 10,
     "metadata": {},
     "output_type": "execute_result"
    }
   ],
   "source": [
    "df1.dtypes "
   ]
  },
  {
   "cell_type": "markdown",
   "id": "5a9c8cc9",
   "metadata": {},
   "source": [
    "## 1.4. Check NA"
   ]
  },
  {
   "cell_type": "code",
   "execution_count": 11,
   "id": "0ba4a306",
   "metadata": {
    "ExecuteTime": {
     "end_time": "2022-01-19T17:23:54.701980Z",
     "start_time": "2022-01-19T17:23:54.662769Z"
    }
   },
   "outputs": [
    {
     "data": {
      "text/plain": [
       "id                      0\n",
       "gender                  0\n",
       "age                     0\n",
       "region_code             0\n",
       "policy_sales_channel    0\n",
       "driving_license         0\n",
       "vehicle_age             0\n",
       "vehicle_damage          0\n",
       "previously_insured      0\n",
       "annual_premium          0\n",
       "vintage                 0\n",
       "response                0\n",
       "dtype: int64"
      ]
     },
     "execution_count": 11,
     "metadata": {},
     "output_type": "execute_result"
    }
   ],
   "source": [
    "df1.isna().sum() "
   ]
  },
  {
   "cell_type": "markdown",
   "id": "768e3b78",
   "metadata": {},
   "source": [
    "## 1.5. Data Descriptive"
   ]
  },
  {
   "cell_type": "code",
   "execution_count": 12,
   "id": "19cf9e06",
   "metadata": {
    "ExecuteTime": {
     "end_time": "2022-01-19T17:23:54.724126Z",
     "start_time": "2022-01-19T17:23:54.704096Z"
    }
   },
   "outputs": [],
   "source": [
    "num_attributes = df1.select_dtypes(include=['int64', 'float64'])\n",
    "cat_attributes = df1.select_dtypes(exclude=['int64', 'float64','datetime64[ns]'])"
   ]
  },
  {
   "cell_type": "markdown",
   "id": "a5b1f33d",
   "metadata": {},
   "source": [
    "### 1.5.1 Numerical Attributes\n"
   ]
  },
  {
   "cell_type": "code",
   "execution_count": 13,
   "id": "e6687295",
   "metadata": {
    "ExecuteTime": {
     "end_time": "2022-01-19T17:23:55.148391Z",
     "start_time": "2022-01-19T17:23:54.726309Z"
    }
   },
   "outputs": [
    {
     "data": {
      "text/html": [
       "<div>\n",
       "<style scoped>\n",
       "    .dataframe tbody tr th:only-of-type {\n",
       "        vertical-align: middle;\n",
       "    }\n",
       "\n",
       "    .dataframe tbody tr th {\n",
       "        vertical-align: top;\n",
       "    }\n",
       "\n",
       "    .dataframe thead th {\n",
       "        text-align: right;\n",
       "    }\n",
       "</style>\n",
       "<table border=\"1\" class=\"dataframe\">\n",
       "  <thead>\n",
       "    <tr style=\"text-align: right;\">\n",
       "      <th></th>\n",
       "      <th>attributes</th>\n",
       "      <th>min</th>\n",
       "      <th>max</th>\n",
       "      <th>range</th>\n",
       "      <th>mean</th>\n",
       "      <th>median</th>\n",
       "      <th>std</th>\n",
       "      <th>skew</th>\n",
       "      <th>kurtosis</th>\n",
       "    </tr>\n",
       "  </thead>\n",
       "  <tbody>\n",
       "    <tr>\n",
       "      <th>0</th>\n",
       "      <td>id</td>\n",
       "      <td>1.00</td>\n",
       "      <td>381109.00</td>\n",
       "      <td>381108.00</td>\n",
       "      <td>190555.00</td>\n",
       "      <td>190555.00</td>\n",
       "      <td>110016.69</td>\n",
       "      <td>-0.00</td>\n",
       "      <td>-1.20</td>\n",
       "    </tr>\n",
       "    <tr>\n",
       "      <th>1</th>\n",
       "      <td>age</td>\n",
       "      <td>20.00</td>\n",
       "      <td>85.00</td>\n",
       "      <td>65.00</td>\n",
       "      <td>38.82</td>\n",
       "      <td>36.00</td>\n",
       "      <td>15.51</td>\n",
       "      <td>0.67</td>\n",
       "      <td>-0.57</td>\n",
       "    </tr>\n",
       "    <tr>\n",
       "      <th>2</th>\n",
       "      <td>region_code</td>\n",
       "      <td>0.00</td>\n",
       "      <td>52.00</td>\n",
       "      <td>52.00</td>\n",
       "      <td>26.39</td>\n",
       "      <td>28.00</td>\n",
       "      <td>13.23</td>\n",
       "      <td>-0.12</td>\n",
       "      <td>-0.87</td>\n",
       "    </tr>\n",
       "    <tr>\n",
       "      <th>3</th>\n",
       "      <td>policy_sales_channel</td>\n",
       "      <td>1.00</td>\n",
       "      <td>163.00</td>\n",
       "      <td>162.00</td>\n",
       "      <td>112.03</td>\n",
       "      <td>133.00</td>\n",
       "      <td>54.20</td>\n",
       "      <td>-0.90</td>\n",
       "      <td>-0.97</td>\n",
       "    </tr>\n",
       "    <tr>\n",
       "      <th>4</th>\n",
       "      <td>driving_license</td>\n",
       "      <td>0.00</td>\n",
       "      <td>1.00</td>\n",
       "      <td>1.00</td>\n",
       "      <td>1.00</td>\n",
       "      <td>1.00</td>\n",
       "      <td>0.05</td>\n",
       "      <td>-21.60</td>\n",
       "      <td>464.35</td>\n",
       "    </tr>\n",
       "    <tr>\n",
       "      <th>5</th>\n",
       "      <td>previously_insured</td>\n",
       "      <td>0.00</td>\n",
       "      <td>1.00</td>\n",
       "      <td>1.00</td>\n",
       "      <td>0.46</td>\n",
       "      <td>0.00</td>\n",
       "      <td>0.50</td>\n",
       "      <td>0.17</td>\n",
       "      <td>-1.97</td>\n",
       "    </tr>\n",
       "    <tr>\n",
       "      <th>6</th>\n",
       "      <td>annual_premium</td>\n",
       "      <td>2630.00</td>\n",
       "      <td>540165.00</td>\n",
       "      <td>537535.00</td>\n",
       "      <td>30564.39</td>\n",
       "      <td>31669.00</td>\n",
       "      <td>17213.13</td>\n",
       "      <td>1.77</td>\n",
       "      <td>34.00</td>\n",
       "    </tr>\n",
       "    <tr>\n",
       "      <th>7</th>\n",
       "      <td>vintage</td>\n",
       "      <td>10.00</td>\n",
       "      <td>299.00</td>\n",
       "      <td>289.00</td>\n",
       "      <td>154.35</td>\n",
       "      <td>154.00</td>\n",
       "      <td>83.67</td>\n",
       "      <td>0.00</td>\n",
       "      <td>-1.20</td>\n",
       "    </tr>\n",
       "    <tr>\n",
       "      <th>8</th>\n",
       "      <td>response</td>\n",
       "      <td>0.00</td>\n",
       "      <td>1.00</td>\n",
       "      <td>1.00</td>\n",
       "      <td>0.12</td>\n",
       "      <td>0.00</td>\n",
       "      <td>0.33</td>\n",
       "      <td>2.30</td>\n",
       "      <td>3.30</td>\n",
       "    </tr>\n",
       "  </tbody>\n",
       "</table>\n",
       "</div>"
      ],
      "text/plain": [
       "             attributes     min       max     range      mean    median  \\\n",
       "0                    id    1.00 381109.00 381108.00 190555.00 190555.00   \n",
       "1                   age   20.00     85.00     65.00     38.82     36.00   \n",
       "2           region_code    0.00     52.00     52.00     26.39     28.00   \n",
       "3  policy_sales_channel    1.00    163.00    162.00    112.03    133.00   \n",
       "4       driving_license    0.00      1.00      1.00      1.00      1.00   \n",
       "5    previously_insured    0.00      1.00      1.00      0.46      0.00   \n",
       "6        annual_premium 2630.00 540165.00 537535.00  30564.39  31669.00   \n",
       "7               vintage   10.00    299.00    289.00    154.35    154.00   \n",
       "8              response    0.00      1.00      1.00      0.12      0.00   \n",
       "\n",
       "        std   skew  kurtosis  \n",
       "0 110016.69  -0.00     -1.20  \n",
       "1     15.51   0.67     -0.57  \n",
       "2     13.23  -0.12     -0.87  \n",
       "3     54.20  -0.90     -0.97  \n",
       "4      0.05 -21.60    464.35  \n",
       "5      0.50   0.17     -1.97  \n",
       "6  17213.13   1.77     34.00  \n",
       "7     83.67   0.00     -1.20  \n",
       "8      0.33   2.30      3.30  "
      ]
     },
     "execution_count": 13,
     "metadata": {},
     "output_type": "execute_result"
    }
   ],
   "source": [
    "# Central Tendency - Mean, Median\n",
    "ct1 = pd.DataFrame( num_attributes.apply( np.mean ) ).T\n",
    "ct2 = pd.DataFrame( num_attributes.apply( np.median ) ).T\n",
    "\n",
    "# dispersion - std, min, max, range, skew, kurtosis\n",
    "d1 = pd.DataFrame( num_attributes.apply( np.std ) ).T \n",
    "d2 = pd.DataFrame( num_attributes.apply( min ) ).T \n",
    "d3 = pd.DataFrame( num_attributes.apply( max ) ).T \n",
    "d4 = pd.DataFrame( num_attributes.apply( lambda x: x.max() - x.min() ) ).T \n",
    "d5 = pd.DataFrame( num_attributes.apply( lambda x: x.skew() ) ).T \n",
    "d6 = pd.DataFrame( num_attributes.apply( lambda x: x.kurtosis() ) ).T \n",
    "\n",
    "# concatenar\n",
    "m = pd.concat( [d2, d3, d4, ct1, ct2, d1, d5, d6] ).T.reset_index()\n",
    "m.columns = ['attributes', 'min', 'max', 'range', 'mean', 'median', 'std', 'skew', 'kurtosis']\n",
    "m"
   ]
  },
  {
   "cell_type": "markdown",
   "id": "402a5dcf",
   "metadata": {},
   "source": [
    "# 2.0. Feature Engineering\n"
   ]
  },
  {
   "cell_type": "code",
   "execution_count": 14,
   "id": "f66b07f4",
   "metadata": {
    "ExecuteTime": {
     "end_time": "2022-01-19T17:23:55.173480Z",
     "start_time": "2022-01-19T17:23:55.150005Z"
    }
   },
   "outputs": [],
   "source": [
    "df2 = df1.copy()"
   ]
  },
  {
   "cell_type": "code",
   "execution_count": 15,
   "id": "bd724b9f",
   "metadata": {
    "ExecuteTime": {
     "end_time": "2022-01-19T17:23:55.185709Z",
     "start_time": "2022-01-19T17:23:55.176036Z"
    }
   },
   "outputs": [
    {
     "data": {
      "text/html": [
       "<div>\n",
       "<style scoped>\n",
       "    .dataframe tbody tr th:only-of-type {\n",
       "        vertical-align: middle;\n",
       "    }\n",
       "\n",
       "    .dataframe tbody tr th {\n",
       "        vertical-align: top;\n",
       "    }\n",
       "\n",
       "    .dataframe thead th {\n",
       "        text-align: right;\n",
       "    }\n",
       "</style>\n",
       "<table border=\"1\" class=\"dataframe\">\n",
       "  <thead>\n",
       "    <tr style=\"text-align: right;\">\n",
       "      <th></th>\n",
       "      <th>id</th>\n",
       "      <th>gender</th>\n",
       "      <th>age</th>\n",
       "      <th>region_code</th>\n",
       "      <th>policy_sales_channel</th>\n",
       "      <th>driving_license</th>\n",
       "      <th>vehicle_age</th>\n",
       "      <th>vehicle_damage</th>\n",
       "      <th>previously_insured</th>\n",
       "      <th>annual_premium</th>\n",
       "      <th>vintage</th>\n",
       "      <th>response</th>\n",
       "    </tr>\n",
       "  </thead>\n",
       "  <tbody>\n",
       "    <tr>\n",
       "      <th>0</th>\n",
       "      <td>7</td>\n",
       "      <td>Male</td>\n",
       "      <td>23</td>\n",
       "      <td>11.00</td>\n",
       "      <td>152.00</td>\n",
       "      <td>1</td>\n",
       "      <td>&lt; 1 Year</td>\n",
       "      <td>Yes</td>\n",
       "      <td>0</td>\n",
       "      <td>23367.00</td>\n",
       "      <td>249</td>\n",
       "      <td>0</td>\n",
       "    </tr>\n",
       "    <tr>\n",
       "      <th>1</th>\n",
       "      <td>13</td>\n",
       "      <td>Female</td>\n",
       "      <td>41</td>\n",
       "      <td>15.00</td>\n",
       "      <td>14.00</td>\n",
       "      <td>1</td>\n",
       "      <td>1-2 Year</td>\n",
       "      <td>No</td>\n",
       "      <td>1</td>\n",
       "      <td>31409.00</td>\n",
       "      <td>221</td>\n",
       "      <td>0</td>\n",
       "    </tr>\n",
       "    <tr>\n",
       "      <th>2</th>\n",
       "      <td>18</td>\n",
       "      <td>Female</td>\n",
       "      <td>25</td>\n",
       "      <td>35.00</td>\n",
       "      <td>152.00</td>\n",
       "      <td>1</td>\n",
       "      <td>&lt; 1 Year</td>\n",
       "      <td>No</td>\n",
       "      <td>1</td>\n",
       "      <td>46622.00</td>\n",
       "      <td>299</td>\n",
       "      <td>0</td>\n",
       "    </tr>\n",
       "    <tr>\n",
       "      <th>3</th>\n",
       "      <td>31</td>\n",
       "      <td>Female</td>\n",
       "      <td>26</td>\n",
       "      <td>8.00</td>\n",
       "      <td>160.00</td>\n",
       "      <td>1</td>\n",
       "      <td>&lt; 1 Year</td>\n",
       "      <td>No</td>\n",
       "      <td>0</td>\n",
       "      <td>2630.00</td>\n",
       "      <td>136</td>\n",
       "      <td>0</td>\n",
       "    </tr>\n",
       "    <tr>\n",
       "      <th>4</th>\n",
       "      <td>39</td>\n",
       "      <td>Male</td>\n",
       "      <td>45</td>\n",
       "      <td>8.00</td>\n",
       "      <td>124.00</td>\n",
       "      <td>1</td>\n",
       "      <td>1-2 Year</td>\n",
       "      <td>Yes</td>\n",
       "      <td>0</td>\n",
       "      <td>42297.00</td>\n",
       "      <td>264</td>\n",
       "      <td>0</td>\n",
       "    </tr>\n",
       "  </tbody>\n",
       "</table>\n",
       "</div>"
      ],
      "text/plain": [
       "   id  gender  age  region_code  policy_sales_channel  driving_license  \\\n",
       "0   7    Male   23        11.00                152.00                1   \n",
       "1  13  Female   41        15.00                 14.00                1   \n",
       "2  18  Female   25        35.00                152.00                1   \n",
       "3  31  Female   26         8.00                160.00                1   \n",
       "4  39    Male   45         8.00                124.00                1   \n",
       "\n",
       "  vehicle_age vehicle_damage  previously_insured  annual_premium  vintage  \\\n",
       "0    < 1 Year            Yes                   0        23367.00      249   \n",
       "1    1-2 Year             No                   1        31409.00      221   \n",
       "2    < 1 Year             No                   1        46622.00      299   \n",
       "3    < 1 Year             No                   0         2630.00      136   \n",
       "4    1-2 Year            Yes                   0        42297.00      264   \n",
       "\n",
       "   response  \n",
       "0         0  \n",
       "1         0  \n",
       "2         0  \n",
       "3         0  \n",
       "4         0  "
      ]
     },
     "execution_count": 15,
     "metadata": {},
     "output_type": "execute_result"
    }
   ],
   "source": [
    "df2.head()"
   ]
  },
  {
   "cell_type": "code",
   "execution_count": 16,
   "id": "c7813e68",
   "metadata": {
    "ExecuteTime": {
     "end_time": "2022-01-19T17:23:55.343620Z",
     "start_time": "2022-01-19T17:23:55.187846Z"
    }
   },
   "outputs": [],
   "source": [
    "# vehicule age\n",
    "df2['vehicle_age'] =  df2['vehicle_age'].apply( lambda x: 'over_2_years' if x == '> 2 Years' else 'between_1_2_year' if x == '1-2 Year' else 'below_1_year' ) \n",
    "\n",
    "# vehiculde damage\n",
    "df2['vehicle_damage'] = df2['vehicle_damage'].map({'Yes' : 1 , 'No' : 0})\n"
   ]
  },
  {
   "cell_type": "markdown",
   "id": "38a62f6c",
   "metadata": {},
   "source": [
    "# 3.0. Data Filtering\n"
   ]
  },
  {
   "cell_type": "code",
   "execution_count": 17,
   "id": "be2f0b4f",
   "metadata": {
    "ExecuteTime": {
     "end_time": "2022-01-19T17:23:55.373086Z",
     "start_time": "2022-01-19T17:23:55.345003Z"
    }
   },
   "outputs": [],
   "source": [
    "df3 = df2.copy()"
   ]
  },
  {
   "cell_type": "markdown",
   "id": "cf185ee4",
   "metadata": {},
   "source": [
    "# 4.0. Exploratoria Data Analysis (EDA)\n"
   ]
  },
  {
   "cell_type": "code",
   "execution_count": 18,
   "id": "8f7c3ab4",
   "metadata": {
    "ExecuteTime": {
     "end_time": "2022-01-19T17:23:55.383809Z",
     "start_time": "2022-01-19T17:23:55.374448Z"
    }
   },
   "outputs": [],
   "source": [
    "df4 = df3.copy()"
   ]
  },
  {
   "cell_type": "markdown",
   "id": "e6e51f2f",
   "metadata": {},
   "source": [
    "## 4.1. Univariate Analysis\n"
   ]
  },
  {
   "cell_type": "code",
   "execution_count": 19,
   "id": "cfa9a39f",
   "metadata": {
    "ExecuteTime": {
     "end_time": "2022-01-19T17:23:55.389000Z",
     "start_time": "2022-01-19T17:23:55.385167Z"
    }
   },
   "outputs": [
    {
     "data": {
      "text/plain": [
       "Index(['id', 'gender', 'age', 'region_code', 'policy_sales_channel',\n",
       "       'driving_license', 'vehicle_age', 'vehicle_damage',\n",
       "       'previously_insured', 'annual_premium', 'vintage', 'response'],\n",
       "      dtype='object')"
      ]
     },
     "execution_count": 19,
     "metadata": {},
     "output_type": "execute_result"
    }
   ],
   "source": [
    "df4.columns"
   ]
  },
  {
   "cell_type": "code",
   "execution_count": 20,
   "id": "38c6d5b5",
   "metadata": {
    "ExecuteTime": {
     "end_time": "2022-01-19T17:23:55.553714Z",
     "start_time": "2022-01-19T17:23:55.390680Z"
    },
    "scrolled": true
   },
   "outputs": [
    {
     "data": {
      "text/plain": [
       "<AxesSubplot:xlabel='response', ylabel='age'>"
      ]
     },
     "execution_count": 20,
     "metadata": {},
     "output_type": "execute_result"
    },
    {
     "data": {
      "image/png": "[encoded data removed]",
      "text/plain": [
       "<Figure size 1800x864 with 1 Axes>"
      ]
     },
     "metadata": {},
     "output_type": "display_data"
    }
   ],
   "source": [
    "# age\n",
    "sns.boxplot(x ='response' , y = 'age' , data=df4)"
   ]
  },
  {
   "cell_type": "code",
   "execution_count": 21,
   "id": "044d3eb7",
   "metadata": {
    "ExecuteTime": {
     "end_time": "2022-01-19T17:23:55.896944Z",
     "start_time": "2022-01-19T17:23:55.555781Z"
    },
    "cell_style": "split",
    "scrolled": true
   },
   "outputs": [
    {
     "data": {
      "text/plain": [
       "<AxesSubplot:xlabel='age', ylabel='Count'>"
      ]
     },
     "execution_count": 21,
     "metadata": {},
     "output_type": "execute_result"
    },
    {
     "data": {
      "image/png": "[encoded data removed]",
      "text/plain": [
       "<Figure size 1800x864 with 1 Axes>"
      ]
     },
     "metadata": {},
     "output_type": "display_data"
    }
   ],
   "source": [
    "aux00 = df4.loc[df4['response'] == 0,'age']\n",
    "sns.histplot(aux00)"
   ]
  },
  {
   "cell_type": "code",
   "execution_count": 22,
   "id": "d9f825f9",
   "metadata": {
    "ExecuteTime": {
     "end_time": "2022-01-19T17:23:56.141993Z",
     "start_time": "2022-01-19T17:23:55.899223Z"
    },
    "cell_style": "split",
    "scrolled": true
   },
   "outputs": [
    {
     "data": {
      "text/plain": [
       "<AxesSubplot:xlabel='age', ylabel='Count'>"
      ]
     },
     "execution_count": 22,
     "metadata": {},
     "output_type": "execute_result"
    },
    {
     "data": {
      "image/png": "[encoded data removed]",
      "text/plain": [
       "<Figure size 1800x864 with 1 Axes>"
      ]
     },
     "metadata": {},
     "output_type": "display_data"
    }
   ],
   "source": [
    "aux00 = df4.loc[df4['response'] == 1,'age']\n",
    "sns.histplot(aux00)"
   ]
  },
  {
   "cell_type": "code",
   "execution_count": 23,
   "id": "51317930",
   "metadata": {
    "ExecuteTime": {
     "end_time": "2022-01-19T17:23:56.320580Z",
     "start_time": "2022-01-19T17:23:56.144396Z"
    }
   },
   "outputs": [
    {
     "data": {
      "text/plain": [
       "<AxesSubplot:xlabel='response', ylabel='annual_premium'>"
      ]
     },
     "execution_count": 23,
     "metadata": {},
     "output_type": "execute_result"
    },
    {
     "data": {
      "image/png": "[encoded data removed]",
      "text/plain": [
       "<Figure size 1800x864 with 1 Axes>"
      ]
     },
     "metadata": {},
     "output_type": "display_data"
    }
   ],
   "source": [
    "# annual_premium\n",
    "\n",
    "aux = df4[df4['annual_premium'] < 80000]\n",
    "sns.boxplot(x ='response' , y = 'annual_premium' , data=aux)\n"
   ]
  },
  {
   "cell_type": "code",
   "execution_count": 24,
   "id": "00e4fae6",
   "metadata": {
    "ExecuteTime": {
     "end_time": "2022-01-19T17:23:56.792995Z",
     "start_time": "2022-01-19T17:23:56.322401Z"
    },
    "cell_style": "split"
   },
   "outputs": [
    {
     "data": {
      "text/plain": [
       "<AxesSubplot:xlabel='annual_premium', ylabel='Count'>"
      ]
     },
     "execution_count": 24,
     "metadata": {},
     "output_type": "execute_result"
    },
    {
     "data": {
      "image/png": "[encoded data removed]",
      "text/plain": [
       "<Figure size 1800x864 with 1 Axes>"
      ]
     },
     "metadata": {},
     "output_type": "display_data"
    }
   ],
   "source": [
    "aux = df4[(df4['annual_premium']  > 10000) & (df4['annual_premium'] < 80000)]\n",
    "aux00 = aux.loc[df4['response'] == 0,'annual_premium']\n",
    "sns.histplot(aux00)"
   ]
  },
  {
   "cell_type": "code",
   "execution_count": 25,
   "id": "fae15198",
   "metadata": {
    "ExecuteTime": {
     "end_time": "2022-01-19T17:23:57.139398Z",
     "start_time": "2022-01-19T17:23:56.795104Z"
    },
    "cell_style": "split"
   },
   "outputs": [
    {
     "data": {
      "text/plain": [
       "<AxesSubplot:xlabel='annual_premium', ylabel='Count'>"
      ]
     },
     "execution_count": 25,
     "metadata": {},
     "output_type": "execute_result"
    },
    {
     "data": {
      "image/png": "[encoded data removed]",
      "text/plain": [
       "<Figure size 1800x864 with 1 Axes>"
      ]
     },
     "metadata": {},
     "output_type": "display_data"
    }
   ],
   "source": [
    "aux = df4[(df4['annual_premium'] > 10000) & (df4['annual_premium'] < 80000)]\n",
    "aux00 = aux.loc[df4['response'] == 1,'annual_premium']\n",
    "sns.histplot(aux00)"
   ]
  },
  {
   "cell_type": "code",
   "execution_count": 26,
   "id": "ddf94ff6",
   "metadata": {
    "ExecuteTime": {
     "end_time": "2022-01-19T17:23:57.160191Z",
     "start_time": "2022-01-19T17:23:57.141296Z"
    }
   },
   "outputs": [],
   "source": [
    "# driving_license\n",
    "\n",
    "aux = df4[['driving_license','response']].groupby('response').sum().reset_index()\n",
    "aux.head()   \n",
    "aux['driving_license_perc'] = aux['driving_license'] / aux['driving_license'].sum()\n",
    "# sns.barplot(x ='response' , y = 'driving_license' , data=aux)\n"
   ]
  },
  {
   "cell_type": "code",
   "execution_count": 27,
   "id": "7143d58f",
   "metadata": {
    "ExecuteTime": {
     "end_time": "2022-01-19T17:23:57.167389Z",
     "start_time": "2022-01-19T17:23:57.162262Z"
    }
   },
   "outputs": [
    {
     "data": {
      "text/html": [
       "<div>\n",
       "<style scoped>\n",
       "    .dataframe tbody tr th:only-of-type {\n",
       "        vertical-align: middle;\n",
       "    }\n",
       "\n",
       "    .dataframe tbody tr th {\n",
       "        vertical-align: top;\n",
       "    }\n",
       "\n",
       "    .dataframe thead th {\n",
       "        text-align: right;\n",
       "    }\n",
       "</style>\n",
       "<table border=\"1\" class=\"dataframe\">\n",
       "  <thead>\n",
       "    <tr style=\"text-align: right;\">\n",
       "      <th></th>\n",
       "      <th>response</th>\n",
       "      <th>driving_license</th>\n",
       "      <th>driving_license_perc</th>\n",
       "    </tr>\n",
       "  </thead>\n",
       "  <tbody>\n",
       "    <tr>\n",
       "      <th>0</th>\n",
       "      <td>0</td>\n",
       "      <td>333628</td>\n",
       "      <td>0.88</td>\n",
       "    </tr>\n",
       "    <tr>\n",
       "      <th>1</th>\n",
       "      <td>1</td>\n",
       "      <td>46669</td>\n",
       "      <td>0.12</td>\n",
       "    </tr>\n",
       "  </tbody>\n",
       "</table>\n",
       "</div>"
      ],
      "text/plain": [
       "   response  driving_license  driving_license_perc\n",
       "0         0           333628                  0.88\n",
       "1         1            46669                  0.12"
      ]
     },
     "execution_count": 27,
     "metadata": {},
     "output_type": "execute_result"
    }
   ],
   "source": [
    "aux"
   ]
  },
  {
   "cell_type": "code",
   "execution_count": 28,
   "id": "2ea48a4c",
   "metadata": {
    "ExecuteTime": {
     "end_time": "2022-01-19T17:23:57.368896Z",
     "start_time": "2022-01-19T17:23:57.171324Z"
    }
   },
   "outputs": [
    {
     "data": {
      "text/plain": [
       "<AxesSubplot:xlabel='region_code', ylabel='id'>"
      ]
     },
     "execution_count": 28,
     "metadata": {},
     "output_type": "execute_result"
    },
    {
     "data": {
      "image/png": "[encoded data removed]",
      "text/plain": [
       "<Figure size 1800x864 with 1 Axes>"
      ]
     },
     "metadata": {},
     "output_type": "display_data"
    }
   ],
   "source": [
    "# region_code\n",
    "\n",
    "aux0 = df4[['id','region_code','response']].groupby(['region_code','response']).count().reset_index()\n",
    "\n",
    "\n",
    "sns.scatterplot(x= 'region_code' , y='id' , hue='response' , data=aux0)"
   ]
  },
  {
   "cell_type": "code",
   "execution_count": 29,
   "id": "5b4a7116",
   "metadata": {
    "ExecuteTime": {
     "end_time": "2022-01-19T17:23:57.403805Z",
     "start_time": "2022-01-19T17:23:57.370653Z"
    }
   },
   "outputs": [
    {
     "data": {
      "text/html": [
       "<div>\n",
       "<style scoped>\n",
       "    .dataframe tbody tr th:only-of-type {\n",
       "        vertical-align: middle;\n",
       "    }\n",
       "\n",
       "    .dataframe tbody tr th {\n",
       "        vertical-align: top;\n",
       "    }\n",
       "\n",
       "    .dataframe thead th {\n",
       "        text-align: right;\n",
       "    }\n",
       "</style>\n",
       "<table border=\"1\" class=\"dataframe\">\n",
       "  <thead>\n",
       "    <tr style=\"text-align: right;\">\n",
       "      <th>response</th>\n",
       "      <th>0</th>\n",
       "      <th>1</th>\n",
       "    </tr>\n",
       "    <tr>\n",
       "      <th>previously_insured</th>\n",
       "      <th></th>\n",
       "      <th></th>\n",
       "    </tr>\n",
       "  </thead>\n",
       "  <tbody>\n",
       "    <tr>\n",
       "      <th>0</th>\n",
       "      <td>0.77</td>\n",
       "      <td>0.23</td>\n",
       "    </tr>\n",
       "    <tr>\n",
       "      <th>1</th>\n",
       "      <td>1.00</td>\n",
       "      <td>0.00</td>\n",
       "    </tr>\n",
       "  </tbody>\n",
       "</table>\n",
       "</div>"
      ],
      "text/plain": [
       "response              0    1\n",
       "previously_insured          \n",
       "0                  0.77 0.23\n",
       "1                  1.00 0.00"
      ]
     },
     "execution_count": 29,
     "metadata": {},
     "output_type": "execute_result"
    }
   ],
   "source": [
    "# previously_insured\n",
    "\n",
    "pd.crosstab(df4['previously_insured'],df4['response'] ).apply(lambda x: x / x.sum() , axis =1)"
   ]
  },
  {
   "cell_type": "code",
   "execution_count": 30,
   "id": "f9a5b1d0",
   "metadata": {
    "ExecuteTime": {
     "end_time": "2022-01-19T17:23:57.444011Z",
     "start_time": "2022-01-19T17:23:57.405606Z"
    },
    "scrolled": true
   },
   "outputs": [
    {
     "data": {
      "text/html": [
       "<div>\n",
       "<style scoped>\n",
       "    .dataframe tbody tr th:only-of-type {\n",
       "        vertical-align: middle;\n",
       "    }\n",
       "\n",
       "    .dataframe tbody tr th {\n",
       "        vertical-align: top;\n",
       "    }\n",
       "\n",
       "    .dataframe thead th {\n",
       "        text-align: right;\n",
       "    }\n",
       "</style>\n",
       "<table border=\"1\" class=\"dataframe\">\n",
       "  <thead>\n",
       "    <tr style=\"text-align: right;\">\n",
       "      <th></th>\n",
       "      <th>vehicle_age</th>\n",
       "      <th>response</th>\n",
       "      <th>0</th>\n",
       "    </tr>\n",
       "  </thead>\n",
       "  <tbody>\n",
       "    <tr>\n",
       "      <th>0</th>\n",
       "      <td>between_1_2_year</td>\n",
       "      <td>0</td>\n",
       "      <td>0.43</td>\n",
       "    </tr>\n",
       "    <tr>\n",
       "      <th>1</th>\n",
       "      <td>below_1_year</td>\n",
       "      <td>0</td>\n",
       "      <td>0.41</td>\n",
       "    </tr>\n",
       "    <tr>\n",
       "      <th>2</th>\n",
       "      <td>between_1_2_year</td>\n",
       "      <td>1</td>\n",
       "      <td>0.09</td>\n",
       "    </tr>\n",
       "    <tr>\n",
       "      <th>3</th>\n",
       "      <td>over_2_years</td>\n",
       "      <td>0</td>\n",
       "      <td>0.03</td>\n",
       "    </tr>\n",
       "    <tr>\n",
       "      <th>4</th>\n",
       "      <td>below_1_year</td>\n",
       "      <td>1</td>\n",
       "      <td>0.02</td>\n",
       "    </tr>\n",
       "    <tr>\n",
       "      <th>5</th>\n",
       "      <td>over_2_years</td>\n",
       "      <td>1</td>\n",
       "      <td>0.01</td>\n",
       "    </tr>\n",
       "  </tbody>\n",
       "</table>\n",
       "</div>"
      ],
      "text/plain": [
       "        vehicle_age  response    0\n",
       "0  between_1_2_year         0 0.43\n",
       "1      below_1_year         0 0.41\n",
       "2  between_1_2_year         1 0.09\n",
       "3      over_2_years         0 0.03\n",
       "4      below_1_year         1 0.02\n",
       "5      over_2_years         1 0.01"
      ]
     },
     "execution_count": 30,
     "metadata": {},
     "output_type": "execute_result"
    }
   ],
   "source": [
    "# vehicle_age\n",
    "\n",
    "df4[['vehicle_age' , 'response']].value_counts(normalize= True).reset_index()\n"
   ]
  },
  {
   "cell_type": "code",
   "execution_count": 34,
   "id": "e511700d",
   "metadata": {
    "ExecuteTime": {
     "end_time": "2022-01-19T20:38:10.757650Z",
     "start_time": "2022-01-19T20:38:09.447241Z"
    }
   },
   "outputs": [
    {
     "data": {
      "text/plain": [
       "<AxesSubplot:xlabel='response', ylabel='policy_sales_channel'>"
      ]
     },
     "execution_count": 34,
     "metadata": {},
     "output_type": "execute_result"
    },
    {
     "data": {
      "image/png": "[encoded data removed]",
      "text/plain": [
       "<Figure size 1800x864 with 1 Axes>"
      ]
     },
     "metadata": {},
     "output_type": "display_data"
    }
   ],
   "source": [
    "# policy_sales_channel\n",
    "\n",
    "aux0 = df4[['policy_sales_channel','response']].groupby('policy_sales_channel').sum().reset_index()\n",
    "sns.barplot(x ='response' , y= 'policy_sales_channel' , data=aux0) "
   ]
  },
  {
   "cell_type": "code",
   "execution_count": 36,
   "id": "3f6e39fa",
   "metadata": {
    "ExecuteTime": {
     "end_time": "2022-01-19T20:42:19.170714Z",
     "start_time": "2022-01-19T20:42:18.947636Z"
    },
    "scrolled": true
   },
   "outputs": [
    {
     "data": {
      "text/plain": [
       "<AxesSubplot:xlabel='response', ylabel='vintage'>"
      ]
     },
     "execution_count": 36,
     "metadata": {},
     "output_type": "execute_result"
    },
    {
     "data": {
      "image/png": "[encoded data removed]",
      "text/plain": [
       "<Figure size 1800x864 with 1 Axes>"
      ]
     },
     "metadata": {},
     "output_type": "display_data"
    }
   ],
   "source": [
    "# vintage\n",
    "\n",
    "\n",
    "sns.boxplot(x ='response' , y = 'vintage' , data=df4)"
   ]
  },
  {
   "cell_type": "code",
   "execution_count": 37,
   "id": "25ae9980",
   "metadata": {
    "ExecuteTime": {
     "end_time": "2022-01-19T20:43:16.685580Z",
     "start_time": "2022-01-19T20:43:16.245973Z"
    },
    "cell_style": "split"
   },
   "outputs": [
    {
     "data": {
      "text/plain": [
       "<AxesSubplot:xlabel='vintage', ylabel='Count'>"
      ]
     },
     "execution_count": 37,
     "metadata": {},
     "output_type": "execute_result"
    },
    {
     "data": {
      "image/png": "[encoded data removed]",
      "text/plain": [
       "<Figure size 1800x864 with 1 Axes>"
      ]
     },
     "metadata": {},
     "output_type": "display_data"
    }
   ],
   "source": [
    "aux00 = df4.loc[df4['response'] == 0,'vintage']\n",
    "sns.histplot(aux00)"
   ]
  },
  {
   "cell_type": "code",
   "execution_count": 39,
   "id": "73364997",
   "metadata": {
    "ExecuteTime": {
     "end_time": "2022-01-19T20:43:47.165292Z",
     "start_time": "2022-01-19T20:43:46.963336Z"
    },
    "cell_style": "split"
   },
   "outputs": [
    {
     "data": {
      "text/plain": [
       "<AxesSubplot:xlabel='vintage', ylabel='Count'>"
      ]
     },
     "execution_count": 39,
     "metadata": {},
     "output_type": "execute_result"
    },
    {
     "data": {
      "image/png": "[encoded data removed]",
      "text/plain": [
       "<Figure size 1800x864 with 1 Axes>"
      ]
     },
     "metadata": {},
     "output_type": "display_data"
    }
   ],
   "source": [
    "aux00 = df4.loc[df4['response'] == 1,'vintage']\n",
    "sns.histplot(aux00)"
   ]
  },
  {
   "cell_type": "markdown",
   "id": "27124c07",
   "metadata": {},
   "source": [
    "## 4.2. Bivariate Analysis\n"
   ]
  },
  {
   "cell_type": "markdown",
   "id": "3b3d213e",
   "metadata": {},
   "source": [
    "# 5.0. Data Preparation\n"
   ]
  },
  {
   "cell_type": "code",
   "execution_count": 57,
   "id": "ef96d4df",
   "metadata": {
    "ExecuteTime": {
     "end_time": "2022-01-19T20:50:19.224361Z",
     "start_time": "2022-01-19T20:50:18.918604Z"
    }
   },
   "outputs": [],
   "source": [
    "df5 = df4.copy()"
   ]
  },
  {
   "cell_type": "code",
   "execution_count": 59,
   "id": "6858dc4c",
   "metadata": {
    "ExecuteTime": {
     "end_time": "2022-01-19T20:50:27.127475Z",
     "start_time": "2022-01-19T20:50:27.119675Z"
    }
   },
   "outputs": [
    {
     "data": {
      "text/plain": [
       "Index(['id', 'gender', 'age', 'region_code', 'policy_sales_channel',\n",
       "       'driving_license', 'vehicle_age', 'vehicle_damage',\n",
       "       'previously_insured', 'annual_premium', 'vintage', 'response'],\n",
       "      dtype='object')"
      ]
     },
     "execution_count": 59,
     "metadata": {},
     "output_type": "execute_result"
    }
   ],
   "source": [
    "df5.columns"
   ]
  },
  {
   "cell_type": "markdown",
   "id": "ff9bfdc3",
   "metadata": {},
   "source": [
    "## 5.1. Standardization\n"
   ]
  },
  {
   "cell_type": "code",
   "execution_count": 61,
   "id": "794a94fb",
   "metadata": {
    "ExecuteTime": {
     "end_time": "2022-01-19T21:07:43.422361Z",
     "start_time": "2022-01-19T21:07:43.419313Z"
    }
   },
   "outputs": [],
   "source": [
    "ss =pp.StandardScaler()\n",
    "\n",
    "# annual_premium\n",
    "df5['annual_premium'] = ss.fit_transform(df5[['annual_premium']].values)"
   ]
  },
  {
   "cell_type": "markdown",
   "id": "98ee59bf",
   "metadata": {},
   "source": [
    "## 5.2. Rescaling\n"
   ]
  },
  {
   "cell_type": "code",
   "execution_count": null,
   "id": "5e879256",
   "metadata": {},
   "outputs": [],
   "source": [
    "mms_age = pp.MinMaxScaler()\n",
    "mms_vintage = pp.MinMaxScaler()\n",
    "\n",
    "# Age\n",
    "df5['age'] = mms_age.fit_transform(df5[['age']].values)\n",
    "\n",
    "# vintage\n",
    "df5['vintage'] = mms_vintage.fit_transform(df5[['vintage']].values)"
   ]
  },
  {
   "cell_type": "markdown",
   "id": "745f56bb",
   "metadata": {},
   "source": [
    "## 5.3. Encoder\n"
   ]
  },
  {
   "cell_type": "code",
   "execution_count": null,
   "id": "7d86bd6e",
   "metadata": {},
   "outputs": [],
   "source": [
    "# region_code - Target Encoding\n",
    "target_encode_region_code = df5.groupby('region_code')['response'].mean()\n",
    "df5.loc[: , 'region_code'] = df5['region_code'].map(target_encode_region_code)\n",
    "\n",
    "# vehicle_age - One Hot Encoding\n",
    "df5 = pd.get_dummies(df5 , prefix= 'vehicle_age', columns=['vehicle_age'])\n",
    "\n",
    "# policy_sales_channel - Frequency Encoding\n",
    "fe_policy_sales_channel = df5.groupby('policy_sales_channel').size() / len(df5)\n",
    "df5.loc[: , 'policy_sales_channel'] = df5['policy_sales_channel'].map(fe_policy_sales_channel)"
   ]
  },
  {
   "cell_type": "markdown",
   "id": "e2716de5",
   "metadata": {},
   "source": [
    "# 6.0. Feature Selection\n"
   ]
  },
  {
   "cell_type": "code",
   "execution_count": null,
   "id": "3697387f",
   "metadata": {},
   "outputs": [],
   "source": []
  },
  {
   "cell_type": "markdown",
   "id": "e12272c3",
   "metadata": {},
   "source": [
    "# 7.0. Machine Learning Modelling\n"
   ]
  },
  {
   "cell_type": "code",
   "execution_count": null,
   "id": "f27ab716",
   "metadata": {},
   "outputs": [],
   "source": []
  },
  {
   "cell_type": "markdown",
   "id": "aa734703",
   "metadata": {},
   "source": [
    "# 8.0. Performance Metrics\n"
   ]
  },
  {
   "cell_type": "code",
   "execution_count": null,
   "id": "75d7d1e3",
   "metadata": {},
   "outputs": [],
   "source": []
  },
  {
   "cell_type": "markdown",
   "id": "3b642844",
   "metadata": {},
   "source": [
    "# 9.0. Deploy to Production\n"
   ]
  },
  {
   "cell_type": "code",
   "execution_count": null,
   "id": "711aeafe",
   "metadata": {},
   "outputs": [],
   "source": []
  }
 ],
 "metadata": {
  "kernelspec": {
   "display_name": "Python 3 (ipykernel)",
   "language": "python",
   "name": "python3"
  },
  "language_info": {
   "codemirror_mode": {
    "name": "ipython",
    "version": 3
   },
   "file_extension": ".py",
   "mimetype": "text/x-python",
   "name": "python",
   "nbconvert_exporter": "python",
   "pygments_lexer": "ipython3",
   "version": "3.9.7"
  },
  "toc": {
   "base_numbering": 1,
   "nav_menu": {},
   "number_sections": false,
   "sideBar": true,
   "skip_h1_title": false,
   "title_cell": "Table of Contents",
   "title_sidebar": "Contents",
   "toc_cell": false,
   "toc_position": {
    "height": "calc(100% - 180px)",
    "left": "10px",
    "top": "150px",
    "width": "165px"
   },
   "toc_section_display": true,
   "toc_window_display": false
  },
  "varInspector": {
   "cols": {
    "lenName": 16,
    "lenType": 16,
    "lenVar": 40
   },
   "kernels_config": {
    "python": {
     "delete_cmd_postfix": "",
     "delete_cmd_prefix": "del ",
     "library": "var_list.py",
     "varRefreshCmd": "print(var_dic_list())"
    },
    "r": {
     "delete_cmd_postfix": ") ",
     "delete_cmd_prefix": "rm(",
     "library": "var_list.r",
     "varRefreshCmd": "cat(var_dic_list()) "
    }
   },
   "types_to_exclude": [
    "module",
    "function",
    "builtin_function_or_method",
    "instance",
    "_Feature"
   ],
   "window_display": false
  }
 },
 "nbformat": 4,
 "nbformat_minor": 5
}
