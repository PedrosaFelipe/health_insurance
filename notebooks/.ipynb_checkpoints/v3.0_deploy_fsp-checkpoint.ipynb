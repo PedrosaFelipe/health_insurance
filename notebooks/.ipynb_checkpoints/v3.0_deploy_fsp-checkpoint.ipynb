{
 "cells": [
  {
   "cell_type": "markdown",
   "id": "6772d591",
   "metadata": {},
   "source": [
    "# PA004: Health Insurance cross sell"
   ]
  },
  {
   "cell_type": "markdown",
   "id": "3f1ae71a",
   "metadata": {},
   "source": [
    "##  Planejamento da solução (IOT)"
   ]
  },
  {
   "cell_type": "markdown",
   "id": "bca35802",
   "metadata": {},
   "source": [
    "### Database"
   ]
  },
  {
   "cell_type": "markdown",
   "id": "a5f65687",
   "metadata": {},
   "source": [
    "Information about customers who participate in a survey by answering whether they would be interested in car insurance."
   ]
  },
  {
   "cell_type": "markdown",
   "id": "414af785",
   "metadata": {},
   "source": [
    "### Input"
   ]
  },
  {
   "cell_type": "markdown",
   "id": "b1f7bc08",
   "metadata": {},
   "source": [
    "1. Build a model to order customers most likely to buy vehicle insurance."
   ]
  },
  {
   "cell_type": "markdown",
   "id": "efac99a0",
   "metadata": {},
   "source": [
    "### Business Questions"
   ]
  },
  {
   "cell_type": "markdown",
   "id": "6b94a8cc",
   "metadata": {},
   "source": [
    "1. Main Insights on the most relevant attributes of customers interested in purchasing auto insurance.\n",
    "\n",
    "\n",
    "\n",
    "\n",
    "2. What percentage of customers interested in purchasing auto insurance will the sales team be able to contact by making 20,000 calls?\n",
    "\n",
    "\n",
    "\n",
    "\n",
    "\n",
    "3. If the sales team capacity increases to 40,000 calls, what percentage of customers interested in purchasing auto insurance will the sales team be able to contact?\n",
    "\n",
    "\n",
    "\n",
    "\n",
    "\n",
    "\n",
    "4. How many calls does the sales team need to make to contact 80% of customers interested in purchasing auto insurance?"
   ]
  },
  {
   "cell_type": "markdown",
   "id": "1df47000",
   "metadata": {},
   "source": [
    "### Output"
   ]
  },
  {
   "cell_type": "markdown",
   "id": "f8de0ea8",
   "metadata": {},
   "source": [
    "1. Customers interested in car insurance for the sales team to call.\n",
    "\n",
    "       Customer Id |   interest % \n",
    "           01      |     0.99\n",
    "           02      |     0.97\n",
    "           03      |     0.90\n",
    "    \n",
    "2. Report with business Questions"
   ]
  },
  {
   "cell_type": "markdown",
   "id": "9b253639",
   "metadata": {},
   "source": [
    "### Tasks"
   ]
  },
  {
   "cell_type": "markdown",
   "id": "e25f237a",
   "metadata": {},
   "source": [
    "  1. Model to rank customers by higher interest in car insurance\n",
    "  \n",
    "  \n",
    "  \n",
    "  \n",
    "\n",
    "  2. Exploratory Data Analysis Report about the top feature importance\n",
    "\n",
    "\n",
    "\n",
    "\n",
    "\n",
    "  3. The number of customers interested in car insurance"
   ]
  },
  {
   "cell_type": "markdown",
   "id": "59d486c7",
   "metadata": {},
   "source": [
    "# 0.0. IMPORTS"
   ]
  },
  {
   "cell_type": "code",
   "execution_count": 101,
   "id": "57c09673",
   "metadata": {
    "ExecuteTime": {
     "end_time": "2022-01-24T18:18:38.974000Z",
     "start_time": "2022-01-24T18:18:38.892947Z"
    }
   },
   "outputs": [],
   "source": [
    "import pickle \n",
    "import requests\n",
    "import os\n",
    "\n",
    "\n",
    "import seaborn                                                     as sns\n",
    "import pandas                                                      as pd\n",
    "import psycopg2                                                    as pg\n",
    "import numpy                                                       as np\n",
    "import scikitplot                                                  as skplt\n",
    "\n",
    "from matplotlib                    import pyplot                   as plt\n",
    "\n",
    "\n",
    "from IPython.core.display          import HTML\n",
    "\n",
    "# machine learning\n",
    "\n",
    "from sklearn                       import preprocessing            as pp\n",
    "from sklearn                       import model_selection          as ms\n",
    "from sklearn                       import ensemble                 as en\n",
    "from sklearn                       import neighbors                as nk   \n",
    "from sklearn                       import linear_model             as lm\n",
    "from catboost                      import CatBoostClassifier       as cb\n",
    "\n",
    "# metrics\n",
    "from scikitplot.metrics            import plot_lift_curve, plot_cumulative_gain\n",
    "from sklearn.metrics               import roc_auc_score\n",
    "\n",
    "\n",
    "from flask                        import Flask, request, Response\n",
    "from dotenv                       import load_dotenv, find_dotenv\n",
    "\n",
    "\n",
    "import warnings\n",
    "\n",
    "warnings.filterwarnings(\"ignore\")"
   ]
  },
  {
   "cell_type": "markdown",
   "id": "ff923c9c",
   "metadata": {},
   "source": [
    "## 0.1 Loading Data - Postgres"
   ]
  },
  {
   "cell_type": "code",
   "execution_count": 2,
   "id": "a22634ba",
   "metadata": {
    "ExecuteTime": {
     "end_time": "2022-01-24T18:18:47.688108Z",
     "start_time": "2022-01-24T18:18:47.684718Z"
    }
   },
   "outputs": [],
   "source": [
    "path = '/home/felipepedrosa/projetos/health_insurance'"
   ]
  },
  {
   "cell_type": "code",
   "execution_count": 102,
   "id": "e711b2a7",
   "metadata": {},
   "outputs": [
    {
     "data": {
      "text/plain": [
       "True"
      ]
     },
     "execution_count": 102,
     "metadata": {},
     "output_type": "execute_result"
    }
   ],
   "source": [
    "load_dotenv(find_dotenv())\n"
   ]
  },
  {
   "cell_type": "code",
   "execution_count": 103,
   "id": "676e1a7c",
   "metadata": {},
   "outputs": [],
   "source": [
    "# credentials\n",
    "HOST     = os.environ.get( 'DB_HOST' )\n",
    "PORT     = os.environ.get( 'DB_PORT' ) \n",
    "DATABASE = os.environ.get( 'DB_DATABASE' )\n",
    "USERNAME = os.environ.get( 'DB_USERNAME' ) \n",
    "PASSWORD = os.environ.get( 'DB_PASSWORD' )"
   ]
  },
  {
   "cell_type": "code",
   "execution_count": 5,
   "id": "98bdce9c",
   "metadata": {
    "ExecuteTime": {
     "end_time": "2022-01-24T18:18:47.706657Z",
     "start_time": "2022-01-24T18:18:47.701855Z"
    }
   },
   "outputs": [],
   "source": [
    "# conn = pg.connect(user = USERNAME, password = PASSWORD, host = HOST, port = PORT, database = DATABASE)\n",
    "\n",
    "# query_schema = '''\n",
    "#     SELECT *\n",
    "#     FROM pa004.users u  INNER JOIN pa004.vehicle v on (u.id = v.id)\n",
    "#                         INNER JOIN pa004.insurance i on (u.id = i.id)\n",
    "# '''\n",
    "\n",
    "# df_raw = pd.read_sql(query_schema, conn)\n",
    "\n",
    "# conn.close()\n",
    "\n",
    "# df_raw.to_pickle(path + '/data/raw/df_raw.pkl')"
   ]
  },
  {
   "cell_type": "code",
   "execution_count": 6,
   "id": "5896204b",
   "metadata": {
    "ExecuteTime": {
     "end_time": "2022-01-24T18:18:47.876177Z",
     "start_time": "2022-01-24T18:18:47.708515Z"
    }
   },
   "outputs": [],
   "source": [
    "df1 = pd.read_pickle(path + '/data/raw/df_raw.pkl') "
   ]
  },
  {
   "cell_type": "markdown",
   "id": "20e6e033",
   "metadata": {},
   "source": [
    "## 0.2 Helper Functions"
   ]
  },
  {
   "cell_type": "code",
   "execution_count": 7,
   "id": "5cb0f10d",
   "metadata": {
    "ExecuteTime": {
     "end_time": "2022-01-24T18:18:47.888717Z",
     "start_time": "2022-01-24T18:18:47.877403Z"
    }
   },
   "outputs": [
    {
     "data": {
      "text/html": [
       "<style>.container{width:100% !important;}</style>"
      ],
      "text/plain": [
       "<IPython.core.display.HTML object>"
      ]
     },
     "metadata": {},
     "output_type": "display_data"
    }
   ],
   "source": [
    "def my_settings():\n",
    "    %matplotlib inline\n",
    "    \n",
    "    # plotly settings\n",
    "    plt.style.use( 'ggplot' )\n",
    "    plt.rcParams['figure.figsize'] = [25, 12]\n",
    "    plt.rcParams['font.size'] = 8\n",
    " \n",
    "    # notebook settings\n",
    "    display(HTML('<style>.container{width:100% !important;}</style>'))\n",
    "    np.set_printoptions(suppress=True)\n",
    "    pd.set_option('display.float_format', '{:.8f}'.format)\n",
    "    \n",
    "    # seaborn settings\n",
    "    sns.set(rc={'figure.figsize':(25,12)})\n",
    "    sns.set_theme(style = 'darkgrid', font_scale = 1)\n",
    "my_settings()"
   ]
  },
  {
   "cell_type": "code",
   "execution_count": 8,
   "id": "8f85bfbb",
   "metadata": {},
   "outputs": [],
   "source": [
    "def descriptive_stats(df): \n",
    "    # Central Tendency - Mean, Median\n",
    "    ct1 = pd.DataFrame( num_attributes.apply( np.mean ) ).T\n",
    "    ct2 = pd.DataFrame( num_attributes.apply( np.median ) ).T\n",
    "\n",
    "    # dispersion - std, min, max, range, skew, kurtosis\n",
    "    d1 = pd.DataFrame( num_attributes.apply( np.std ) ).T \n",
    "    d2 = pd.DataFrame( num_attributes.apply( min ) ).T \n",
    "    d3 = pd.DataFrame( num_attributes.apply( max ) ).T \n",
    "    d4 = pd.DataFrame( num_attributes.apply( lambda x: x.max() - x.min() ) ).T \n",
    "    d5 = pd.DataFrame( num_attributes.apply( lambda x: x.skew() ) ).T \n",
    "    d6 = pd.DataFrame( num_attributes.apply( lambda x: x.kurtosis() ) ).T \n",
    "\n",
    "    # concatenar\n",
    "    m = pd.concat( [d2, d3, d4, ct1, ct2, d1, d5, d6] ).T.reset_index()\n",
    "    m.columns = ['attributes', 'min', 'max', 'range', 'mean', 'median', 'std', 'skew', 'kurtosis']\n",
    "    \n",
    "    return m"
   ]
  },
  {
   "cell_type": "code",
   "execution_count": 9,
   "id": "3a259a6f",
   "metadata": {
    "ExecuteTime": {
     "end_time": "2022-01-24T18:18:47.896337Z",
     "start_time": "2022-01-24T18:18:47.891322Z"
    }
   },
   "outputs": [],
   "source": [
    "def precision_at_k( data, k=2000 ):\n",
    "    # reset index\n",
    "    data = data.reset_index( drop=True )\n",
    "\n",
    "    # create ranking order\n",
    "    data['ranking'] = data.index + 1 \n",
    "\n",
    "    data['precision_at_k'] = data['response'].cumsum() / data['ranking']\n",
    "\n",
    "    return data.loc[k, 'precision_at_k']\n",
    "\n",
    "def recall_at_k( data, k=2000 ):\n",
    "    # reset index\n",
    "    data = data.reset_index( drop=True )\n",
    "\n",
    "    # create ranking order\n",
    "    data['ranking'] = data.index + 1 \n",
    "\n",
    "    data['recall_at_k'] = data['response'].cumsum() / data['response'].sum()\n",
    "\n",
    "    return data.loc[k, 'recall_at_k']"
   ]
  },
  {
   "cell_type": "code",
   "execution_count": 10,
   "id": "0e0cf6db",
   "metadata": {},
   "outputs": [],
   "source": [
    "# Metrics @ k\n",
    "\n",
    "def metrics_at_k(data, model, x_train, y_train, x_val, y_val, sort=True, verbose=False):\n",
    "    \n",
    "    if sort:\n",
    "        model = sorted(model, key=lambda x: type(x).__name__)\n",
    "\n",
    "    model_df = []\n",
    "    trained_models = []\n",
    "    i = 1\n",
    "    j = len(model)\n",
    "    for m in model:\n",
    "        m_name = type(m).__name__\n",
    "        if verbose:\n",
    "            print(f\"ML - Training model {i}/{j} -> \" + m_name + \"...\" )\n",
    "        m.fit(x_train, y_train)\n",
    "\n",
    "        trained_models.append(m)\n",
    "\n",
    "        # probabilities prediction\n",
    "        yhat = m.predict_proba(x_val)\n",
    "\n",
    "        # copy data\n",
    "        data = x_val.copy()\n",
    "        data['response'] = y_val.copy()\n",
    "\n",
    "        # propensity score\n",
    "        data['score'] = yhat[:, 1].tolist()\n",
    "\n",
    "        # sort clients by propensity score\n",
    "        data = data.sort_values('score', ascending=False)\n",
    "\n",
    "        precision = precision_at_k(data)\n",
    "        recall = recall_at_k(data)\n",
    "\n",
    "        i += 1\n",
    "\n",
    "        df = pd.DataFrame({'Model_Name': m_name, 'Precision@K': precision,\n",
    "                           'Recall@K': recall}, index=[0]).sort_values('Precision@K', ascending=False)\n",
    "\n",
    "        model_df.append(df)\n",
    "        final_model = pd.concat(model_df)\n",
    "    return final_model.sort_values(by='Precision@K', ascending=False).round(4), trained_models"
   ]
  },
  {
   "cell_type": "code",
   "execution_count": 11,
   "id": "d1078cf5",
   "metadata": {},
   "outputs": [],
   "source": [
    "# cross validation\n",
    "def cross_validation( data, model, x_train, y_train, k, sort=True, verbose=False ):\n",
    "    if sort:\n",
    "        model = sorted(model, key=lambda x: type(x).__name__)\n",
    "\n",
    "    kfold = ms.StratifiedKFold(n_splits=k, shuffle=True, random_state=17)\n",
    "    precision_list = []\n",
    "    recall_list = []\n",
    "    model_df = []\n",
    "    j = 1\n",
    "    l = len(model)\n",
    "\n",
    "    for m in model:\n",
    "        i = 1\n",
    "        m_name = type(m).__name__\n",
    "        if verbose:\n",
    "            print(f\"CV - Folding model {j}/{l} -> \" + m_name + \"...\" )\n",
    "        for train_cv, val_cv in kfold.split(x_train, y_train):\n",
    "            if verbose:\n",
    "                print(f'Fold Number {i}/{k}')\n",
    "            x_train_fold = x_train.iloc[train_cv]\n",
    "            y_train_fold = y_train.iloc[train_cv]\n",
    "            x_val_fold = x_train.iloc[val_cv]\n",
    "            y_val_fold = y_train.iloc[val_cv]\n",
    "\n",
    "            model_fit = m.fit(x_train_fold, y_train_fold)\n",
    "            yhat = m.predict_proba(x_val_fold)\n",
    "\n",
    "            data = x_val_fold.copy()\n",
    "            data['response'] = y_val_fold.copy()\n",
    "            data['score'] = yhat[:, 1].tolist()\n",
    "            data = data.sort_values('score', ascending=False)\n",
    "\n",
    "            precision = precision_at_k(data)\n",
    "            precision_list.append(precision)\n",
    "\n",
    "            recall = recall_at_k(data)\n",
    "            recall_list.append(recall)\n",
    "\n",
    "            i += 1\n",
    "\n",
    "        df = pd.DataFrame({'Model_Name': m_name,\n",
    "                           'Precision@K Mean': np.mean(precision_list).round(4),\n",
    "                           'Precision@K STD': np.std(precision_list).round(4),\n",
    "                           'Recall@K Mean': np.mean(recall_list).round(4),\n",
    "                           'Recall@K STD': np.std(recall_list).round(4)}, index=[0])\n",
    "        j += 1\n",
    "        model_df.append(df)\n",
    "        final_model = pd.concat(model_df)\n",
    "\n",
    "    return final_model"
   ]
  },
  {
   "cell_type": "code",
   "execution_count": 12,
   "id": "f7e6163a",
   "metadata": {},
   "outputs": [],
   "source": [
    " # Plot cumulative Gain Curve & Lift Curve\n",
    "def plot_cgc_lc(model, x_train, y_train, x_val, sort=True, fit=True, verbose=False ):\n",
    "    if sort:\n",
    "        model = sorted(model, key=lambda x: type(x).__name__)\n",
    "    i = 1\n",
    "    j = len(model)\n",
    "    for m in model:\n",
    "        m_name = type(m).__name__\n",
    "        if verbose: \n",
    "            print(f\"Calulating curve for model {i}/{j} -> \" + m_name + \"...\" )\n",
    "        if fit:\n",
    "            if verbose:\n",
    "                print(f\"Training model ... \")\n",
    "            m.fit(x_train, y_train)\n",
    "                \n",
    "        # probabilities prediction\n",
    "        yhat_model = m.predict_proba(x_val)\n",
    "        fig, axs = plt.subplots(ncols=2, figsize=(20,6))\n",
    "        plot_cumulative_gain(y_val, yhat_model, ax=axs[0], text_fontsize='small', title='Cumulative Gain Curve - ' + m_name) # Cumulative Gain Curve\n",
    "        plot_lift_curve(y_val, yhat_model, ax=axs[1], text_fontsize='small', title='Lift Curve - ' + m_name); # Lift curve\n",
    "        i += 1"
   ]
  },
  {
   "cell_type": "markdown",
   "id": "41cc3628",
   "metadata": {},
   "source": [
    "# 1.0. Data Description\n"
   ]
  },
  {
   "cell_type": "markdown",
   "id": "92f1cda6",
   "metadata": {},
   "source": [
    "    id:                  Unique ID for the customer\n",
    "    gender:              Gender of the customer\n",
    "    age:                 Age of the customer\n",
    "    driving_license:     0 - Customer does not have DL / 1 - Customer already has DL\n",
    "    region_code:         Unique code for the region of the customer\n",
    "    previously_insured:  1 - Customer already has Vehicle Insurance / 0 - Customer doesn't have Vehicle Insurance\n",
    "    vehicle_age:         age of the Vehicle\n",
    "    vehicle_damage:      1 - Customer got his/her vehicle damaged in the past / 0 - Customer didn't get his/her vehicle damaged in the past.\n",
    "    annual_premium:      The amount customer needs to pay as premium in the year\n",
    "    policy_sales_hannel: Anonymized Code for the channel of outreaching to the customer id. Different Agents, Over Mail, Over Phone, In Person, etc.\n",
    "    vintage:             Number of Days, Customer has been associated with the company\n",
    "    response:            1 - Customer is interested / 0 - Customer is not interested}"
   ]
  },
  {
   "cell_type": "markdown",
   "id": "7f1d1ed8",
   "metadata": {},
   "source": [
    "## 1.1. Organize columns"
   ]
  },
  {
   "cell_type": "code",
   "execution_count": 13,
   "id": "9a8bd25d",
   "metadata": {
    "ExecuteTime": {
     "end_time": "2022-01-24T18:18:47.939657Z",
     "start_time": "2022-01-24T18:18:47.898359Z"
    }
   },
   "outputs": [],
   "source": [
    " # removing duplicated columns\n",
    "df1 = df1.loc[:, ~ df1.columns.duplicated()]"
   ]
  },
  {
   "cell_type": "markdown",
   "id": "5827bb94",
   "metadata": {},
   "source": [
    "## 1.2. Data Dimensions"
   ]
  },
  {
   "cell_type": "code",
   "execution_count": 14,
   "id": "11236903",
   "metadata": {
    "ExecuteTime": {
     "end_time": "2022-01-24T18:18:47.945105Z",
     "start_time": "2022-01-24T18:18:47.941799Z"
    }
   },
   "outputs": [
    {
     "name": "stdout",
     "output_type": "stream",
     "text": [
      "Number of Rows: 381109\n",
      "Number of Cols: 12\n"
     ]
    }
   ],
   "source": [
    "print( 'Number of Rows: {}'.format( df1.shape[0] ) )\n",
    "print( 'Number of Cols: {}'.format( df1.shape[1] ) )"
   ]
  },
  {
   "cell_type": "markdown",
   "id": "fefd728d",
   "metadata": {},
   "source": [
    "## 1.3. Data Types"
   ]
  },
  {
   "cell_type": "code",
   "execution_count": 15,
   "id": "bdb4b807",
   "metadata": {
    "ExecuteTime": {
     "end_time": "2022-01-24T18:18:47.953522Z",
     "start_time": "2022-01-24T18:18:47.948172Z"
    }
   },
   "outputs": [
    {
     "data": {
      "text/plain": [
       "id                        int64\n",
       "gender                   object\n",
       "age                       int64\n",
       "region_code             float64\n",
       "policy_sales_channel    float64\n",
       "driving_license           int64\n",
       "vehicle_age              object\n",
       "vehicle_damage           object\n",
       "previously_insured        int64\n",
       "annual_premium          float64\n",
       "vintage                   int64\n",
       "response                  int64\n",
       "dtype: object"
      ]
     },
     "execution_count": 15,
     "metadata": {},
     "output_type": "execute_result"
    }
   ],
   "source": [
    "df1.dtypes "
   ]
  },
  {
   "cell_type": "markdown",
   "id": "5a9c8cc9",
   "metadata": {},
   "source": [
    "## 1.4. Check NA"
   ]
  },
  {
   "cell_type": "code",
   "execution_count": 16,
   "id": "0ba4a306",
   "metadata": {
    "ExecuteTime": {
     "end_time": "2022-01-24T18:18:47.998633Z",
     "start_time": "2022-01-24T18:18:47.955161Z"
    }
   },
   "outputs": [
    {
     "data": {
      "text/plain": [
       "id                      0\n",
       "gender                  0\n",
       "age                     0\n",
       "region_code             0\n",
       "policy_sales_channel    0\n",
       "driving_license         0\n",
       "vehicle_age             0\n",
       "vehicle_damage          0\n",
       "previously_insured      0\n",
       "annual_premium          0\n",
       "vintage                 0\n",
       "response                0\n",
       "dtype: int64"
      ]
     },
     "execution_count": 16,
     "metadata": {},
     "output_type": "execute_result"
    }
   ],
   "source": [
    "df1.isna().sum() "
   ]
  },
  {
   "cell_type": "markdown",
   "id": "768e3b78",
   "metadata": {},
   "source": [
    "## 1.5. Data Descriptive"
   ]
  },
  {
   "cell_type": "code",
   "execution_count": 17,
   "id": "19cf9e06",
   "metadata": {
    "ExecuteTime": {
     "end_time": "2022-01-24T18:18:48.022241Z",
     "start_time": "2022-01-24T18:18:48.000577Z"
    }
   },
   "outputs": [],
   "source": [
    "num_attributes = df1.select_dtypes(include=['int64', 'float64'])\n",
    "cat_attributes = df1.select_dtypes(exclude=['int64', 'float64','datetime64[ns]'])"
   ]
  },
  {
   "cell_type": "markdown",
   "id": "a5b1f33d",
   "metadata": {},
   "source": [
    "### 1.5.1 Numerical Attributes\n"
   ]
  },
  {
   "cell_type": "code",
   "execution_count": 18,
   "id": "e6687295",
   "metadata": {
    "ExecuteTime": {
     "end_time": "2022-01-24T18:18:48.466379Z",
     "start_time": "2022-01-24T18:18:48.023960Z"
    }
   },
   "outputs": [
    {
     "data": {
      "text/html": [
       "<div>\n",
       "<style scoped>\n",
       "    .dataframe tbody tr th:only-of-type {\n",
       "        vertical-align: middle;\n",
       "    }\n",
       "\n",
       "    .dataframe tbody tr th {\n",
       "        vertical-align: top;\n",
       "    }\n",
       "\n",
       "    .dataframe thead th {\n",
       "        text-align: right;\n",
       "    }\n",
       "</style>\n",
       "<table border=\"1\" class=\"dataframe\">\n",
       "  <thead>\n",
       "    <tr style=\"text-align: right;\">\n",
       "      <th></th>\n",
       "      <th>attributes</th>\n",
       "      <th>min</th>\n",
       "      <th>max</th>\n",
       "      <th>range</th>\n",
       "      <th>mean</th>\n",
       "      <th>median</th>\n",
       "      <th>std</th>\n",
       "      <th>skew</th>\n",
       "      <th>kurtosis</th>\n",
       "    </tr>\n",
       "  </thead>\n",
       "  <tbody>\n",
       "    <tr>\n",
       "      <th>0</th>\n",
       "      <td>id</td>\n",
       "      <td>1.00000000</td>\n",
       "      <td>381109.00000000</td>\n",
       "      <td>381108.00000000</td>\n",
       "      <td>190555.00000000</td>\n",
       "      <td>190555.00000000</td>\n",
       "      <td>110016.69186992</td>\n",
       "      <td>-0.00000000</td>\n",
       "      <td>-1.20000000</td>\n",
       "    </tr>\n",
       "    <tr>\n",
       "      <th>1</th>\n",
       "      <td>age</td>\n",
       "      <td>20.00000000</td>\n",
       "      <td>85.00000000</td>\n",
       "      <td>65.00000000</td>\n",
       "      <td>38.82258357</td>\n",
       "      <td>36.00000000</td>\n",
       "      <td>15.51159067</td>\n",
       "      <td>0.67253900</td>\n",
       "      <td>-0.56565507</td>\n",
       "    </tr>\n",
       "    <tr>\n",
       "      <th>2</th>\n",
       "      <td>region_code</td>\n",
       "      <td>0.00000000</td>\n",
       "      <td>52.00000000</td>\n",
       "      <td>52.00000000</td>\n",
       "      <td>26.38880740</td>\n",
       "      <td>28.00000000</td>\n",
       "      <td>13.22987067</td>\n",
       "      <td>-0.11526641</td>\n",
       "      <td>-0.86785712</td>\n",
       "    </tr>\n",
       "    <tr>\n",
       "      <th>3</th>\n",
       "      <td>policy_sales_channel</td>\n",
       "      <td>1.00000000</td>\n",
       "      <td>163.00000000</td>\n",
       "      <td>162.00000000</td>\n",
       "      <td>112.03429465</td>\n",
       "      <td>133.00000000</td>\n",
       "      <td>54.20392366</td>\n",
       "      <td>-0.90000812</td>\n",
       "      <td>-0.97081018</td>\n",
       "    </tr>\n",
       "    <tr>\n",
       "      <th>4</th>\n",
       "      <td>driving_license</td>\n",
       "      <td>0.00000000</td>\n",
       "      <td>1.00000000</td>\n",
       "      <td>1.00000000</td>\n",
       "      <td>0.99786938</td>\n",
       "      <td>1.00000000</td>\n",
       "      <td>0.04610948</td>\n",
       "      <td>-21.59518153</td>\n",
       "      <td>464.35430215</td>\n",
       "    </tr>\n",
       "    <tr>\n",
       "      <th>5</th>\n",
       "      <td>previously_insured</td>\n",
       "      <td>0.00000000</td>\n",
       "      <td>1.00000000</td>\n",
       "      <td>1.00000000</td>\n",
       "      <td>0.45821012</td>\n",
       "      <td>0.00000000</td>\n",
       "      <td>0.49825055</td>\n",
       "      <td>0.16774712</td>\n",
       "      <td>-1.97187125</td>\n",
       "    </tr>\n",
       "    <tr>\n",
       "      <th>6</th>\n",
       "      <td>annual_premium</td>\n",
       "      <td>2630.00000000</td>\n",
       "      <td>540165.00000000</td>\n",
       "      <td>537535.00000000</td>\n",
       "      <td>30564.38958146</td>\n",
       "      <td>31669.00000000</td>\n",
       "      <td>17213.13247397</td>\n",
       "      <td>1.76608721</td>\n",
       "      <td>34.00456870</td>\n",
       "    </tr>\n",
       "    <tr>\n",
       "      <th>7</th>\n",
       "      <td>vintage</td>\n",
       "      <td>10.00000000</td>\n",
       "      <td>299.00000000</td>\n",
       "      <td>289.00000000</td>\n",
       "      <td>154.34739668</td>\n",
       "      <td>154.00000000</td>\n",
       "      <td>83.67119385</td>\n",
       "      <td>0.00302952</td>\n",
       "      <td>-1.20068804</td>\n",
       "    </tr>\n",
       "    <tr>\n",
       "      <th>8</th>\n",
       "      <td>response</td>\n",
       "      <td>0.00000000</td>\n",
       "      <td>1.00000000</td>\n",
       "      <td>1.00000000</td>\n",
       "      <td>0.12256336</td>\n",
       "      <td>0.00000000</td>\n",
       "      <td>0.32793533</td>\n",
       "      <td>2.30190580</td>\n",
       "      <td>3.29878763</td>\n",
       "    </tr>\n",
       "  </tbody>\n",
       "</table>\n",
       "</div>"
      ],
      "text/plain": [
       "             attributes           min             max           range  \\\n",
       "0                    id    1.00000000 381109.00000000 381108.00000000   \n",
       "1                   age   20.00000000     85.00000000     65.00000000   \n",
       "2           region_code    0.00000000     52.00000000     52.00000000   \n",
       "3  policy_sales_channel    1.00000000    163.00000000    162.00000000   \n",
       "4       driving_license    0.00000000      1.00000000      1.00000000   \n",
       "5    previously_insured    0.00000000      1.00000000      1.00000000   \n",
       "6        annual_premium 2630.00000000 540165.00000000 537535.00000000   \n",
       "7               vintage   10.00000000    299.00000000    289.00000000   \n",
       "8              response    0.00000000      1.00000000      1.00000000   \n",
       "\n",
       "             mean          median             std         skew     kurtosis  \n",
       "0 190555.00000000 190555.00000000 110016.69186992  -0.00000000  -1.20000000  \n",
       "1     38.82258357     36.00000000     15.51159067   0.67253900  -0.56565507  \n",
       "2     26.38880740     28.00000000     13.22987067  -0.11526641  -0.86785712  \n",
       "3    112.03429465    133.00000000     54.20392366  -0.90000812  -0.97081018  \n",
       "4      0.99786938      1.00000000      0.04610948 -21.59518153 464.35430215  \n",
       "5      0.45821012      0.00000000      0.49825055   0.16774712  -1.97187125  \n",
       "6  30564.38958146  31669.00000000  17213.13247397   1.76608721  34.00456870  \n",
       "7    154.34739668    154.00000000     83.67119385   0.00302952  -1.20068804  \n",
       "8      0.12256336      0.00000000      0.32793533   2.30190580   3.29878763  "
      ]
     },
     "execution_count": 18,
     "metadata": {},
     "output_type": "execute_result"
    }
   ],
   "source": [
    "descriptive_stats(num_attributes)"
   ]
  },
  {
   "cell_type": "markdown",
   "id": "402a5dcf",
   "metadata": {},
   "source": [
    "# 2.0. Feature Engineering\n"
   ]
  },
  {
   "cell_type": "code",
   "execution_count": 19,
   "id": "f66b07f4",
   "metadata": {
    "ExecuteTime": {
     "end_time": "2022-01-24T18:18:48.496388Z",
     "start_time": "2022-01-24T18:18:48.468220Z"
    }
   },
   "outputs": [],
   "source": [
    "df2 = df1.copy()"
   ]
  },
  {
   "cell_type": "code",
   "execution_count": 97,
   "id": "bd724b9f",
   "metadata": {
    "ExecuteTime": {
     "end_time": "2022-01-24T18:18:48.508219Z",
     "start_time": "2022-01-24T18:18:48.498079Z"
    }
   },
   "outputs": [
    {
     "data": {
      "text/html": [
       "<div>\n",
       "<style scoped>\n",
       "    .dataframe tbody tr th:only-of-type {\n",
       "        vertical-align: middle;\n",
       "    }\n",
       "\n",
       "    .dataframe tbody tr th {\n",
       "        vertical-align: top;\n",
       "    }\n",
       "\n",
       "    .dataframe thead th {\n",
       "        text-align: right;\n",
       "    }\n",
       "</style>\n",
       "<table border=\"1\" class=\"dataframe\">\n",
       "  <thead>\n",
       "    <tr style=\"text-align: right;\">\n",
       "      <th></th>\n",
       "      <th>id</th>\n",
       "      <th>gender</th>\n",
       "      <th>age</th>\n",
       "      <th>region_code</th>\n",
       "      <th>policy_sales_channel</th>\n",
       "      <th>driving_license</th>\n",
       "      <th>vehicle_age</th>\n",
       "      <th>vehicle_damage</th>\n",
       "      <th>previously_insured</th>\n",
       "      <th>annual_premium</th>\n",
       "      <th>vintage</th>\n",
       "      <th>response</th>\n",
       "    </tr>\n",
       "  </thead>\n",
       "  <tbody>\n",
       "    <tr>\n",
       "      <th>0</th>\n",
       "      <td>7</td>\n",
       "      <td>Male</td>\n",
       "      <td>23</td>\n",
       "      <td>11.00000000</td>\n",
       "      <td>152.00000000</td>\n",
       "      <td>1</td>\n",
       "      <td>0</td>\n",
       "      <td>1</td>\n",
       "      <td>0</td>\n",
       "      <td>23367.00000000</td>\n",
       "      <td>249</td>\n",
       "      <td>0</td>\n",
       "    </tr>\n",
       "    <tr>\n",
       "      <th>1</th>\n",
       "      <td>13</td>\n",
       "      <td>Female</td>\n",
       "      <td>41</td>\n",
       "      <td>15.00000000</td>\n",
       "      <td>14.00000000</td>\n",
       "      <td>1</td>\n",
       "      <td>1</td>\n",
       "      <td>0</td>\n",
       "      <td>1</td>\n",
       "      <td>31409.00000000</td>\n",
       "      <td>221</td>\n",
       "      <td>0</td>\n",
       "    </tr>\n",
       "    <tr>\n",
       "      <th>2</th>\n",
       "      <td>18</td>\n",
       "      <td>Female</td>\n",
       "      <td>25</td>\n",
       "      <td>35.00000000</td>\n",
       "      <td>152.00000000</td>\n",
       "      <td>1</td>\n",
       "      <td>0</td>\n",
       "      <td>0</td>\n",
       "      <td>1</td>\n",
       "      <td>46622.00000000</td>\n",
       "      <td>299</td>\n",
       "      <td>0</td>\n",
       "    </tr>\n",
       "    <tr>\n",
       "      <th>3</th>\n",
       "      <td>31</td>\n",
       "      <td>Female</td>\n",
       "      <td>26</td>\n",
       "      <td>8.00000000</td>\n",
       "      <td>160.00000000</td>\n",
       "      <td>1</td>\n",
       "      <td>0</td>\n",
       "      <td>0</td>\n",
       "      <td>0</td>\n",
       "      <td>2630.00000000</td>\n",
       "      <td>136</td>\n",
       "      <td>0</td>\n",
       "    </tr>\n",
       "    <tr>\n",
       "      <th>4</th>\n",
       "      <td>39</td>\n",
       "      <td>Male</td>\n",
       "      <td>45</td>\n",
       "      <td>8.00000000</td>\n",
       "      <td>124.00000000</td>\n",
       "      <td>1</td>\n",
       "      <td>1</td>\n",
       "      <td>1</td>\n",
       "      <td>0</td>\n",
       "      <td>42297.00000000</td>\n",
       "      <td>264</td>\n",
       "      <td>0</td>\n",
       "    </tr>\n",
       "  </tbody>\n",
       "</table>\n",
       "</div>"
      ],
      "text/plain": [
       "   id  gender  age  region_code  policy_sales_channel  driving_license  \\\n",
       "0   7    Male   23  11.00000000          152.00000000                1   \n",
       "1  13  Female   41  15.00000000           14.00000000                1   \n",
       "2  18  Female   25  35.00000000          152.00000000                1   \n",
       "3  31  Female   26   8.00000000          160.00000000                1   \n",
       "4  39    Male   45   8.00000000          124.00000000                1   \n",
       "\n",
       "   vehicle_age  vehicle_damage  previously_insured  annual_premium  vintage  \\\n",
       "0            0               1                   0  23367.00000000      249   \n",
       "1            1               0                   1  31409.00000000      221   \n",
       "2            0               0                   1  46622.00000000      299   \n",
       "3            0               0                   0   2630.00000000      136   \n",
       "4            1               1                   0  42297.00000000      264   \n",
       "\n",
       "   response  \n",
       "0         0  \n",
       "1         0  \n",
       "2         0  \n",
       "3         0  \n",
       "4         0  "
      ]
     },
     "execution_count": 97,
     "metadata": {},
     "output_type": "execute_result"
    }
   ],
   "source": [
    "df2.head()"
   ]
  },
  {
   "cell_type": "code",
   "execution_count": 21,
   "id": "c7813e68",
   "metadata": {
    "ExecuteTime": {
     "end_time": "2022-01-24T18:18:48.597410Z",
     "start_time": "2022-01-24T18:18:48.510281Z"
    }
   },
   "outputs": [],
   "source": [
    "# vehicule age\n",
    "df2['vehicle_age'] =  df2['vehicle_age'].apply( lambda x: 2 if x == '> 2 Years' else 1 if x == '1-2 Year' else 0 )\n",
    "\n",
    "# vehiculde damage\n",
    "df2['vehicle_damage'] = df2['vehicle_damage'].map({'Yes' : 1 , 'No' : 0})\n"
   ]
  },
  {
   "cell_type": "code",
   "execution_count": 22,
   "id": "05f033bb",
   "metadata": {},
   "outputs": [],
   "source": [
    "# df2['potential_to_hire'] =  df2['gender'].map({'Male':0, 'Female':1}) + \\\n",
    "#                             df2['vehicle_age'].map({'< 1 Year':3, '1-2 Year':2, '> 2 Years':0}) + \\\n",
    "#                             df2['vehicle_damage'].map({'Yes':1, 'No':0}) + \\\n",
    "#                             df2['previously_insured'] + \\\n",
    "#                             df2['age'].apply(age_weight_select) # see in helper functions\n",
    "\n",
    "# if add_response:\n",
    "#     df2['potential_to_hire'] =  df2['potential_to_hire'] + \\\n",
    "#                                 df2['response'] # malum discordiae"
   ]
  },
  {
   "cell_type": "markdown",
   "id": "38a62f6c",
   "metadata": {},
   "source": [
    "# 3.0. Data Filtering\n"
   ]
  },
  {
   "cell_type": "code",
   "execution_count": 23,
   "id": "be2f0b4f",
   "metadata": {
    "ExecuteTime": {
     "end_time": "2022-01-24T18:18:48.642455Z",
     "start_time": "2022-01-24T18:18:48.598761Z"
    }
   },
   "outputs": [],
   "source": [
    "df3 = df2.copy()"
   ]
  },
  {
   "cell_type": "markdown",
   "id": "cf185ee4",
   "metadata": {},
   "source": [
    "# 4.0. Exploratoria Data Analysis (EDA)\n"
   ]
  },
  {
   "cell_type": "code",
   "execution_count": 24,
   "id": "8f7c3ab4",
   "metadata": {
    "ExecuteTime": {
     "end_time": "2022-01-24T18:18:48.654478Z",
     "start_time": "2022-01-24T18:18:48.644831Z"
    }
   },
   "outputs": [],
   "source": [
    "df4 = df3.copy()"
   ]
  },
  {
   "cell_type": "markdown",
   "id": "e6e51f2f",
   "metadata": {},
   "source": [
    "## 4.1. Univariate Analysis\n"
   ]
  },
  {
   "cell_type": "code",
   "execution_count": 25,
   "id": "cfa9a39f",
   "metadata": {
    "ExecuteTime": {
     "end_time": "2022-01-24T18:18:48.659715Z",
     "start_time": "2022-01-24T18:18:48.656420Z"
    }
   },
   "outputs": [
    {
     "data": {
      "text/plain": [
       "Index(['id', 'gender', 'age', 'region_code', 'policy_sales_channel',\n",
       "       'driving_license', 'vehicle_age', 'vehicle_damage',\n",
       "       'previously_insured', 'annual_premium', 'vintage', 'response'],\n",
       "      dtype='object')"
      ]
     },
     "execution_count": 25,
     "metadata": {},
     "output_type": "execute_result"
    }
   ],
   "source": [
    "df4.columns"
   ]
  },
  {
   "cell_type": "code",
   "execution_count": 26,
   "id": "38c6d5b5",
   "metadata": {
    "ExecuteTime": {
     "end_time": "2022-01-24T18:18:48.844135Z",
     "start_time": "2022-01-24T18:18:48.661454Z"
    },
    "scrolled": true
   },
   "outputs": [
    {
     "data": {
      "text/plain": [
       "<AxesSubplot:xlabel='response', ylabel='age'>"
      ]
     },
     "execution_count": 26,
     "metadata": {},
     "output_type": "execute_result"
    },
    {
     "data": {
      "image/png": "[encoded data removed]",
      "text/plain": [
       "<Figure size 1800x864 with 1 Axes>"
      ]
     },
     "metadata": {},
     "output_type": "display_data"
    }
   ],
   "source": [
    "# age\n",
    "sns.boxplot(x ='response' , y = 'age' , data=df4)"
   ]
  },
  {
   "cell_type": "code",
   "execution_count": 27,
   "id": "044d3eb7",
   "metadata": {
    "ExecuteTime": {
     "end_time": "2022-01-24T18:18:49.224278Z",
     "start_time": "2022-01-24T18:18:48.845643Z"
    },
    "cell_style": "split",
    "scrolled": true
   },
   "outputs": [
    {
     "data": {
      "text/plain": [
       "<AxesSubplot:xlabel='age', ylabel='Count'>"
      ]
     },
     "execution_count": 27,
     "metadata": {},
     "output_type": "execute_result"
    },
    {
     "data": {
      "image/png": "[encoded data removed]",
      "text/plain": [
       "<Figure size 1800x864 with 1 Axes>"
      ]
     },
     "metadata": {},
     "output_type": "display_data"
    }
   ],
   "source": [
    "aux00 = df4.loc[df4['response'] == 0,'age']\n",
    "sns.histplot(aux00)"
   ]
  },
  {
   "cell_type": "code",
   "execution_count": 28,
   "id": "d9f825f9",
   "metadata": {
    "ExecuteTime": {
     "end_time": "2022-01-24T18:18:49.488190Z",
     "start_time": "2022-01-24T18:18:49.226267Z"
    },
    "cell_style": "split",
    "scrolled": true
   },
   "outputs": [
    {
     "data": {
      "text/plain": [
       "<AxesSubplot:xlabel='age', ylabel='Count'>"
      ]
     },
     "execution_count": 28,
     "metadata": {},
     "output_type": "execute_result"
    },
    {
     "data": {
      "image/png": "[encoded data removed]",
      "text/plain": [
       "<Figure size 1800x864 with 1 Axes>"
      ]
     },
     "metadata": {},
     "output_type": "display_data"
    }
   ],
   "source": [
    "aux00 = df4.loc[df4['response'] == 1,'age']\n",
    "sns.histplot(aux00)"
   ]
  },
  {
   "cell_type": "code",
   "execution_count": 29,
   "id": "51317930",
   "metadata": {
    "ExecuteTime": {
     "end_time": "2022-01-24T18:18:49.726795Z",
     "start_time": "2022-01-24T18:18:49.490729Z"
    }
   },
   "outputs": [
    {
     "data": {
      "text/plain": [
       "<AxesSubplot:xlabel='response', ylabel='annual_premium'>"
      ]
     },
     "execution_count": 29,
     "metadata": {},
     "output_type": "execute_result"
    },
    {
     "data": {
      "image/png": "[encoded data removed]",
      "text/plain": [
       "<Figure size 1800x864 with 1 Axes>"
      ]
     },
     "metadata": {},
     "output_type": "display_data"
    }
   ],
   "source": [
    "# annual_premium\n",
    "\n",
    "aux = df4[df4['annual_premium'] < 80000]\n",
    "sns.boxplot(x ='response' , y = 'annual_premium' , data=aux)\n"
   ]
  },
  {
   "cell_type": "code",
   "execution_count": 30,
   "id": "00e4fae6",
   "metadata": {
    "ExecuteTime": {
     "end_time": "2022-01-24T18:18:50.205954Z",
     "start_time": "2022-01-24T18:18:49.728136Z"
    },
    "cell_style": "split"
   },
   "outputs": [
    {
     "data": {
      "text/plain": [
       "<AxesSubplot:xlabel='annual_premium', ylabel='Count'>"
      ]
     },
     "execution_count": 30,
     "metadata": {},
     "output_type": "execute_result"
    },
    {
     "data": {
      "image/png": "[encoded data removed]",
      "text/plain": [
       "<Figure size 1800x864 with 1 Axes>"
      ]
     },
     "metadata": {},
     "output_type": "display_data"
    }
   ],
   "source": [
    "aux = df4[(df4['annual_premium']  > 10000) & (df4['annual_premium'] < 80000)]\n",
    "aux00 = aux.loc[df4['response'] == 0,'annual_premium']\n",
    "sns.histplot(aux00)"
   ]
  },
  {
   "cell_type": "code",
   "execution_count": 31,
   "id": "fae15198",
   "metadata": {
    "ExecuteTime": {
     "end_time": "2022-01-24T18:18:50.493399Z",
     "start_time": "2022-01-24T18:18:50.210754Z"
    },
    "cell_style": "split",
    "scrolled": false
   },
   "outputs": [
    {
     "data": {
      "text/plain": [
       "<AxesSubplot:xlabel='annual_premium', ylabel='Count'>"
      ]
     },
     "execution_count": 31,
     "metadata": {},
     "output_type": "execute_result"
    },
    {
     "data": {
      "image/png": "[encoded data removed]",
      "text/plain": [
       "<Figure size 1800x864 with 1 Axes>"
      ]
     },
     "metadata": {},
     "output_type": "display_data"
    }
   ],
   "source": [
    "aux = df4[(df4['annual_premium'] > 10000) & (df4['annual_premium'] < 80000)]\n",
    "aux00 = aux.loc[df4['response'] == 1,'annual_premium']\n",
    "sns.histplot(aux00)"
   ]
  },
  {
   "cell_type": "code",
   "execution_count": 32,
   "id": "ddf94ff6",
   "metadata": {
    "ExecuteTime": {
     "end_time": "2022-01-24T18:18:50.510541Z",
     "start_time": "2022-01-24T18:18:50.495212Z"
    }
   },
   "outputs": [],
   "source": [
    "# driving_license\n",
    "\n",
    "aux = df4[['driving_license','response']].groupby('response').sum().reset_index()\n",
    "aux.head()   \n",
    "aux['driving_license_perc'] = aux['driving_license'] / aux['driving_license'].sum()\n",
    "# sns.barplot(x ='response' , y = 'driving_license' , data=aux)\n"
   ]
  },
  {
   "cell_type": "code",
   "execution_count": 33,
   "id": "7143d58f",
   "metadata": {
    "ExecuteTime": {
     "end_time": "2022-01-24T18:18:50.517606Z",
     "start_time": "2022-01-24T18:18:50.511818Z"
    }
   },
   "outputs": [
    {
     "data": {
      "text/html": [
       "<div>\n",
       "<style scoped>\n",
       "    .dataframe tbody tr th:only-of-type {\n",
       "        vertical-align: middle;\n",
       "    }\n",
       "\n",
       "    .dataframe tbody tr th {\n",
       "        vertical-align: top;\n",
       "    }\n",
       "\n",
       "    .dataframe thead th {\n",
       "        text-align: right;\n",
       "    }\n",
       "</style>\n",
       "<table border=\"1\" class=\"dataframe\">\n",
       "  <thead>\n",
       "    <tr style=\"text-align: right;\">\n",
       "      <th></th>\n",
       "      <th>response</th>\n",
       "      <th>driving_license</th>\n",
       "      <th>driving_license_perc</th>\n",
       "    </tr>\n",
       "  </thead>\n",
       "  <tbody>\n",
       "    <tr>\n",
       "      <th>0</th>\n",
       "      <td>0</td>\n",
       "      <td>333628</td>\n",
       "      <td>0.87728276</td>\n",
       "    </tr>\n",
       "    <tr>\n",
       "      <th>1</th>\n",
       "      <td>1</td>\n",
       "      <td>46669</td>\n",
       "      <td>0.12271724</td>\n",
       "    </tr>\n",
       "  </tbody>\n",
       "</table>\n",
       "</div>"
      ],
      "text/plain": [
       "   response  driving_license  driving_license_perc\n",
       "0         0           333628            0.87728276\n",
       "1         1            46669            0.12271724"
      ]
     },
     "execution_count": 33,
     "metadata": {},
     "output_type": "execute_result"
    }
   ],
   "source": [
    "aux"
   ]
  },
  {
   "cell_type": "code",
   "execution_count": 34,
   "id": "2ea48a4c",
   "metadata": {
    "ExecuteTime": {
     "end_time": "2022-01-24T18:18:50.723566Z",
     "start_time": "2022-01-24T18:18:50.519412Z"
    }
   },
   "outputs": [
    {
     "data": {
      "text/plain": [
       "<AxesSubplot:xlabel='region_code', ylabel='id'>"
      ]
     },
     "execution_count": 34,
     "metadata": {},
     "output_type": "execute_result"
    },
    {
     "data": {
      "image/png": "[encoded data removed]",
      "text/plain": [
       "<Figure size 1800x864 with 1 Axes>"
      ]
     },
     "metadata": {},
     "output_type": "display_data"
    }
   ],
   "source": [
    "# region_code\n",
    "\n",
    "aux0 = df4[['id','region_code','response']].groupby(['region_code','response']).count().reset_index()\n",
    "\n",
    "\n",
    "sns.scatterplot(x= 'region_code' , y='id' , hue='response' , data=aux0)"
   ]
  },
  {
   "cell_type": "code",
   "execution_count": 35,
   "id": "5b4a7116",
   "metadata": {
    "ExecuteTime": {
     "end_time": "2022-01-24T18:18:50.760321Z",
     "start_time": "2022-01-24T18:18:50.724797Z"
    }
   },
   "outputs": [
    {
     "data": {
      "text/html": [
       "<div>\n",
       "<style scoped>\n",
       "    .dataframe tbody tr th:only-of-type {\n",
       "        vertical-align: middle;\n",
       "    }\n",
       "\n",
       "    .dataframe tbody tr th {\n",
       "        vertical-align: top;\n",
       "    }\n",
       "\n",
       "    .dataframe thead th {\n",
       "        text-align: right;\n",
       "    }\n",
       "</style>\n",
       "<table border=\"1\" class=\"dataframe\">\n",
       "  <thead>\n",
       "    <tr style=\"text-align: right;\">\n",
       "      <th>response</th>\n",
       "      <th>0</th>\n",
       "      <th>1</th>\n",
       "    </tr>\n",
       "    <tr>\n",
       "      <th>previously_insured</th>\n",
       "      <th></th>\n",
       "      <th></th>\n",
       "    </tr>\n",
       "  </thead>\n",
       "  <tbody>\n",
       "    <tr>\n",
       "      <th>0</th>\n",
       "      <td>0.77454584</td>\n",
       "      <td>0.22545416</td>\n",
       "    </tr>\n",
       "    <tr>\n",
       "      <th>1</th>\n",
       "      <td>0.99909522</td>\n",
       "      <td>0.00090478</td>\n",
       "    </tr>\n",
       "  </tbody>\n",
       "</table>\n",
       "</div>"
      ],
      "text/plain": [
       "response                    0          1\n",
       "previously_insured                      \n",
       "0                  0.77454584 0.22545416\n",
       "1                  0.99909522 0.00090478"
      ]
     },
     "execution_count": 35,
     "metadata": {},
     "output_type": "execute_result"
    }
   ],
   "source": [
    "# previously_insured\n",
    "\n",
    "pd.crosstab(df4['previously_insured'],df4['response'] ).apply(lambda x: x / x.sum() , axis =1)"
   ]
  },
  {
   "cell_type": "code",
   "execution_count": 85,
   "id": "f9a5b1d0",
   "metadata": {
    "ExecuteTime": {
     "end_time": "2022-01-24T18:18:50.799507Z",
     "start_time": "2022-01-24T18:18:50.761780Z"
    },
    "scrolled": true
   },
   "outputs": [
    {
     "data": {
      "text/html": [
       "<div>\n",
       "<style scoped>\n",
       "    .dataframe tbody tr th:only-of-type {\n",
       "        vertical-align: middle;\n",
       "    }\n",
       "\n",
       "    .dataframe tbody tr th {\n",
       "        vertical-align: top;\n",
       "    }\n",
       "\n",
       "    .dataframe thead th {\n",
       "        text-align: right;\n",
       "    }\n",
       "</style>\n",
       "<table border=\"1\" class=\"dataframe\">\n",
       "  <thead>\n",
       "    <tr style=\"text-align: right;\">\n",
       "      <th></th>\n",
       "      <th>vehicle_age</th>\n",
       "      <th>response</th>\n",
       "      <th>id</th>\n",
       "    </tr>\n",
       "  </thead>\n",
       "  <tbody>\n",
       "    <tr>\n",
       "      <th>0</th>\n",
       "      <td>0</td>\n",
       "      <td>0</td>\n",
       "      <td>157584</td>\n",
       "    </tr>\n",
       "    <tr>\n",
       "      <th>1</th>\n",
       "      <td>0</td>\n",
       "      <td>1</td>\n",
       "      <td>7202</td>\n",
       "    </tr>\n",
       "    <tr>\n",
       "      <th>2</th>\n",
       "      <td>1</td>\n",
       "      <td>0</td>\n",
       "      <td>165510</td>\n",
       "    </tr>\n",
       "    <tr>\n",
       "      <th>3</th>\n",
       "      <td>1</td>\n",
       "      <td>1</td>\n",
       "      <td>34806</td>\n",
       "    </tr>\n",
       "    <tr>\n",
       "      <th>4</th>\n",
       "      <td>2</td>\n",
       "      <td>0</td>\n",
       "      <td>11305</td>\n",
       "    </tr>\n",
       "    <tr>\n",
       "      <th>5</th>\n",
       "      <td>2</td>\n",
       "      <td>1</td>\n",
       "      <td>4702</td>\n",
       "    </tr>\n",
       "  </tbody>\n",
       "</table>\n",
       "</div>"
      ],
      "text/plain": [
       "   vehicle_age  response      id\n",
       "0            0         0  157584\n",
       "1            0         1    7202\n",
       "2            1         0  165510\n",
       "3            1         1   34806\n",
       "4            2         0   11305\n",
       "5            2         1    4702"
      ]
     },
     "execution_count": 85,
     "metadata": {},
     "output_type": "execute_result"
    }
   ],
   "source": [
    "# vehicle_age\n",
    "\n",
    "df4[['id','vehicle_age', 'response']].groupby( ['vehicle_age', 'response'] ).count().reset_index() "
   ]
  },
  {
   "cell_type": "code",
   "execution_count": 37,
   "id": "e511700d",
   "metadata": {
    "ExecuteTime": {
     "end_time": "2022-01-24T18:18:52.099966Z",
     "start_time": "2022-01-24T18:18:50.801412Z"
    }
   },
   "outputs": [
    {
     "data": {
      "text/plain": [
       "<AxesSubplot:xlabel='response', ylabel='policy_sales_channel'>"
      ]
     },
     "execution_count": 37,
     "metadata": {},
     "output_type": "execute_result"
    },
    {
     "data": {
      "image/png": "[encoded data removed]",
      "text/plain": [
       "<Figure size 1800x864 with 1 Axes>"
      ]
     },
     "metadata": {},
     "output_type": "display_data"
    }
   ],
   "source": [
    "# policy_sales_channel\n",
    "\n",
    "aux0 = df4[['policy_sales_channel','response']].groupby('policy_sales_channel').sum().reset_index()\n",
    "sns.barplot(x ='response' , y= 'policy_sales_channel' , data=aux0) "
   ]
  },
  {
   "cell_type": "code",
   "execution_count": 38,
   "id": "3f6e39fa",
   "metadata": {
    "ExecuteTime": {
     "end_time": "2022-01-24T18:18:52.248846Z",
     "start_time": "2022-01-24T18:18:52.101739Z"
    },
    "scrolled": true
   },
   "outputs": [
    {
     "data": {
      "text/plain": [
       "<AxesSubplot:xlabel='response', ylabel='vintage'>"
      ]
     },
     "execution_count": 38,
     "metadata": {},
     "output_type": "execute_result"
    },
    {
     "data": {
      "image/png": "[encoded data removed]",
      "text/plain": [
       "<Figure size 1800x864 with 1 Axes>"
      ]
     },
     "metadata": {},
     "output_type": "display_data"
    }
   ],
   "source": [
    "# vintage\n",
    "\n",
    "\n",
    "sns.boxplot(x ='response' , y = 'vintage' , data=df4)"
   ]
  },
  {
   "cell_type": "code",
   "execution_count": 39,
   "id": "d9ecc006",
   "metadata": {
    "ExecuteTime": {
     "end_time": "2022-01-24T18:18:52.648792Z",
     "start_time": "2022-01-24T18:18:52.251617Z"
    },
    "cell_style": "split"
   },
   "outputs": [
    {
     "data": {
      "text/plain": [
       "<AxesSubplot:xlabel='vintage', ylabel='Count'>"
      ]
     },
     "execution_count": 39,
     "metadata": {},
     "output_type": "execute_result"
    },
    {
     "data": {
      "image/png": "[encoded data removed]",
      "text/plain": [
       "<Figure size 1800x864 with 1 Axes>"
      ]
     },
     "metadata": {},
     "output_type": "display_data"
    }
   ],
   "source": [
    "aux00 = df4.loc[df4['response'] == 0,'vintage']\n",
    "sns.histplot(aux00)"
   ]
  },
  {
   "cell_type": "code",
   "execution_count": 40,
   "id": "c84eb45f",
   "metadata": {
    "ExecuteTime": {
     "end_time": "2022-01-24T18:18:52.878806Z",
     "start_time": "2022-01-24T18:18:52.652498Z"
    },
    "cell_style": "split"
   },
   "outputs": [
    {
     "data": {
      "text/plain": [
       "<AxesSubplot:xlabel='vintage', ylabel='Count'>"
      ]
     },
     "execution_count": 40,
     "metadata": {},
     "output_type": "execute_result"
    },
    {
     "data": {
      "image/png": "[encoded data removed]",
      "text/plain": [
       "<Figure size 1800x864 with 1 Axes>"
      ]
     },
     "metadata": {},
     "output_type": "display_data"
    }
   ],
   "source": [
    "aux00 = df4.loc[df4['response'] == 1,'vintage']\n",
    "sns.histplot(aux00)"
   ]
  },
  {
   "cell_type": "markdown",
   "id": "27124c07",
   "metadata": {},
   "source": [
    "## 4.2. Bivariate Analysis\n"
   ]
  },
  {
   "cell_type": "markdown",
   "id": "3b3d213e",
   "metadata": {},
   "source": [
    "# 5.0. Data Preparation\n"
   ]
  },
  {
   "cell_type": "code",
   "execution_count": 88,
   "id": "f4b677e9",
   "metadata": {
    "ExecuteTime": {
     "end_time": "2022-01-24T18:18:52.899709Z",
     "start_time": "2022-01-24T18:18:52.880443Z"
    }
   },
   "outputs": [],
   "source": [
    "df5 = df4.copy()"
   ]
  },
  {
   "cell_type": "code",
   "execution_count": 89,
   "id": "3190e118",
   "metadata": {
    "ExecuteTime": {
     "end_time": "2022-01-24T18:18:53.033028Z",
     "start_time": "2022-01-24T18:18:52.901811Z"
    }
   },
   "outputs": [],
   "source": [
    "x = df5.drop('response' , axis=1)\n",
    "y = df5['response'].copy()\n",
    "\n",
    "# train TEST split\n",
    "x_train, x_test, y_train, y_test = ms.train_test_split(x, y, test_size=0.20, random_state=17, shuffle=True)\n",
    "\n",
    "# train VALID split\n",
    "x_train, x_val, y_train, y_val = ms.train_test_split(x_train, y_train, test_size=0.20, random_state=17, shuffle=True)\n",
    "\n",
    "\n",
    "\n",
    "df51 = pd.concat([x_train,y_train], axis=1)"
   ]
  },
  {
   "cell_type": "markdown",
   "id": "9ecdc691",
   "metadata": {},
   "source": [
    "## 5.1. Standardization\n"
   ]
  },
  {
   "cell_type": "code",
   "execution_count": 90,
   "id": "1f123667",
   "metadata": {
    "ExecuteTime": {
     "end_time": "2022-01-24T18:18:53.078769Z",
     "start_time": "2022-01-24T18:18:53.034770Z"
    }
   },
   "outputs": [],
   "source": [
    "ss =pp.StandardScaler()\n",
    "\n",
    "# annual_premium\n",
    "df51['annual_premium'] = ss.fit_transform(df51[['annual_premium']].values)\n",
    "pickle.dump(ss, open('../src/features/annual_premium_scaler.pkl' , 'wb'))"
   ]
  },
  {
   "cell_type": "markdown",
   "id": "5e3425d7",
   "metadata": {},
   "source": [
    "## 5.2. Rescaling\n"
   ]
  },
  {
   "cell_type": "code",
   "execution_count": 92,
   "id": "d91101c2",
   "metadata": {
    "ExecuteTime": {
     "end_time": "2022-01-24T18:18:53.098733Z",
     "start_time": "2022-01-24T18:18:53.080366Z"
    }
   },
   "outputs": [],
   "source": [
    "mms_age = pp.MinMaxScaler()\n",
    "mms_vintage = pp.MinMaxScaler()\n",
    "\n",
    "# Age\n",
    "df51['age'] = mms_age.fit_transform(df51[['age']].values)\n",
    "pickle.dump(mms_age, open('../src/features/age_scaler.pkl' , 'wb'))\n",
    "\n",
    "# vintage\n",
    "df51['vintage'] = mms_vintage.fit_transform(df51[['vintage']].values)\n",
    "pickle.dump(mms_vintage, open('../src/features/vintage_scaler.pkl' , 'wb'))"
   ]
  },
  {
   "cell_type": "markdown",
   "id": "6be8f683",
   "metadata": {},
   "source": [
    "## 5.3. Encoder\n"
   ]
  },
  {
   "cell_type": "code",
   "execution_count": 93,
   "id": "cc9b9c68",
   "metadata": {
    "ExecuteTime": {
     "end_time": "2022-01-24T18:18:53.300367Z",
     "start_time": "2022-01-24T18:18:53.100671Z"
    }
   },
   "outputs": [],
   "source": [
    "# gender - Target encoding\n",
    "target_encode_gender = df51.groupby('gender')['response'].mean()\n",
    "df51.loc[: , 'gender'] = df51['gender'].map(target_encode_gender)\n",
    "pickle.dump(target_encode_gender, open('../src/features/target_encode_gender_scaler.pkl' , 'wb'))\n",
    "\n",
    "# region_code - Target Encoding\n",
    "target_encode_region_code = df51.groupby('region_code')['response'].mean()\n",
    "df51.loc[: , 'region_code'] = df51['region_code'].map(target_encode_region_code)\n",
    "pickle.dump(target_encode_region_code, open('../src/features/target_encode_region_code_scaler.pkl' , 'wb'))\n",
    "\n",
    "# vehicle_age - One Hot Encoding\n",
    "#df51 = pd.get_dummies(df51 , prefix= 'vehicle_age', columns=['vehicle_age'])\n",
    "\n",
    "# policy_sales_channel - Frequency Encoding\n",
    "fe_policy_sales_channel = df51.groupby('policy_sales_channel').size() / len(df51)\n",
    "df51.loc[: , 'policy_sales_channel'] = df5['policy_sales_channel'].map(fe_policy_sales_channel)\n",
    "pickle.dump(fe_policy_sales_channel, open('../src/features/fe_policy_sales_channel_scaler.pkl' , 'wb'))\n",
    "\n",
    "# fillna\n",
    "df51 = df51.fillna(0)"
   ]
  },
  {
   "cell_type": "markdown",
   "id": "38139078",
   "metadata": {},
   "source": [
    "## 5.4. Validation Preparation"
   ]
  },
  {
   "cell_type": "code",
   "execution_count": 94,
   "id": "52d9aba3",
   "metadata": {
    "ExecuteTime": {
     "end_time": "2022-01-24T18:18:53.357332Z",
     "start_time": "2022-01-24T18:18:53.302028Z"
    }
   },
   "outputs": [],
   "source": [
    "# gender\n",
    "x_val.loc[: , 'gender'] = x_val.loc[: , 'gender'].map(target_encode_region_code)\n",
    "\n",
    "# Age\n",
    "x_val.loc[: , 'gender'] = mms_age.fit_transform(x_val[['age']].values)\n",
    "\n",
    "# vintage\n",
    "x_val['vintage'] = mms_vintage.fit_transform(x_val[['vintage']].values)\n",
    "\n",
    "# region_code \n",
    "x_val.loc[: , 'region_code'] = x_val.loc[: , 'region_code'].map(target_encode_region_code)\n",
    "\n",
    "# annual_premium\n",
    "x_val['annual_premium'] = ss.fit_transform(x_val[['annual_premium']].values)\n",
    "\n",
    "# vehicle_age \n",
    "#x_val = pd.get_dummies(x_val , prefix= 'vehicle_age', columns=['vehicle_age'])\n",
    "\n",
    "# policy_sales_channel \n",
    "x_val.loc[: , 'policy_sales_channel'] = x_val['policy_sales_channel'].map(fe_policy_sales_channel)\n",
    "\n",
    "# fillna\n",
    "x_val = x_val.fillna(0)\n"
   ]
  },
  {
   "cell_type": "markdown",
   "id": "e2716de5",
   "metadata": {},
   "source": [
    "# 6.0. Feature Selection\n"
   ]
  },
  {
   "cell_type": "code",
   "execution_count": 50,
   "id": "2ebe6567",
   "metadata": {},
   "outputs": [],
   "source": [
    "df6 = df51.copy()"
   ]
  },
  {
   "cell_type": "markdown",
   "id": "47d15ac7",
   "metadata": {},
   "source": [
    "## 6.1. Feature Importancia"
   ]
  },
  {
   "cell_type": "code",
   "execution_count": 51,
   "id": "d0ff3571",
   "metadata": {
    "ExecuteTime": {
     "end_time": "2022-01-24T18:19:08.261049Z",
     "start_time": "2022-01-24T18:18:53.359234Z"
    }
   },
   "outputs": [
    {
     "data": {
      "text/plain": [
       "ExtraTreesClassifier(n_estimators=250, n_jobs=-1, random_state=0)"
      ]
     },
     "execution_count": 51,
     "metadata": {},
     "output_type": "execute_result"
    }
   ],
   "source": [
    "# model definition\n",
    "forest = en.ExtraTreesClassifier(n_estimators=250, random_state=0, n_jobs=-1)\n",
    "\n",
    "# data preparation\n",
    "x_train_n = df6.drop(['id', 'response'], axis= 1)\n",
    "y_train_n = y_train.values\n",
    "forest.fit(x_train_n , y_train_n )"
   ]
  },
  {
   "cell_type": "code",
   "execution_count": 53,
   "id": "3d43268c",
   "metadata": {
    "ExecuteTime": {
     "end_time": "2022-01-24T18:19:09.063225Z",
     "start_time": "2022-01-24T18:19:08.262836Z"
    },
    "code_folding": []
   },
   "outputs": [
    {
     "name": "stdout",
     "output_type": "stream",
     "text": [
      "Feature ranking: \n",
      "                feature  importances\n",
      "0               vintage   0.27119845\n",
      "0        annual_premium   0.24062981\n",
      "0                   age   0.16673003\n",
      "0           region_code   0.10733280\n",
      "0        vehicle_damage   0.06680117\n",
      "0  policy_sales_channel   0.06147381\n",
      "0    previously_insured   0.05727217\n",
      "0         vehicle_age_0   0.01410387\n",
      "0         vehicle_age_1   0.00634003\n",
      "0                gender   0.00542241\n",
      "0         vehicle_age_2   0.00219098\n",
      "0       driving_license   0.00050446\n"
     ]
    },
    {
     "data": {
      "image/png": "[encoded data removed]",
      "text/plain": [
       "<Figure size 1800x864 with 1 Axes>"
      ]
     },
     "metadata": {},
     "output_type": "display_data"
    }
   ],
   "source": [
    "importances = forest.feature_importances_\n",
    "std = np.std([tree.feature_importances_ for tree in forest.estimators_] , axis= 0)\n",
    "indices = np.argsort(importances)[::-1]\n",
    "\n",
    "# Print the feature ranking\n",
    "print('Feature ranking: ')\n",
    "df =pd.DataFrame()\n",
    "for i, j in zip(x_train_n, forest.feature_importances_):\n",
    "    aux = pd.DataFrame({'feature': i, 'importances': j}, index=[0])\n",
    "    df = pd.concat([df,aux], axis = 0)\n",
    "    \n",
    "print(df.sort_values('importances', ascending= False))\n",
    "    \n",
    "# Plot tge umpurity-based feature importances of the forest\n",
    "plt.figure()\n",
    "plt.title(\"Feature Importances\")\n",
    "plt.bar(range(x_train_n.shape[1]), importances[indices], color= 'r', yerr= std[indices], align= 'center')\n",
    "plt.xticks(range(x_train_n.shape[1]), indices)\n",
    "plt.xlim([-1, x_train_n.shape[1]])\n",
    "plt.show()\n"
   ]
  },
  {
   "cell_type": "markdown",
   "id": "e12272c3",
   "metadata": {},
   "source": [
    "# 7.0. Machine Learning Modelling\n"
   ]
  },
  {
   "cell_type": "code",
   "execution_count": 54,
   "id": "0ac0587f",
   "metadata": {},
   "outputs": [],
   "source": [
    "df7 = df6.copy()"
   ]
  },
  {
   "cell_type": "code",
   "execution_count": 60,
   "id": "3c3b76c8",
   "metadata": {
    "ExecuteTime": {
     "end_time": "2022-01-24T18:19:09.081686Z",
     "start_time": "2022-01-24T18:19:09.064762Z"
    }
   },
   "outputs": [],
   "source": [
    "cols_selected = ['vintage','annual_premium','age','region_code','vehicle_damage','policy_sales_channel','previously_insured']\n",
    "\n",
    "df7 = df7[cols_selected]\n",
    "x_train = df51[cols_selected]\n",
    "x_validation = x_val[cols_selected]\n"
   ]
  },
  {
   "cell_type": "code",
   "execution_count": 62,
   "id": "c1c283da",
   "metadata": {},
   "outputs": [],
   "source": [
    "models=[nk.KNeighborsClassifier(n_neighbors = 500),\n",
    "       lm.LogisticRegression(random_state = 42),\n",
    "       #en.RandomForestClassifier( n_estimators=1000,max_depth = 20, n_jobs=-1, random_state=42 ),\n",
    "       cb( random_state=42, verbose=False )]"
   ]
  },
  {
   "cell_type": "code",
   "execution_count": 63,
   "id": "1c0dd5ae",
   "metadata": {
    "scrolled": true
   },
   "outputs": [
    {
     "name": "stdout",
     "output_type": "stream",
     "text": [
      "CPU times: user 2 µs, sys: 0 ns, total: 2 µs\n",
      "Wall time: 3.58 µs\n",
      "ML - Training model 1/3 -> CatBoostClassifier...\n",
      "ML - Training model 2/3 -> KNeighborsClassifier...\n",
      "ML - Training model 3/3 -> LogisticRegression...\n",
      "CPU times: user 124 µs, sys: 13 µs, total: 137 µs\n",
      "Wall time: 29.1 µs\n"
     ]
    }
   ],
   "source": [
    "%time\n",
    "ml_results, trained_models = metrics_at_k(df7, models, x_train, y_train, x_validation, y_val, verbose=True )\n",
    "%time"
   ]
  },
  {
   "cell_type": "code",
   "execution_count": 64,
   "id": "70ddbd98",
   "metadata": {},
   "outputs": [
    {
     "data": {
      "text/html": [
       "<div>\n",
       "<style scoped>\n",
       "    .dataframe tbody tr th:only-of-type {\n",
       "        vertical-align: middle;\n",
       "    }\n",
       "\n",
       "    .dataframe tbody tr th {\n",
       "        vertical-align: top;\n",
       "    }\n",
       "\n",
       "    .dataframe thead th {\n",
       "        text-align: right;\n",
       "    }\n",
       "</style>\n",
       "<table border=\"1\" class=\"dataframe\">\n",
       "  <thead>\n",
       "    <tr style=\"text-align: right;\">\n",
       "      <th></th>\n",
       "      <th>Model_Name</th>\n",
       "      <th>Precision@K</th>\n",
       "      <th>Recall@K</th>\n",
       "    </tr>\n",
       "  </thead>\n",
       "  <tbody>\n",
       "    <tr>\n",
       "      <th>0</th>\n",
       "      <td>CatBoostClassifier</td>\n",
       "      <td>0.34630000</td>\n",
       "      <td>0.09270000</td>\n",
       "    </tr>\n",
       "    <tr>\n",
       "      <th>0</th>\n",
       "      <td>KNeighborsClassifier</td>\n",
       "      <td>0.29240000</td>\n",
       "      <td>0.07820000</td>\n",
       "    </tr>\n",
       "    <tr>\n",
       "      <th>0</th>\n",
       "      <td>LogisticRegression</td>\n",
       "      <td>0.28690000</td>\n",
       "      <td>0.07680000</td>\n",
       "    </tr>\n",
       "  </tbody>\n",
       "</table>\n",
       "</div>"
      ],
      "text/plain": [
       "             Model_Name  Precision@K   Recall@K\n",
       "0    CatBoostClassifier   0.34630000 0.09270000\n",
       "0  KNeighborsClassifier   0.29240000 0.07820000\n",
       "0    LogisticRegression   0.28690000 0.07680000"
      ]
     },
     "execution_count": 64,
     "metadata": {},
     "output_type": "execute_result"
    }
   ],
   "source": [
    "ml_results"
   ]
  },
  {
   "cell_type": "markdown",
   "id": "d0229633",
   "metadata": {},
   "source": [
    "## Cross-Validation"
   ]
  },
  {
   "cell_type": "code",
   "execution_count": 65,
   "id": "6366e756",
   "metadata": {},
   "outputs": [],
   "source": [
    "models_cv =[nk.KNeighborsClassifier(n_neighbors = 500),\n",
    "            lm.LogisticRegression(random_state = 42),\n",
    "            #en.RandomForestClassifier( n_estimators=1000,max_depth = 20, n_jobs=-1, random_state=42 ),\n",
    "            cb( random_state=42, verbose=False )]"
   ]
  },
  {
   "cell_type": "code",
   "execution_count": 66,
   "id": "4be5abc9",
   "metadata": {},
   "outputs": [],
   "source": [
    "cv_results = cross_validation(df7, models_cv, x_train, y_train, 5 )  "
   ]
  },
  {
   "cell_type": "code",
   "execution_count": 67,
   "id": "33014313",
   "metadata": {},
   "outputs": [],
   "source": [
    "ml_cv_results = pd.merge(ml_results, cv_results, on = 'Model_Name', how='left')\n",
    "ml_cv_results = ml_cv_results.fillna( 0 )"
   ]
  },
  {
   "cell_type": "code",
   "execution_count": 68,
   "id": "57a0ff81",
   "metadata": {},
   "outputs": [
    {
     "data": {
      "text/html": [
       "<div>\n",
       "<style scoped>\n",
       "    .dataframe tbody tr th:only-of-type {\n",
       "        vertical-align: middle;\n",
       "    }\n",
       "\n",
       "    .dataframe tbody tr th {\n",
       "        vertical-align: top;\n",
       "    }\n",
       "\n",
       "    .dataframe thead th {\n",
       "        text-align: right;\n",
       "    }\n",
       "</style>\n",
       "<table border=\"1\" class=\"dataframe\">\n",
       "  <thead>\n",
       "    <tr style=\"text-align: right;\">\n",
       "      <th></th>\n",
       "      <th>Model_Name</th>\n",
       "      <th>Precision@K</th>\n",
       "      <th>Recall@K</th>\n",
       "      <th>Precision@K Mean</th>\n",
       "      <th>Precision@K STD</th>\n",
       "      <th>Recall@K Mean</th>\n",
       "      <th>Recall@K STD</th>\n",
       "    </tr>\n",
       "  </thead>\n",
       "  <tbody>\n",
       "    <tr>\n",
       "      <th>0</th>\n",
       "      <td>CatBoostClassifier</td>\n",
       "      <td>0.34630000</td>\n",
       "      <td>0.09270000</td>\n",
       "      <td>0.40430000</td>\n",
       "      <td>0.00430000</td>\n",
       "      <td>0.13580000</td>\n",
       "      <td>0.00140000</td>\n",
       "    </tr>\n",
       "    <tr>\n",
       "      <th>1</th>\n",
       "      <td>KNeighborsClassifier</td>\n",
       "      <td>0.29240000</td>\n",
       "      <td>0.07820000</td>\n",
       "      <td>0.35280000</td>\n",
       "      <td>0.05210000</td>\n",
       "      <td>0.11850000</td>\n",
       "      <td>0.01750000</td>\n",
       "    </tr>\n",
       "    <tr>\n",
       "      <th>2</th>\n",
       "      <td>LogisticRegression</td>\n",
       "      <td>0.28690000</td>\n",
       "      <td>0.07680000</td>\n",
       "      <td>0.32380000</td>\n",
       "      <td>0.06020000</td>\n",
       "      <td>0.10880000</td>\n",
       "      <td>0.02020000</td>\n",
       "    </tr>\n",
       "  </tbody>\n",
       "</table>\n",
       "</div>"
      ],
      "text/plain": [
       "             Model_Name  Precision@K   Recall@K  Precision@K Mean  \\\n",
       "0    CatBoostClassifier   0.34630000 0.09270000        0.40430000   \n",
       "1  KNeighborsClassifier   0.29240000 0.07820000        0.35280000   \n",
       "2    LogisticRegression   0.28690000 0.07680000        0.32380000   \n",
       "\n",
       "   Precision@K STD  Recall@K Mean  Recall@K STD  \n",
       "0       0.00430000     0.13580000    0.00140000  \n",
       "1       0.05210000     0.11850000    0.01750000  \n",
       "2       0.06020000     0.10880000    0.02020000  "
      ]
     },
     "execution_count": 68,
     "metadata": {},
     "output_type": "execute_result"
    }
   ],
   "source": [
    "ml_cv_results "
   ]
  },
  {
   "cell_type": "markdown",
   "id": "27ffe0ab",
   "metadata": {},
   "source": [
    "## Ploting Curves"
   ]
  },
  {
   "cell_type": "code",
   "execution_count": 69,
   "id": "59e7a054",
   "metadata": {},
   "outputs": [],
   "source": [
    "models_cv_plot =[#nk.KNeighborsClassifier(n_neighbors = 500),\n",
    "           # lm.LogisticRegression(random_state = 42),\n",
    "            #en.RandomForestClassifier( n_estimators=1000,max_depth = 20, n_jobs=-1, random_state=42 ),\n",
    "            cb( random_state=42, verbose=False )]"
   ]
  },
  {
   "cell_type": "code",
   "execution_count": 70,
   "id": "5d312fe5",
   "metadata": {},
   "outputs": [
    {
     "name": "stdout",
     "output_type": "stream",
     "text": [
      "Calulating curve for model 1/1 -> CatBoostClassifier...\n",
      "Training model ... \n"
     ]
    },
    {
     "data": {
      "image/png": "[encoded data removed]",
      "text/plain": [
       "<Figure size 1440x432 with 2 Axes>"
      ]
     },
     "metadata": {},
     "output_type": "display_data"
    }
   ],
   "source": [
    "plot_cgc_lc(models_cv_plot, x_train, y_train, x_val, verbose=True) "
   ]
  },
  {
   "cell_type": "markdown",
   "id": "3b642844",
   "metadata": {},
   "source": [
    "# 9.0. Deploy to Production\n"
   ]
  },
  {
   "cell_type": "code",
   "execution_count": 71,
   "id": "ea9368b9",
   "metadata": {
    "ExecuteTime": {
     "end_time": "2022-01-24T19:07:49.043248Z",
     "start_time": "2022-01-24T19:07:49.036039Z"
    }
   },
   "outputs": [],
   "source": [
    "# save trained model\n",
    "# pickle.dump(yhat_rf , open('/home/felipepedrosa/projetos/health_insurance/src/model_training_rf.pkl' , 'wb'))"
   ]
  },
  {
   "cell_type": "markdown",
   "id": "204d489a",
   "metadata": {
    "ExecuteTime": {
     "end_time": "2022-01-24T03:49:03.894925Z",
     "start_time": "2022-01-24T03:49:03.779942Z"
    }
   },
   "source": [
    "\n",
    "## 9.1. Heatlh Insurance Class"
   ]
  },
  {
   "cell_type": "code",
   "execution_count": 72,
   "id": "7b2a109e",
   "metadata": {
    "ExecuteTime": {
     "end_time": "2022-01-24T19:06:18.253707Z",
     "start_time": "2022-01-24T19:06:18.225951Z"
    }
   },
   "outputs": [],
   "source": [
    "# class HealthInsurance:\n",
    "    \n",
    "#     def __init__(self):\n",
    "#         self.home_path =                      '/home/felipepedrosa/projetos/health_insurance/'\n",
    "#         self.annual_premium_scaler =           pickle.load(yhat_et , open(self.home_path + 'src/features/annual_premium_scaler.pkl'))\n",
    "#         self.age_scaler =                      pickle.load(yhat_et , open(self.home_path + 'src/features/age_scaler.pkl'))\n",
    "#         self.vintage_scaler =                  pickle.load(yhat_et , open(self.home_path + 'src/features/vintage_scaler.pkl'))\n",
    "#         self.target_encode_gender_scaler =     pickle.load(yhat_et , open(self.home_path + 'src/features/target_encode_gender_scaler.pkl'))\n",
    "#         self.target_encode_region_scaler =     pickle.load(yhat_et , open(self.home_path + 'src/features/target_encode_region_scaler.pkl'))\n",
    "#         self.fe_policy_sales_channel_scaler =  pickle.load(yhat_et , open(self.home_path + 'src/features/fe_policy_sales_channel_scaler.pkl'))\n",
    "        \n",
    "# #     def data_cleaning( self, df1 ):\n",
    "# #         # 1.1. Rename Columns\n",
    "# #         cols_new = ['id', 'gender', 'age', 'driving_license', 'region_code', 'previously_insured', 'vehicle_age', \n",
    "# #                     'vehicle_damage', 'annual_premium', 'policy_sales_channel', 'vintage', 'response']\n",
    "\n",
    "# #         # rename \n",
    "# #         df1.columns = cols_new\n",
    "        \n",
    "# #         return df1 \n",
    "\n",
    "    \n",
    "#     def feature_engineering( self, df2 ):\n",
    "#         # 2.0. Feature Engineering\n",
    "\n",
    "#         # Vehicle Damage Number\n",
    "#         df2['vehicle_damage'] = df2['vehicle_damage'].apply( lambda x: 1 if x == 'Yes' else 0 )\n",
    "\n",
    "#         # Vehicle Age\n",
    "#         df2['vehicle_age'] =  df2['vehicle_age'].apply( lambda x: 'over_2_years' if x == '> 2 Years' else 'between_1_2_year' if x == '1-2 Year' else 'below_1_year' )\n",
    "        \n",
    "#         return df2\n",
    "    \n",
    "    \n",
    "#     def data_preparation( self, df5 ):\n",
    "#         # anual premium - StandarScaler\n",
    "#         df5['annual_premium'] = self.annual_premium_scaler.transform( df5[['annual_premium']].values )\n",
    "\n",
    "#         # Age - MinMaxScaler\n",
    "#         df5['age'] = self.age_scaler.transform( df5[['age']].values )\n",
    "\n",
    "#         # Vintage - MinMaxScaler\n",
    "#         df5['vintage'] = self.vintage_scaler.transform( df5[['vintage']].values )\n",
    "\n",
    "#         # gender - One Hot Encoding / Target Encoding\n",
    "#         df5.loc[:, 'gender'] = df5['gender'].map( self.target_encode_gender )\n",
    "\n",
    "#         # region_code - Target Encoding / Frequency Encoding\n",
    "#         df5.loc[:, 'region_code'] = df5['region_code'].map( self.target_encode_region_code )\n",
    "\n",
    "#         # vehicle_age - One Hot Encoding / Frequency Encoding\n",
    "#         df5 = pd.get_dummies( df5, prefix='vehicle_age', columns=['vehicle_age'] )\n",
    "\n",
    "#         # policy_sales_channel - Target Encoding / Frequency Encoding\n",
    "#         df5.loc[:, 'policy_sales_channel'] = df5['policy_sales_channel'].map( self.fe_policy_sales_channel )\n",
    "        \n",
    "#         # Feature Selection\n",
    "#         cols_selected = ['annual_premium', 'vintage', 'age', 'region_code', 'vehicle_damage', 'previously_insured',\n",
    "#                          'policy_sales_channel']\n",
    "        \n",
    "#         return df5[ cols_selected ]\n",
    "    \n",
    "    \n",
    "#     def get_prediction( self, model, original_data, test_data ):\n",
    "#         # model prediction\n",
    "#         pred = model.predict_proba( test_data )\n",
    "        \n",
    "#         # join prediction into original data\n",
    "#         original_data['prediction'] = pred\n",
    "        \n",
    "#         return original_data.to_json( orient='records', date_format='iso' )"
   ]
  },
  {
   "cell_type": "markdown",
   "id": "9276ca93",
   "metadata": {},
   "source": [
    "## 9.2. API Hanlder"
   ]
  },
  {
   "cell_type": "code",
   "execution_count": 73,
   "id": "1a68a1d0",
   "metadata": {
    "ExecuteTime": {
     "end_time": "2022-01-24T20:23:23.797714Z",
     "start_time": "2022-01-24T20:23:23.720895Z"
    }
   },
   "outputs": [],
   "source": [
    "# # loading model\n",
    "# path = '/home/felipepedrosa/projetos/health_insurance/'\n",
    "# model = pickle.load( open( path + 'src/model_training_rf.pkl', 'rb' ) )\n",
    "\n",
    "# # initialize API\n",
    "# app = Flask( __name__ )\n",
    "\n",
    "# @app.route( '/predict', methods=['POST'] )\n",
    "\n",
    "# def health_insurance_predict():\n",
    "#     test_json = request.get_json()\n",
    "    \n",
    "#     if test_json: # there is data\n",
    "#         if isinstance( test_json, dict ): # unique example\n",
    "#             test_raw = pd.DataFrame( test_json, index=[0] )\n",
    "            \n",
    "#         else: # multiple example\n",
    "#             test_raw = pd.DataFrame( test_json, columns=test_json[0].keys() )\n",
    "            \n",
    "#         # Instantiate Rossmann class\n",
    "#         pipeline = HealthInsurance()\n",
    "        \n",
    "#         # data cleaning\n",
    "# #         df1 = pipeline.data_cleaning( test_raw )\n",
    "        \n",
    "#         # feature engineering\n",
    "#         df2 = pipeline.feature_engineering( test_raw )\n",
    "        \n",
    "#         # data preparation\n",
    "#         df3 = pipeline.data_preparation( df2 )\n",
    "        \n",
    "#         # prediction\n",
    "#         df_response = pipeline.get_prediction( model, test_raw, df3 )\n",
    "        \n",
    "#         return df_response\n",
    "    \n",
    "#     else:\n",
    "#         return Response( '{}', status=200, mimetype='application/json' )\n",
    "    \n",
    "# if __name__ == '__main__':\n",
    "#     app.run( '0.0.0.0', debug=True )"
   ]
  },
  {
   "cell_type": "markdown",
   "id": "f49e3718",
   "metadata": {},
   "source": [
    "## 9.3. API Tester\n"
   ]
  },
  {
   "cell_type": "code",
   "execution_count": 74,
   "id": "a5ab5b73",
   "metadata": {
    "ExecuteTime": {
     "end_time": "2022-01-24T19:16:04.131870Z",
     "start_time": "2022-01-24T19:16:04.111693Z"
    }
   },
   "outputs": [],
   "source": [
    "# loading test dataset\n",
    "\n",
    "df_test = x_val\n",
    "df_test['response'] = y_val"
   ]
  },
  {
   "cell_type": "code",
   "execution_count": 75,
   "id": "f4be0c1d",
   "metadata": {
    "ExecuteTime": {
     "end_time": "2022-01-24T19:16:19.315982Z",
     "start_time": "2022-01-24T19:16:19.257216Z"
    }
   },
   "outputs": [],
   "source": [
    "df_test = df_test.sample(10)"
   ]
  },
  {
   "cell_type": "code",
   "execution_count": 76,
   "id": "6dc517f8",
   "metadata": {
    "scrolled": true
   },
   "outputs": [
    {
     "data": {
      "text/html": [
       "<div>\n",
       "<style scoped>\n",
       "    .dataframe tbody tr th:only-of-type {\n",
       "        vertical-align: middle;\n",
       "    }\n",
       "\n",
       "    .dataframe tbody tr th {\n",
       "        vertical-align: top;\n",
       "    }\n",
       "\n",
       "    .dataframe thead th {\n",
       "        text-align: right;\n",
       "    }\n",
       "</style>\n",
       "<table border=\"1\" class=\"dataframe\">\n",
       "  <thead>\n",
       "    <tr style=\"text-align: right;\">\n",
       "      <th></th>\n",
       "      <th>id</th>\n",
       "      <th>gender</th>\n",
       "      <th>age</th>\n",
       "      <th>region_code</th>\n",
       "      <th>policy_sales_channel</th>\n",
       "      <th>driving_license</th>\n",
       "      <th>vehicle_damage</th>\n",
       "      <th>previously_insured</th>\n",
       "      <th>annual_premium</th>\n",
       "      <th>vintage</th>\n",
       "      <th>vehicle_age_0</th>\n",
       "      <th>vehicle_age_1</th>\n",
       "      <th>vehicle_age_2</th>\n",
       "      <th>response</th>\n",
       "    </tr>\n",
       "  </thead>\n",
       "  <tbody>\n",
       "    <tr>\n",
       "      <th>221399</th>\n",
       "      <td>244678</td>\n",
       "      <td>0.04615385</td>\n",
       "      <td>23</td>\n",
       "      <td>0.11915948</td>\n",
       "      <td>0.35462406</td>\n",
       "      <td>1</td>\n",
       "      <td>0</td>\n",
       "      <td>1</td>\n",
       "      <td>-0.08402270</td>\n",
       "      <td>0.95847751</td>\n",
       "      <td>1</td>\n",
       "      <td>0</td>\n",
       "      <td>0</td>\n",
       "      <td>0</td>\n",
       "    </tr>\n",
       "    <tr>\n",
       "      <th>353104</th>\n",
       "      <td>156990</td>\n",
       "      <td>0.06153846</td>\n",
       "      <td>24</td>\n",
       "      <td>0.06398286</td>\n",
       "      <td>0.35462406</td>\n",
       "      <td>1</td>\n",
       "      <td>0</td>\n",
       "      <td>1</td>\n",
       "      <td>0.26011582</td>\n",
       "      <td>0.01384083</td>\n",
       "      <td>1</td>\n",
       "      <td>0</td>\n",
       "      <td>0</td>\n",
       "      <td>0</td>\n",
       "    </tr>\n",
       "    <tr>\n",
       "      <th>205821</th>\n",
       "      <td>119001</td>\n",
       "      <td>0.81538462</td>\n",
       "      <td>73</td>\n",
       "      <td>0.06981017</td>\n",
       "      <td>0.35462406</td>\n",
       "      <td>1</td>\n",
       "      <td>0</td>\n",
       "      <td>1</td>\n",
       "      <td>-1.62900234</td>\n",
       "      <td>0.57093426</td>\n",
       "      <td>0</td>\n",
       "      <td>1</td>\n",
       "      <td>0</td>\n",
       "      <td>0</td>\n",
       "    </tr>\n",
       "    <tr>\n",
       "      <th>251727</th>\n",
       "      <td>105934</td>\n",
       "      <td>0.04615385</td>\n",
       "      <td>23</td>\n",
       "      <td>0.15948963</td>\n",
       "      <td>0.35462406</td>\n",
       "      <td>1</td>\n",
       "      <td>0</td>\n",
       "      <td>1</td>\n",
       "      <td>-0.24055530</td>\n",
       "      <td>0.07958478</td>\n",
       "      <td>1</td>\n",
       "      <td>0</td>\n",
       "      <td>0</td>\n",
       "      <td>0</td>\n",
       "    </tr>\n",
       "    <tr>\n",
       "      <th>136279</th>\n",
       "      <td>327125</td>\n",
       "      <td>0.58461538</td>\n",
       "      <td>58</td>\n",
       "      <td>0.07207322</td>\n",
       "      <td>0.19318270</td>\n",
       "      <td>1</td>\n",
       "      <td>1</td>\n",
       "      <td>0</td>\n",
       "      <td>1.03018623</td>\n",
       "      <td>0.13840830</td>\n",
       "      <td>0</td>\n",
       "      <td>1</td>\n",
       "      <td>0</td>\n",
       "      <td>0</td>\n",
       "    </tr>\n",
       "  </tbody>\n",
       "</table>\n",
       "</div>"
      ],
      "text/plain": [
       "            id     gender  age  region_code  policy_sales_channel  \\\n",
       "221399  244678 0.04615385   23   0.11915948            0.35462406   \n",
       "353104  156990 0.06153846   24   0.06398286            0.35462406   \n",
       "205821  119001 0.81538462   73   0.06981017            0.35462406   \n",
       "251727  105934 0.04615385   23   0.15948963            0.35462406   \n",
       "136279  327125 0.58461538   58   0.07207322            0.19318270   \n",
       "\n",
       "        driving_license  vehicle_damage  previously_insured  annual_premium  \\\n",
       "221399                1               0                   1     -0.08402270   \n",
       "353104                1               0                   1      0.26011582   \n",
       "205821                1               0                   1     -1.62900234   \n",
       "251727                1               0                   1     -0.24055530   \n",
       "136279                1               1                   0      1.03018623   \n",
       "\n",
       "          vintage  vehicle_age_0  vehicle_age_1  vehicle_age_2  response  \n",
       "221399 0.95847751              1              0              0         0  \n",
       "353104 0.01384083              1              0              0         0  \n",
       "205821 0.57093426              0              1              0         0  \n",
       "251727 0.07958478              1              0              0         0  \n",
       "136279 0.13840830              0              1              0         0  "
      ]
     },
     "execution_count": 76,
     "metadata": {},
     "output_type": "execute_result"
    }
   ],
   "source": [
    "df_test.head()"
   ]
  },
  {
   "cell_type": "code",
   "execution_count": 77,
   "id": "614ccd36",
   "metadata": {},
   "outputs": [
    {
     "data": {
      "text/html": [
       "<div>\n",
       "<style scoped>\n",
       "    .dataframe tbody tr th:only-of-type {\n",
       "        vertical-align: middle;\n",
       "    }\n",
       "\n",
       "    .dataframe tbody tr th {\n",
       "        vertical-align: top;\n",
       "    }\n",
       "\n",
       "    .dataframe thead th {\n",
       "        text-align: right;\n",
       "    }\n",
       "</style>\n",
       "<table border=\"1\" class=\"dataframe\">\n",
       "  <thead>\n",
       "    <tr style=\"text-align: right;\">\n",
       "      <th></th>\n",
       "      <th>id</th>\n",
       "      <th>gender</th>\n",
       "      <th>age</th>\n",
       "      <th>region_code</th>\n",
       "      <th>policy_sales_channel</th>\n",
       "      <th>driving_license</th>\n",
       "      <th>vehicle_age</th>\n",
       "      <th>vehicle_damage</th>\n",
       "      <th>previously_insured</th>\n",
       "      <th>annual_premium</th>\n",
       "      <th>vintage</th>\n",
       "      <th>response</th>\n",
       "    </tr>\n",
       "  </thead>\n",
       "  <tbody>\n",
       "    <tr>\n",
       "      <th>0</th>\n",
       "      <td>7</td>\n",
       "      <td>Male</td>\n",
       "      <td>23</td>\n",
       "      <td>11.00000000</td>\n",
       "      <td>152.00000000</td>\n",
       "      <td>1</td>\n",
       "      <td>0</td>\n",
       "      <td>1</td>\n",
       "      <td>0</td>\n",
       "      <td>23367.00000000</td>\n",
       "      <td>249</td>\n",
       "      <td>0</td>\n",
       "    </tr>\n",
       "    <tr>\n",
       "      <th>1</th>\n",
       "      <td>13</td>\n",
       "      <td>Female</td>\n",
       "      <td>41</td>\n",
       "      <td>15.00000000</td>\n",
       "      <td>14.00000000</td>\n",
       "      <td>1</td>\n",
       "      <td>1</td>\n",
       "      <td>0</td>\n",
       "      <td>1</td>\n",
       "      <td>31409.00000000</td>\n",
       "      <td>221</td>\n",
       "      <td>0</td>\n",
       "    </tr>\n",
       "    <tr>\n",
       "      <th>2</th>\n",
       "      <td>18</td>\n",
       "      <td>Female</td>\n",
       "      <td>25</td>\n",
       "      <td>35.00000000</td>\n",
       "      <td>152.00000000</td>\n",
       "      <td>1</td>\n",
       "      <td>0</td>\n",
       "      <td>0</td>\n",
       "      <td>1</td>\n",
       "      <td>46622.00000000</td>\n",
       "      <td>299</td>\n",
       "      <td>0</td>\n",
       "    </tr>\n",
       "    <tr>\n",
       "      <th>3</th>\n",
       "      <td>31</td>\n",
       "      <td>Female</td>\n",
       "      <td>26</td>\n",
       "      <td>8.00000000</td>\n",
       "      <td>160.00000000</td>\n",
       "      <td>1</td>\n",
       "      <td>0</td>\n",
       "      <td>0</td>\n",
       "      <td>0</td>\n",
       "      <td>2630.00000000</td>\n",
       "      <td>136</td>\n",
       "      <td>0</td>\n",
       "    </tr>\n",
       "    <tr>\n",
       "      <th>4</th>\n",
       "      <td>39</td>\n",
       "      <td>Male</td>\n",
       "      <td>45</td>\n",
       "      <td>8.00000000</td>\n",
       "      <td>124.00000000</td>\n",
       "      <td>1</td>\n",
       "      <td>1</td>\n",
       "      <td>1</td>\n",
       "      <td>0</td>\n",
       "      <td>42297.00000000</td>\n",
       "      <td>264</td>\n",
       "      <td>0</td>\n",
       "    </tr>\n",
       "  </tbody>\n",
       "</table>\n",
       "</div>"
      ],
      "text/plain": [
       "   id  gender  age  region_code  policy_sales_channel  driving_license  \\\n",
       "0   7    Male   23  11.00000000          152.00000000                1   \n",
       "1  13  Female   41  15.00000000           14.00000000                1   \n",
       "2  18  Female   25  35.00000000          152.00000000                1   \n",
       "3  31  Female   26   8.00000000          160.00000000                1   \n",
       "4  39    Male   45   8.00000000          124.00000000                1   \n",
       "\n",
       "   vehicle_age  vehicle_damage  previously_insured  annual_premium  vintage  \\\n",
       "0            0               1                   0  23367.00000000      249   \n",
       "1            1               0                   1  31409.00000000      221   \n",
       "2            0               0                   1  46622.00000000      299   \n",
       "3            0               0                   0   2630.00000000      136   \n",
       "4            1               1                   0  42297.00000000      264   \n",
       "\n",
       "   response  \n",
       "0         0  \n",
       "1         0  \n",
       "2         0  \n",
       "3         0  \n",
       "4         0  "
      ]
     },
     "execution_count": 77,
     "metadata": {},
     "output_type": "execute_result"
    }
   ],
   "source": [
    "df2.head()"
   ]
  },
  {
   "cell_type": "code",
   "execution_count": 78,
   "id": "8e0c745a",
   "metadata": {
    "ExecuteTime": {
     "end_time": "2022-01-24T19:17:14.154790Z",
     "start_time": "2022-01-24T19:17:14.149237Z"
    }
   },
   "outputs": [],
   "source": [
    "# convert dataframe to json\n",
    "data = json.dumps(df_test.to_dict(orient='records'))"
   ]
  },
  {
   "cell_type": "code",
   "execution_count": 79,
   "id": "c4ccc52f",
   "metadata": {
    "ExecuteTime": {
     "end_time": "2022-01-24T19:17:19.813839Z",
     "start_time": "2022-01-24T19:17:19.807334Z"
    }
   },
   "outputs": [
    {
     "data": {
      "text/plain": [
       "'[{\"id\": 244678, \"gender\": 0.046153846153846156, \"age\": 23, \"region_code\": 0.1191594772358418, \"policy_sales_channel\": 0.3546240606127695, \"driving_license\": 1, \"vehicle_damage\": 0, \"previously_insured\": 1, \"annual_premium\": -0.08402269916187421, \"vintage\": 0.9584775086505191, \"vehicle_age_0\": 1, \"vehicle_age_1\": 0, \"vehicle_age_2\": 0, \"response\": 0}, {\"id\": 156990, \"gender\": 0.06153846153846154, \"age\": 24, \"region_code\": 0.06398285626817694, \"policy_sales_channel\": 0.3546240606127695, \"driving_license\": 1, \"vehicle_damage\": 0, \"previously_insured\": 1, \"annual_premium\": 0.2601158167991985, \"vintage\": 0.013840830449826987, \"vehicle_age_0\": 1, \"vehicle_age_1\": 0, \"vehicle_age_2\": 0, \"response\": 0}, {\"id\": 119001, \"gender\": 0.8153846153846154, \"age\": 73, \"region_code\": 0.06981016533986528, \"policy_sales_channel\": 0.3546240606127695, \"driving_license\": 1, \"vehicle_damage\": 0, \"previously_insured\": 1, \"annual_premium\": -1.6290023385798629, \"vintage\": 0.5709342560553634, \"vehicle_age_0\": 0, \"vehicle_age_1\": 1, \"vehicle_age_2\": 0, \"response\": 0}, {\"id\": 105934, \"gender\": 0.046153846153846156, \"age\": 23, \"region_code\": 0.1594896331738437, \"policy_sales_channel\": 0.3546240606127695, \"driving_license\": 1, \"vehicle_damage\": 0, \"previously_insured\": 1, \"annual_premium\": -0.24055529535965164, \"vintage\": 0.07958477508650519, \"vehicle_age_0\": 1, \"vehicle_age_1\": 0, \"vehicle_age_2\": 0, \"response\": 0}, {\"id\": 327125, \"gender\": 0.5846153846153846, \"age\": 58, \"region_code\": 0.07207321723655777, \"policy_sales_channel\": 0.19318270338527893, \"driving_license\": 1, \"vehicle_damage\": 1, \"previously_insured\": 0, \"annual_premium\": 1.030186231390052, \"vintage\": 0.1384083044982699, \"vehicle_age_0\": 0, \"vehicle_age_1\": 1, \"vehicle_age_2\": 0, \"response\": 0}, {\"id\": 146052, \"gender\": 0.4307692307692308, \"age\": 48, \"region_code\": 0.18644966492377937, \"policy_sales_channel\": 0.19318270338527893, \"driving_license\": 1, \"vehicle_damage\": 1, \"previously_insured\": 0, \"annual_premium\": 0.6918776072799209, \"vintage\": 0.010380622837370242, \"vehicle_age_0\": 0, \"vehicle_age_1\": 1, \"vehicle_age_2\": 0, \"response\": 0}, {\"id\": 37271, \"gender\": 0.4307692307692308, \"age\": 48, \"region_code\": 0.10733157199471599, \"policy_sales_channel\": 0.19318270338527893, \"driving_license\": 1, \"vehicle_damage\": 1, \"previously_insured\": 0, \"annual_premium\": -1.6290023385798629, \"vintage\": 0.7474048442906575, \"vehicle_age_0\": 0, \"vehicle_age_1\": 1, \"vehicle_age_2\": 0, \"response\": 0}, {\"id\": 30330, \"gender\": 0.49230769230769234, \"age\": 52, \"region_code\": 0.11473127262600946, \"policy_sales_channel\": 0.19318270338527893, \"driving_license\": 1, \"vehicle_damage\": 1, \"previously_insured\": 0, \"annual_premium\": -1.6290023385798629, \"vintage\": 0.21799307958477507, \"vehicle_age_0\": 0, \"vehicle_age_1\": 1, \"vehicle_age_2\": 0, \"response\": 0}, {\"id\": 238251, \"gender\": 0.06153846153846154, \"age\": 24, \"region_code\": 0.18644966492377937, \"policy_sales_channel\": 0.3546240606127695, \"driving_license\": 1, \"vehicle_damage\": 0, \"previously_insured\": 1, \"annual_premium\": 0.6959002326570705, \"vintage\": 0.024221453287197228, \"vehicle_age_0\": 1, \"vehicle_age_1\": 0, \"vehicle_age_2\": 0, \"response\": 0}, {\"id\": 255302, \"gender\": 0.3384615384615385, \"age\": 42, \"region_code\": 0.07207321723655777, \"policy_sales_channel\": 0.2088319824196729, \"driving_license\": 1, \"vehicle_damage\": 0, \"previously_insured\": 0, \"annual_premium\": 0.26734488269436585, \"vintage\": 0.9134948096885813, \"vehicle_age_0\": 0, \"vehicle_age_1\": 1, \"vehicle_age_2\": 0, \"response\": 0}]'"
      ]
     },
     "execution_count": 79,
     "metadata": {},
     "output_type": "execute_result"
    }
   ],
   "source": [
    "data"
   ]
  },
  {
   "cell_type": "code",
   "execution_count": 109,
   "id": "655d595d",
   "metadata": {
    "ExecuteTime": {
     "end_time": "2022-01-24T21:03:53.438030Z",
     "start_time": "2022-01-24T20:50:29.085449Z"
    }
   },
   "outputs": [
    {
     "name": "stdout",
     "output_type": "stream",
     "text": [
      "Status code 500\n"
     ]
    }
   ],
   "source": [
    "# API Call\n",
    "\n",
    "url = 'http://0.0.0.0:5000/predict'\n",
    "header = {'Content-type': 'application/json'}     \n",
    "\n",
    "r = requests.post(url , data = data , headers = header)\n",
    "print('Status code {}'.format(r.status_code))"
   ]
  },
  {
   "cell_type": "code",
   "execution_count": 81,
   "id": "e66c6f1b",
   "metadata": {},
   "outputs": [
    {
     "ename": "JSONDecodeError",
     "evalue": "[Errno Expecting value] <!DOCTYPE HTML PUBLIC \"-//W3C//DTD HTML 4.01 Transitional//EN\"\n  \"http://www.w3.org/TR/html4/loose.dtd\">\n<html>\n  <head>\n    <title>AttributeError: &#x27;HealthInsurance&#x27; object has no attribute &#x27;target_encode_gender&#x27; // Werkzeug Debugger</title>\n    <link rel=\"stylesheet\" href=\"?__debugger__=yes&amp;cmd=resource&amp;f=style.css\"\n        type=\"text/css\">\n    <!-- We need to make sure this has a favicon so that the debugger does\n         not accidentally trigger a request to /favicon.ico which might\n         change the application's state. -->\n    <link rel=\"shortcut icon\"\n        href=\"?__debugger__=yes&amp;cmd=resource&amp;f=console.png\">\n    <script src=\"?__debugger__=yes&amp;cmd=resource&amp;f=debugger.js\"></script>\n    <script type=\"text/javascript\">\n      var TRACEBACK = 140447642082848,\n          CONSOLE_MODE = false,\n          EVALEX = true,\n          EVALEX_TRUSTED = false,\n          SECRET = \"np4KOUKue8bNUnbHeW2Q\";\n    </script>\n  </head>\n  <body style=\"background-color: #fff\">\n    <div class=\"debugger\">\n<h1>AttributeError</h1>\n<div class=\"detail\">\n  <p class=\"errormsg\">AttributeError: &#x27;HealthInsurance&#x27; object has no attribute &#x27;target_encode_gender&#x27;</p>\n</div>\n<h2 class=\"traceback\">Traceback <em>(most recent call last)</em></h2>\n<div class=\"traceback\">\n  <h3></h3>\n  <ul><li><div class=\"frame\" id=\"frame-140447642082416\">\n  <h4>File <cite class=\"filename\">\"/home/felipepedrosa/anaconda3/envs/health_insurance/lib/python3.9/site-packages/flask/app.py\"</cite>,\n      line <em class=\"line\">2091</em>,\n      in <code class=\"function\">__call__</code></h4>\n  <div class=\"source library\"><pre class=\"line before\"><span class=\"ws\">    </span>def __call__(self, environ: dict, start_response: t.Callable) -&gt; t.Any:</pre>\n<pre class=\"line before\"><span class=\"ws\">        </span>&quot;&quot;&quot;The WSGI server calls the Flask application object as the</pre>\n<pre class=\"line before\"><span class=\"ws\">        </span>WSGI application. This calls :meth:`wsgi_app`, which can be</pre>\n<pre class=\"line before\"><span class=\"ws\">        </span>wrapped to apply middleware.</pre>\n<pre class=\"line before\"><span class=\"ws\">        </span>&quot;&quot;&quot;</pre>\n<pre class=\"line current\"><span class=\"ws\">        </span>return self.wsgi_app(environ, start_response)</pre></div>\n</div>\n\n<li><div class=\"frame\" id=\"frame-140447642082800\">\n  <h4>File <cite class=\"filename\">\"/home/felipepedrosa/anaconda3/envs/health_insurance/lib/python3.9/site-packages/flask/app.py\"</cite>,\n      line <em class=\"line\">2076</em>,\n      in <code class=\"function\">wsgi_app</code></h4>\n  <div class=\"source library\"><pre class=\"line before\"><span class=\"ws\">            </span>try:</pre>\n<pre class=\"line before\"><span class=\"ws\">                </span>ctx.push()</pre>\n<pre class=\"line before\"><span class=\"ws\">                </span>response = self.full_dispatch_request()</pre>\n<pre class=\"line before\"><span class=\"ws\">            </span>except Exception as e:</pre>\n<pre class=\"line before\"><span class=\"ws\">                </span>error = e</pre>\n<pre class=\"line current\"><span class=\"ws\">                </span>response = self.handle_exception(e)</pre>\n<pre class=\"line after\"><span class=\"ws\">            </span>except:  # noqa: B001</pre>\n<pre class=\"line after\"><span class=\"ws\">                </span>error = sys.exc_info()[1]</pre>\n<pre class=\"line after\"><span class=\"ws\">                </span>raise</pre>\n<pre class=\"line after\"><span class=\"ws\">            </span>return response(environ, start_response)</pre>\n<pre class=\"line after\"><span class=\"ws\">        </span>finally:</pre></div>\n</div>\n\n<li><div class=\"frame\" id=\"frame-140447642082608\">\n  <h4>File <cite class=\"filename\">\"/home/felipepedrosa/anaconda3/envs/health_insurance/lib/python3.9/site-packages/flask/app.py\"</cite>,\n      line <em class=\"line\">2073</em>,\n      in <code class=\"function\">wsgi_app</code></h4>\n  <div class=\"source library\"><pre class=\"line before\"><span class=\"ws\">        </span>ctx = self.request_context(environ)</pre>\n<pre class=\"line before\"><span class=\"ws\">        </span>error: t.Optional[BaseException] = None</pre>\n<pre class=\"line before\"><span class=\"ws\">        </span>try:</pre>\n<pre class=\"line before\"><span class=\"ws\">            </span>try:</pre>\n<pre class=\"line before\"><span class=\"ws\">                </span>ctx.push()</pre>\n<pre class=\"line current\"><span class=\"ws\">                </span>response = self.full_dispatch_request()</pre>\n<pre class=\"line after\"><span class=\"ws\">            </span>except Exception as e:</pre>\n<pre class=\"line after\"><span class=\"ws\">                </span>error = e</pre>\n<pre class=\"line after\"><span class=\"ws\">                </span>response = self.handle_exception(e)</pre>\n<pre class=\"line after\"><span class=\"ws\">            </span>except:  # noqa: B001</pre>\n<pre class=\"line after\"><span class=\"ws\">                </span>error = sys.exc_info()[1]</pre></div>\n</div>\n\n<li><div class=\"frame\" id=\"frame-140447642082656\">\n  <h4>File <cite class=\"filename\">\"/home/felipepedrosa/anaconda3/envs/health_insurance/lib/python3.9/site-packages/flask/app.py\"</cite>,\n      line <em class=\"line\">1518</em>,\n      in <code class=\"function\">full_dispatch_request</code></h4>\n  <div class=\"source library\"><pre class=\"line before\"><span class=\"ws\">            </span>request_started.send(self)</pre>\n<pre class=\"line before\"><span class=\"ws\">            </span>rv = self.preprocess_request()</pre>\n<pre class=\"line before\"><span class=\"ws\">            </span>if rv is None:</pre>\n<pre class=\"line before\"><span class=\"ws\">                </span>rv = self.dispatch_request()</pre>\n<pre class=\"line before\"><span class=\"ws\">        </span>except Exception as e:</pre>\n<pre class=\"line current\"><span class=\"ws\">            </span>rv = self.handle_user_exception(e)</pre>\n<pre class=\"line after\"><span class=\"ws\">        </span>return self.finalize_request(rv)</pre>\n<pre class=\"line after\"><span class=\"ws\"></span> </pre>\n<pre class=\"line after\"><span class=\"ws\">    </span>def finalize_request(</pre>\n<pre class=\"line after\"><span class=\"ws\">        </span>self,</pre>\n<pre class=\"line after\"><span class=\"ws\">        </span>rv: t.Union[ResponseReturnValue, HTTPException],</pre></div>\n</div>\n\n<li><div class=\"frame\" id=\"frame-140447642083136\">\n  <h4>File <cite class=\"filename\">\"/home/felipepedrosa/anaconda3/envs/health_insurance/lib/python3.9/site-packages/flask/app.py\"</cite>,\n      line <em class=\"line\">1516</em>,\n      in <code class=\"function\">full_dispatch_request</code></h4>\n  <div class=\"source library\"><pre class=\"line before\"><span class=\"ws\">        </span>self.try_trigger_before_first_request_functions()</pre>\n<pre class=\"line before\"><span class=\"ws\">        </span>try:</pre>\n<pre class=\"line before\"><span class=\"ws\">            </span>request_started.send(self)</pre>\n<pre class=\"line before\"><span class=\"ws\">            </span>rv = self.preprocess_request()</pre>\n<pre class=\"line before\"><span class=\"ws\">            </span>if rv is None:</pre>\n<pre class=\"line current\"><span class=\"ws\">                </span>rv = self.dispatch_request()</pre>\n<pre class=\"line after\"><span class=\"ws\">        </span>except Exception as e:</pre>\n<pre class=\"line after\"><span class=\"ws\">            </span>rv = self.handle_user_exception(e)</pre>\n<pre class=\"line after\"><span class=\"ws\">        </span>return self.finalize_request(rv)</pre>\n<pre class=\"line after\"><span class=\"ws\"></span> </pre>\n<pre class=\"line after\"><span class=\"ws\">    </span>def finalize_request(</pre></div>\n</div>\n\n<li><div class=\"frame\" id=\"frame-140447642083184\">\n  <h4>File <cite class=\"filename\">\"/home/felipepedrosa/anaconda3/envs/health_insurance/lib/python3.9/site-packages/flask/app.py\"</cite>,\n      line <em class=\"line\">1502</em>,\n      in <code class=\"function\">dispatch_request</code></h4>\n  <div class=\"source library\"><pre class=\"line before\"><span class=\"ws\">            </span>getattr(rule, &quot;provide_automatic_options&quot;, False)</pre>\n<pre class=\"line before\"><span class=\"ws\">            </span>and req.method == &quot;OPTIONS&quot;</pre>\n<pre class=\"line before\"><span class=\"ws\">        </span>):</pre>\n<pre class=\"line before\"><span class=\"ws\">            </span>return self.make_default_options_response()</pre>\n<pre class=\"line before\"><span class=\"ws\">        </span># otherwise dispatch to the handler for that endpoint</pre>\n<pre class=\"line current\"><span class=\"ws\">        </span>return self.ensure_sync(self.view_functions[rule.endpoint])(**req.view_args)</pre>\n<pre class=\"line after\"><span class=\"ws\"></span> </pre>\n<pre class=\"line after\"><span class=\"ws\">    </span>def full_dispatch_request(self) -&gt; Response:</pre>\n<pre class=\"line after\"><span class=\"ws\">        </span>&quot;&quot;&quot;Dispatches the request and on top of that performs request</pre>\n<pre class=\"line after\"><span class=\"ws\">        </span>pre and postprocessing as well as HTTP exception catching and</pre>\n<pre class=\"line after\"><span class=\"ws\">        </span>error handling.</pre></div>\n</div>\n\n<li><div class=\"frame\" id=\"frame-140447642083232\">\n  <h4>File <cite class=\"filename\">\"/mnt/wsl/PHYSICALDRIVE2/projetos/health_insurance/src/handler.py\"</cite>,\n      line <em class=\"line\">37</em>,\n      in <code class=\"function\">health_insurance_predict</code></h4>\n  <div class=\"source \"><pre class=\"line before\"><span class=\"ws\"></span> </pre>\n<pre class=\"line before\"><span class=\"ws\">        </span># feature engineering</pre>\n<pre class=\"line before\"><span class=\"ws\">        </span>df2 = pipeline.feature_engineering( test_raw )</pre>\n<pre class=\"line before\"><span class=\"ws\"></span> </pre>\n<pre class=\"line before\"><span class=\"ws\">        </span># data preparation</pre>\n<pre class=\"line current\"><span class=\"ws\">        </span>df3 = pipeline.data_preparation( df2 )</pre>\n<pre class=\"line after\"><span class=\"ws\"></span> </pre>\n<pre class=\"line after\"><span class=\"ws\">        </span># prediction</pre>\n<pre class=\"line after\"><span class=\"ws\">        </span>df_response = pipeline.get_prediction( model, test_raw, df3 )</pre>\n<pre class=\"line after\"><span class=\"ws\"></span> </pre>\n<pre class=\"line after\"><span class=\"ws\">        </span>return df_response</pre></div>\n</div>\n\n<li><div class=\"frame\" id=\"frame-140447642083088\">\n  <h4>File <cite class=\"filename\">\"/mnt/wsl/PHYSICALDRIVE2/projetos/health_insurance/src/healthinsurance/HealthInsurance.py\"</cite>,\n      line <em class=\"line\">51</em>,\n      in <code class=\"function\">data_preparation</code></h4>\n  <div class=\"source \"><pre class=\"line before\"><span class=\"ws\"></span> </pre>\n<pre class=\"line before\"><span class=\"ws\">        </span># Vintage - MinMaxScaler</pre>\n<pre class=\"line before\"><span class=\"ws\">        </span>df5[&#x27;vintage&#x27;] = self.vintage_scaler.transform( df5[[&#x27;vintage&#x27;]].values )</pre>\n<pre class=\"line before\"><span class=\"ws\"></span> </pre>\n<pre class=\"line before\"><span class=\"ws\">        </span># gender - One Hot Encoding / Target Encoding</pre>\n<pre class=\"line current\"><span class=\"ws\">        </span>df5.loc[:, &#x27;gender&#x27;] = df5[&#x27;gender&#x27;].map( self.target_encode_gender )</pre>\n<pre class=\"line after\"><span class=\"ws\"></span> </pre>\n<pre class=\"line after\"><span class=\"ws\">        </span># region_code - Target Encoding / Frequency Encoding</pre>\n<pre class=\"line after\"><span class=\"ws\">        </span>df5.loc[:, &#x27;region_code&#x27;] = df5[&#x27;region_code&#x27;].map( self.target_encode_region_code )</pre>\n<pre class=\"line after\"><span class=\"ws\"></span> </pre>\n<pre class=\"line after\"><span class=\"ws\">        </span># vehicle_age - One Hot Encoding / Frequency Encoding</pre></div>\n</div>\n</ul>\n  <blockquote>AttributeError: &#x27;HealthInsurance&#x27; object has no attribute &#x27;target_encode_gender&#x27;</blockquote>\n</div>\n\n<div class=\"plain\">\n    <p>\n      This is the Copy/Paste friendly version of the traceback.\n    </p>\n    <textarea cols=\"50\" rows=\"10\" name=\"code\" readonly>Traceback (most recent call last):\n  File &quot;/home/felipepedrosa/anaconda3/envs/health_insurance/lib/python3.9/site-packages/flask/app.py&quot;, line 2091, in __call__\n    return self.wsgi_app(environ, start_response)\n  File &quot;/home/felipepedrosa/anaconda3/envs/health_insurance/lib/python3.9/site-packages/flask/app.py&quot;, line 2076, in wsgi_app\n    response = self.handle_exception(e)\n  File &quot;/home/felipepedrosa/anaconda3/envs/health_insurance/lib/python3.9/site-packages/flask/app.py&quot;, line 2073, in wsgi_app\n    response = self.full_dispatch_request()\n  File &quot;/home/felipepedrosa/anaconda3/envs/health_insurance/lib/python3.9/site-packages/flask/app.py&quot;, line 1518, in full_dispatch_request\n    rv = self.handle_user_exception(e)\n  File &quot;/home/felipepedrosa/anaconda3/envs/health_insurance/lib/python3.9/site-packages/flask/app.py&quot;, line 1516, in full_dispatch_request\n    rv = self.dispatch_request()\n  File &quot;/home/felipepedrosa/anaconda3/envs/health_insurance/lib/python3.9/site-packages/flask/app.py&quot;, line 1502, in dispatch_request\n    return self.ensure_sync(self.view_functions[rule.endpoint])(**req.view_args)\n  File &quot;/mnt/wsl/PHYSICALDRIVE2/projetos/health_insurance/src/handler.py&quot;, line 37, in health_insurance_predict\n    df3 = pipeline.data_preparation( df2 )\n  File &quot;/mnt/wsl/PHYSICALDRIVE2/projetos/health_insurance/src/healthinsurance/HealthInsurance.py&quot;, line 51, in data_preparation\n    df5.loc[:, &#x27;gender&#x27;] = df5[&#x27;gender&#x27;].map( self.target_encode_gender )\nAttributeError: &#x27;HealthInsurance&#x27; object has no attribute &#x27;target_encode_gender&#x27;</textarea>\n</div>\n<div class=\"explanation\">\n  The debugger caught an exception in your WSGI application.  You can now\n  look at the traceback which led to the error.  <span class=\"nojavascript\">\n  If you enable JavaScript you can also use additional features such as code\n  execution (if the evalex feature is enabled), automatic pasting of the\n  exceptions and much more.</span>\n</div>\n      <div class=\"footer\">\n        Brought to you by <strong class=\"arthur\">DON'T PANIC</strong>, your\n        friendly Werkzeug powered traceback interpreter.\n      </div>\n    </div>\n\n    <div class=\"pin-prompt\">\n      <div class=\"inner\">\n        <h3>Console Locked</h3>\n        <p>\n          The console is locked and needs to be unlocked by entering the PIN.\n          You can find the PIN printed out on the standard output of your\n          shell that runs the server.\n        <form>\n          <p>PIN:\n            <input type=text name=pin size=14>\n            <input type=submit name=btn value=\"Confirm Pin\">\n        </form>\n      </div>\n    </div>\n  </body>\n</html>\n\n<!--\n\nTraceback (most recent call last):\n  File \"/home/felipepedrosa/anaconda3/envs/health_insurance/lib/python3.9/site-packages/flask/app.py\", line 2091, in __call__\n    return self.wsgi_app(environ, start_response)\n  File \"/home/felipepedrosa/anaconda3/envs/health_insurance/lib/python3.9/site-packages/flask/app.py\", line 2076, in wsgi_app\n    response = self.handle_exception(e)\n  File \"/home/felipepedrosa/anaconda3/envs/health_insurance/lib/python3.9/site-packages/flask/app.py\", line 2073, in wsgi_app\n    response = self.full_dispatch_request()\n  File \"/home/felipepedrosa/anaconda3/envs/health_insurance/lib/python3.9/site-packages/flask/app.py\", line 1518, in full_dispatch_request\n    rv = self.handle_user_exception(e)\n  File \"/home/felipepedrosa/anaconda3/envs/health_insurance/lib/python3.9/site-packages/flask/app.py\", line 1516, in full_dispatch_request\n    rv = self.dispatch_request()\n  File \"/home/felipepedrosa/anaconda3/envs/health_insurance/lib/python3.9/site-packages/flask/app.py\", line 1502, in dispatch_request\n    return self.ensure_sync(self.view_functions[rule.endpoint])(**req.view_args)\n  File \"/mnt/wsl/PHYSICALDRIVE2/projetos/health_insurance/src/handler.py\", line 37, in health_insurance_predict\n    df3 = pipeline.data_preparation( df2 )\n  File \"/mnt/wsl/PHYSICALDRIVE2/projetos/health_insurance/src/healthinsurance/HealthInsurance.py\", line 51, in data_preparation\n    df5.loc[:, 'gender'] = df5['gender'].map( self.target_encode_gender )\nAttributeError: 'HealthInsurance' object has no attribute 'target_encode_gender'\n\n-->\n: 0",
     "output_type": "error",
     "traceback": [
      "\u001b[0;31m---------------------------------------------------------------------------\u001b[0m",
      "\u001b[0;31mJSONDecodeError\u001b[0m                           Traceback (most recent call last)",
      "File \u001b[0;32m~/anaconda3/envs/health_insurance/lib/python3.9/site-packages/requests/models.py:910\u001b[0m, in \u001b[0;36mResponse.json\u001b[0;34m(self, **kwargs)\u001b[0m\n\u001b[1;32m    909\u001b[0m \u001b[38;5;28;01mtry\u001b[39;00m:\n\u001b[0;32m--> 910\u001b[0m     \u001b[38;5;28;01mreturn\u001b[39;00m \u001b[43mcomplexjson\u001b[49m\u001b[38;5;241;43m.\u001b[39;49m\u001b[43mloads\u001b[49m\u001b[43m(\u001b[49m\u001b[38;5;28;43mself\u001b[39;49m\u001b[38;5;241;43m.\u001b[39;49m\u001b[43mtext\u001b[49m\u001b[43m,\u001b[49m\u001b[43m \u001b[49m\u001b[38;5;241;43m*\u001b[39;49m\u001b[38;5;241;43m*\u001b[39;49m\u001b[43mkwargs\u001b[49m\u001b[43m)\u001b[49m\n\u001b[1;32m    911\u001b[0m \u001b[38;5;28;01mexcept\u001b[39;00m JSONDecodeError \u001b[38;5;28;01mas\u001b[39;00m e:\n\u001b[1;32m    912\u001b[0m     \u001b[38;5;66;03m# Catch JSON-related errors and raise as requests.JSONDecodeError\u001b[39;00m\n\u001b[1;32m    913\u001b[0m     \u001b[38;5;66;03m# This aliases json.JSONDecodeError and simplejson.JSONDecodeError\u001b[39;00m\n",
      "File \u001b[0;32m~/anaconda3/envs/health_insurance/lib/python3.9/json/__init__.py:346\u001b[0m, in \u001b[0;36mloads\u001b[0;34m(s, cls, object_hook, parse_float, parse_int, parse_constant, object_pairs_hook, **kw)\u001b[0m\n\u001b[1;32m    343\u001b[0m \u001b[38;5;28;01mif\u001b[39;00m (\u001b[38;5;28mcls\u001b[39m \u001b[38;5;129;01mis\u001b[39;00m \u001b[38;5;28;01mNone\u001b[39;00m \u001b[38;5;129;01mand\u001b[39;00m object_hook \u001b[38;5;129;01mis\u001b[39;00m \u001b[38;5;28;01mNone\u001b[39;00m \u001b[38;5;129;01mand\u001b[39;00m\n\u001b[1;32m    344\u001b[0m         parse_int \u001b[38;5;129;01mis\u001b[39;00m \u001b[38;5;28;01mNone\u001b[39;00m \u001b[38;5;129;01mand\u001b[39;00m parse_float \u001b[38;5;129;01mis\u001b[39;00m \u001b[38;5;28;01mNone\u001b[39;00m \u001b[38;5;129;01mand\u001b[39;00m\n\u001b[1;32m    345\u001b[0m         parse_constant \u001b[38;5;129;01mis\u001b[39;00m \u001b[38;5;28;01mNone\u001b[39;00m \u001b[38;5;129;01mand\u001b[39;00m object_pairs_hook \u001b[38;5;129;01mis\u001b[39;00m \u001b[38;5;28;01mNone\u001b[39;00m \u001b[38;5;129;01mand\u001b[39;00m \u001b[38;5;129;01mnot\u001b[39;00m kw):\n\u001b[0;32m--> 346\u001b[0m     \u001b[38;5;28;01mreturn\u001b[39;00m \u001b[43m_default_decoder\u001b[49m\u001b[38;5;241;43m.\u001b[39;49m\u001b[43mdecode\u001b[49m\u001b[43m(\u001b[49m\u001b[43ms\u001b[49m\u001b[43m)\u001b[49m\n\u001b[1;32m    347\u001b[0m \u001b[38;5;28;01mif\u001b[39;00m \u001b[38;5;28mcls\u001b[39m \u001b[38;5;129;01mis\u001b[39;00m \u001b[38;5;28;01mNone\u001b[39;00m:\n",
      "File \u001b[0;32m~/anaconda3/envs/health_insurance/lib/python3.9/json/decoder.py:337\u001b[0m, in \u001b[0;36mJSONDecoder.decode\u001b[0;34m(self, s, _w)\u001b[0m\n\u001b[1;32m    333\u001b[0m \u001b[38;5;124;03m\"\"\"Return the Python representation of ``s`` (a ``str`` instance\u001b[39;00m\n\u001b[1;32m    334\u001b[0m \u001b[38;5;124;03mcontaining a JSON document).\u001b[39;00m\n\u001b[1;32m    335\u001b[0m \n\u001b[1;32m    336\u001b[0m \u001b[38;5;124;03m\"\"\"\u001b[39;00m\n\u001b[0;32m--> 337\u001b[0m obj, end \u001b[38;5;241m=\u001b[39m \u001b[38;5;28;43mself\u001b[39;49m\u001b[38;5;241;43m.\u001b[39;49m\u001b[43mraw_decode\u001b[49m\u001b[43m(\u001b[49m\u001b[43ms\u001b[49m\u001b[43m,\u001b[49m\u001b[43m \u001b[49m\u001b[43midx\u001b[49m\u001b[38;5;241;43m=\u001b[39;49m\u001b[43m_w\u001b[49m\u001b[43m(\u001b[49m\u001b[43ms\u001b[49m\u001b[43m,\u001b[49m\u001b[43m \u001b[49m\u001b[38;5;241;43m0\u001b[39;49m\u001b[43m)\u001b[49m\u001b[38;5;241;43m.\u001b[39;49m\u001b[43mend\u001b[49m\u001b[43m(\u001b[49m\u001b[43m)\u001b[49m\u001b[43m)\u001b[49m\n\u001b[1;32m    338\u001b[0m end \u001b[38;5;241m=\u001b[39m _w(s, end)\u001b[38;5;241m.\u001b[39mend()\n",
      "File \u001b[0;32m~/anaconda3/envs/health_insurance/lib/python3.9/json/decoder.py:355\u001b[0m, in \u001b[0;36mJSONDecoder.raw_decode\u001b[0;34m(self, s, idx)\u001b[0m\n\u001b[1;32m    354\u001b[0m \u001b[38;5;28;01mexcept\u001b[39;00m \u001b[38;5;167;01mStopIteration\u001b[39;00m \u001b[38;5;28;01mas\u001b[39;00m err:\n\u001b[0;32m--> 355\u001b[0m     \u001b[38;5;28;01mraise\u001b[39;00m JSONDecodeError(\u001b[38;5;124m\"\u001b[39m\u001b[38;5;124mExpecting value\u001b[39m\u001b[38;5;124m\"\u001b[39m, s, err\u001b[38;5;241m.\u001b[39mvalue) \u001b[38;5;28;01mfrom\u001b[39;00m \u001b[38;5;28mNone\u001b[39m\n\u001b[1;32m    356\u001b[0m \u001b[38;5;28;01mreturn\u001b[39;00m obj, end\n",
      "\u001b[0;31mJSONDecodeError\u001b[0m: Expecting value: line 1 column 1 (char 0)",
      "\nDuring handling of the above exception, another exception occurred:\n",
      "\u001b[0;31mJSONDecodeError\u001b[0m                           Traceback (most recent call last)",
      "Input \u001b[0;32mIn [81]\u001b[0m, in \u001b[0;36m<cell line: 1>\u001b[0;34m()\u001b[0m\n\u001b[0;32m----> 1\u001b[0m d1 \u001b[38;5;241m=\u001b[39m pd\u001b[38;5;241m.\u001b[39mDataFrame(\u001b[43mr\u001b[49m\u001b[38;5;241;43m.\u001b[39;49m\u001b[43mjson\u001b[49m\u001b[43m(\u001b[49m\u001b[43m)\u001b[49m, columns \u001b[38;5;241m=\u001b[39m r\u001b[38;5;241m.\u001b[39mjson([\u001b[38;5;241m0\u001b[39m]\u001b[38;5;241m.\u001b[39mkeys()))\n\u001b[1;32m      2\u001b[0m d1\u001b[38;5;241m.\u001b[39msort_values(\u001b[38;5;124m'\u001b[39m\u001b[38;5;124mscore\u001b[39m\u001b[38;5;124m'\u001b[39m, ascending \u001b[38;5;241m=\u001b[39m \u001b[38;5;28;01mFalse\u001b[39;00m)\u001b[38;5;241m.\u001b[39mhead()\n",
      "File \u001b[0;32m~/anaconda3/envs/health_insurance/lib/python3.9/site-packages/requests/models.py:917\u001b[0m, in \u001b[0;36mResponse.json\u001b[0;34m(self, **kwargs)\u001b[0m\n\u001b[1;32m    915\u001b[0m     \u001b[38;5;28;01mraise\u001b[39;00m RequestsJSONDecodeError(e\u001b[38;5;241m.\u001b[39mmessage)\n\u001b[1;32m    916\u001b[0m \u001b[38;5;28;01melse\u001b[39;00m:\n\u001b[0;32m--> 917\u001b[0m     \u001b[38;5;28;01mraise\u001b[39;00m RequestsJSONDecodeError(e\u001b[38;5;241m.\u001b[39mmsg, e\u001b[38;5;241m.\u001b[39mdoc, e\u001b[38;5;241m.\u001b[39mpos)\n",
      "\u001b[0;31mJSONDecodeError\u001b[0m: [Errno Expecting value] <!DOCTYPE HTML PUBLIC \"-//W3C//DTD HTML 4.01 Transitional//EN\"\n  \"http://www.w3.org/TR/html4/loose.dtd\">\n<html>\n  <head>\n    <title>AttributeError: &#x27;HealthInsurance&#x27; object has no attribute &#x27;target_encode_gender&#x27; // Werkzeug Debugger</title>\n    <link rel=\"stylesheet\" href=\"?__debugger__=yes&amp;cmd=resource&amp;f=style.css\"\n        type=\"text/css\">\n    <!-- We need to make sure this has a favicon so that the debugger does\n         not accidentally trigger a request to /favicon.ico which might\n         change the application's state. -->\n    <link rel=\"shortcut icon\"\n        href=\"?__debugger__=yes&amp;cmd=resource&amp;f=console.png\">\n    <script src=\"?__debugger__=yes&amp;cmd=resource&amp;f=debugger.js\"></script>\n    <script type=\"text/javascript\">\n      var TRACEBACK = 140447642082848,\n          CONSOLE_MODE = false,\n          EVALEX = true,\n          EVALEX_TRUSTED = false,\n          SECRET = \"np4KOUKue8bNUnbHeW2Q\";\n    </script>\n  </head>\n  <body style=\"background-color: #fff\">\n    <div class=\"debugger\">\n<h1>AttributeError</h1>\n<div class=\"detail\">\n  <p class=\"errormsg\">AttributeError: &#x27;HealthInsurance&#x27; object has no attribute &#x27;target_encode_gender&#x27;</p>\n</div>\n<h2 class=\"traceback\">Traceback <em>(most recent call last)</em></h2>\n<div class=\"traceback\">\n  <h3></h3>\n  <ul><li><div class=\"frame\" id=\"frame-140447642082416\">\n  <h4>File <cite class=\"filename\">\"/home/felipepedrosa/anaconda3/envs/health_insurance/lib/python3.9/site-packages/flask/app.py\"</cite>,\n      line <em class=\"line\">2091</em>,\n      in <code class=\"function\">__call__</code></h4>\n  <div class=\"source library\"><pre class=\"line before\"><span class=\"ws\">    </span>def __call__(self, environ: dict, start_response: t.Callable) -&gt; t.Any:</pre>\n<pre class=\"line before\"><span class=\"ws\">        </span>&quot;&quot;&quot;The WSGI server calls the Flask application object as the</pre>\n<pre class=\"line before\"><span class=\"ws\">        </span>WSGI application. This calls :meth:`wsgi_app`, which can be</pre>\n<pre class=\"line before\"><span class=\"ws\">        </span>wrapped to apply middleware.</pre>\n<pre class=\"line before\"><span class=\"ws\">        </span>&quot;&quot;&quot;</pre>\n<pre class=\"line current\"><span class=\"ws\">        </span>return self.wsgi_app(environ, start_response)</pre></div>\n</div>\n\n<li><div class=\"frame\" id=\"frame-140447642082800\">\n  <h4>File <cite class=\"filename\">\"/home/felipepedrosa/anaconda3/envs/health_insurance/lib/python3.9/site-packages/flask/app.py\"</cite>,\n      line <em class=\"line\">2076</em>,\n      in <code class=\"function\">wsgi_app</code></h4>\n  <div class=\"source library\"><pre class=\"line before\"><span class=\"ws\">            </span>try:</pre>\n<pre class=\"line before\"><span class=\"ws\">                </span>ctx.push()</pre>\n<pre class=\"line before\"><span class=\"ws\">                </span>response = self.full_dispatch_request()</pre>\n<pre class=\"line before\"><span class=\"ws\">            </span>except Exception as e:</pre>\n<pre class=\"line before\"><span class=\"ws\">                </span>error = e</pre>\n<pre class=\"line current\"><span class=\"ws\">                </span>response = self.handle_exception(e)</pre>\n<pre class=\"line after\"><span class=\"ws\">            </span>except:  # noqa: B001</pre>\n<pre class=\"line after\"><span class=\"ws\">                </span>error = sys.exc_info()[1]</pre>\n<pre class=\"line after\"><span class=\"ws\">                </span>raise</pre>\n<pre class=\"line after\"><span class=\"ws\">            </span>return response(environ, start_response)</pre>\n<pre class=\"line after\"><span class=\"ws\">        </span>finally:</pre></div>\n</div>\n\n<li><div class=\"frame\" id=\"frame-140447642082608\">\n  <h4>File <cite class=\"filename\">\"/home/felipepedrosa/anaconda3/envs/health_insurance/lib/python3.9/site-packages/flask/app.py\"</cite>,\n      line <em class=\"line\">2073</em>,\n      in <code class=\"function\">wsgi_app</code></h4>\n  <div class=\"source library\"><pre class=\"line before\"><span class=\"ws\">        </span>ctx = self.request_context(environ)</pre>\n<pre class=\"line before\"><span class=\"ws\">        </span>error: t.Optional[BaseException] = None</pre>\n<pre class=\"line before\"><span class=\"ws\">        </span>try:</pre>\n<pre class=\"line before\"><span class=\"ws\">            </span>try:</pre>\n<pre class=\"line before\"><span class=\"ws\">                </span>ctx.push()</pre>\n<pre class=\"line current\"><span class=\"ws\">                </span>response = self.full_dispatch_request()</pre>\n<pre class=\"line after\"><span class=\"ws\">            </span>except Exception as e:</pre>\n<pre class=\"line after\"><span class=\"ws\">                </span>error = e</pre>\n<pre class=\"line after\"><span class=\"ws\">                </span>response = self.handle_exception(e)</pre>\n<pre class=\"line after\"><span class=\"ws\">            </span>except:  # noqa: B001</pre>\n<pre class=\"line after\"><span class=\"ws\">                </span>error = sys.exc_info()[1]</pre></div>\n</div>\n\n<li><div class=\"frame\" id=\"frame-140447642082656\">\n  <h4>File <cite class=\"filename\">\"/home/felipepedrosa/anaconda3/envs/health_insurance/lib/python3.9/site-packages/flask/app.py\"</cite>,\n      line <em class=\"line\">1518</em>,\n      in <code class=\"function\">full_dispatch_request</code></h4>\n  <div class=\"source library\"><pre class=\"line before\"><span class=\"ws\">            </span>request_started.send(self)</pre>\n<pre class=\"line before\"><span class=\"ws\">            </span>rv = self.preprocess_request()</pre>\n<pre class=\"line before\"><span class=\"ws\">            </span>if rv is None:</pre>\n<pre class=\"line before\"><span class=\"ws\">                </span>rv = self.dispatch_request()</pre>\n<pre class=\"line before\"><span class=\"ws\">        </span>except Exception as e:</pre>\n<pre class=\"line current\"><span class=\"ws\">            </span>rv = self.handle_user_exception(e)</pre>\n<pre class=\"line after\"><span class=\"ws\">        </span>return self.finalize_request(rv)</pre>\n<pre class=\"line after\"><span class=\"ws\"></span> </pre>\n<pre class=\"line after\"><span class=\"ws\">    </span>def finalize_request(</pre>\n<pre class=\"line after\"><span class=\"ws\">        </span>self,</pre>\n<pre class=\"line after\"><span class=\"ws\">        </span>rv: t.Union[ResponseReturnValue, HTTPException],</pre></div>\n</div>\n\n<li><div class=\"frame\" id=\"frame-140447642083136\">\n  <h4>File <cite class=\"filename\">\"/home/felipepedrosa/anaconda3/envs/health_insurance/lib/python3.9/site-packages/flask/app.py\"</cite>,\n      line <em class=\"line\">1516</em>,\n      in <code class=\"function\">full_dispatch_request</code></h4>\n  <div class=\"source library\"><pre class=\"line before\"><span class=\"ws\">        </span>self.try_trigger_before_first_request_functions()</pre>\n<pre class=\"line before\"><span class=\"ws\">        </span>try:</pre>\n<pre class=\"line before\"><span class=\"ws\">            </span>request_started.send(self)</pre>\n<pre class=\"line before\"><span class=\"ws\">            </span>rv = self.preprocess_request()</pre>\n<pre class=\"line before\"><span class=\"ws\">            </span>if rv is None:</pre>\n<pre class=\"line current\"><span class=\"ws\">                </span>rv = self.dispatch_request()</pre>\n<pre class=\"line after\"><span class=\"ws\">        </span>except Exception as e:</pre>\n<pre class=\"line after\"><span class=\"ws\">            </span>rv = self.handle_user_exception(e)</pre>\n<pre class=\"line after\"><span class=\"ws\">        </span>return self.finalize_request(rv)</pre>\n<pre class=\"line after\"><span class=\"ws\"></span> </pre>\n<pre class=\"line after\"><span class=\"ws\">    </span>def finalize_request(</pre></div>\n</div>\n\n<li><div class=\"frame\" id=\"frame-140447642083184\">\n  <h4>File <cite class=\"filename\">\"/home/felipepedrosa/anaconda3/envs/health_insurance/lib/python3.9/site-packages/flask/app.py\"</cite>,\n      line <em class=\"line\">1502</em>,\n      in <code class=\"function\">dispatch_request</code></h4>\n  <div class=\"source library\"><pre class=\"line before\"><span class=\"ws\">            </span>getattr(rule, &quot;provide_automatic_options&quot;, False)</pre>\n<pre class=\"line before\"><span class=\"ws\">            </span>and req.method == &quot;OPTIONS&quot;</pre>\n<pre class=\"line before\"><span class=\"ws\">        </span>):</pre>\n<pre class=\"line before\"><span class=\"ws\">            </span>return self.make_default_options_response()</pre>\n<pre class=\"line before\"><span class=\"ws\">        </span># otherwise dispatch to the handler for that endpoint</pre>\n<pre class=\"line current\"><span class=\"ws\">        </span>return self.ensure_sync(self.view_functions[rule.endpoint])(**req.view_args)</pre>\n<pre class=\"line after\"><span class=\"ws\"></span> </pre>\n<pre class=\"line after\"><span class=\"ws\">    </span>def full_dispatch_request(self) -&gt; Response:</pre>\n<pre class=\"line after\"><span class=\"ws\">        </span>&quot;&quot;&quot;Dispatches the request and on top of that performs request</pre>\n<pre class=\"line after\"><span class=\"ws\">        </span>pre and postprocessing as well as HTTP exception catching and</pre>\n<pre class=\"line after\"><span class=\"ws\">        </span>error handling.</pre></div>\n</div>\n\n<li><div class=\"frame\" id=\"frame-140447642083232\">\n  <h4>File <cite class=\"filename\">\"/mnt/wsl/PHYSICALDRIVE2/projetos/health_insurance/src/handler.py\"</cite>,\n      line <em class=\"line\">37</em>,\n      in <code class=\"function\">health_insurance_predict</code></h4>\n  <div class=\"source \"><pre class=\"line before\"><span class=\"ws\"></span> </pre>\n<pre class=\"line before\"><span class=\"ws\">        </span># feature engineering</pre>\n<pre class=\"line before\"><span class=\"ws\">        </span>df2 = pipeline.feature_engineering( test_raw )</pre>\n<pre class=\"line before\"><span class=\"ws\"></span> </pre>\n<pre class=\"line before\"><span class=\"ws\">        </span># data preparation</pre>\n<pre class=\"line current\"><span class=\"ws\">        </span>df3 = pipeline.data_preparation( df2 )</pre>\n<pre class=\"line after\"><span class=\"ws\"></span> </pre>\n<pre class=\"line after\"><span class=\"ws\">        </span># prediction</pre>\n<pre class=\"line after\"><span class=\"ws\">        </span>df_response = pipeline.get_prediction( model, test_raw, df3 )</pre>\n<pre class=\"line after\"><span class=\"ws\"></span> </pre>\n<pre class=\"line after\"><span class=\"ws\">        </span>return df_response</pre></div>\n</div>\n\n<li><div class=\"frame\" id=\"frame-140447642083088\">\n  <h4>File <cite class=\"filename\">\"/mnt/wsl/PHYSICALDRIVE2/projetos/health_insurance/src/healthinsurance/HealthInsurance.py\"</cite>,\n      line <em class=\"line\">51</em>,\n      in <code class=\"function\">data_preparation</code></h4>\n  <div class=\"source \"><pre class=\"line before\"><span class=\"ws\"></span> </pre>\n<pre class=\"line before\"><span class=\"ws\">        </span># Vintage - MinMaxScaler</pre>\n<pre class=\"line before\"><span class=\"ws\">        </span>df5[&#x27;vintage&#x27;] = self.vintage_scaler.transform( df5[[&#x27;vintage&#x27;]].values )</pre>\n<pre class=\"line before\"><span class=\"ws\"></span> </pre>\n<pre class=\"line before\"><span class=\"ws\">        </span># gender - One Hot Encoding / Target Encoding</pre>\n<pre class=\"line current\"><span class=\"ws\">        </span>df5.loc[:, &#x27;gender&#x27;] = df5[&#x27;gender&#x27;].map( self.target_encode_gender )</pre>\n<pre class=\"line after\"><span class=\"ws\"></span> </pre>\n<pre class=\"line after\"><span class=\"ws\">        </span># region_code - Target Encoding / Frequency Encoding</pre>\n<pre class=\"line after\"><span class=\"ws\">        </span>df5.loc[:, &#x27;region_code&#x27;] = df5[&#x27;region_code&#x27;].map( self.target_encode_region_code )</pre>\n<pre class=\"line after\"><span class=\"ws\"></span> </pre>\n<pre class=\"line after\"><span class=\"ws\">        </span># vehicle_age - One Hot Encoding / Frequency Encoding</pre></div>\n</div>\n</ul>\n  <blockquote>AttributeError: &#x27;HealthInsurance&#x27; object has no attribute &#x27;target_encode_gender&#x27;</blockquote>\n</div>\n\n<div class=\"plain\">\n    <p>\n      This is the Copy/Paste friendly version of the traceback.\n    </p>\n    <textarea cols=\"50\" rows=\"10\" name=\"code\" readonly>Traceback (most recent call last):\n  File &quot;/home/felipepedrosa/anaconda3/envs/health_insurance/lib/python3.9/site-packages/flask/app.py&quot;, line 2091, in __call__\n    return self.wsgi_app(environ, start_response)\n  File &quot;/home/felipepedrosa/anaconda3/envs/health_insurance/lib/python3.9/site-packages/flask/app.py&quot;, line 2076, in wsgi_app\n    response = self.handle_exception(e)\n  File &quot;/home/felipepedrosa/anaconda3/envs/health_insurance/lib/python3.9/site-packages/flask/app.py&quot;, line 2073, in wsgi_app\n    response = self.full_dispatch_request()\n  File &quot;/home/felipepedrosa/anaconda3/envs/health_insurance/lib/python3.9/site-packages/flask/app.py&quot;, line 1518, in full_dispatch_request\n    rv = self.handle_user_exception(e)\n  File &quot;/home/felipepedrosa/anaconda3/envs/health_insurance/lib/python3.9/site-packages/flask/app.py&quot;, line 1516, in full_dispatch_request\n    rv = self.dispatch_request()\n  File &quot;/home/felipepedrosa/anaconda3/envs/health_insurance/lib/python3.9/site-packages/flask/app.py&quot;, line 1502, in dispatch_request\n    return self.ensure_sync(self.view_functions[rule.endpoint])(**req.view_args)\n  File &quot;/mnt/wsl/PHYSICALDRIVE2/projetos/health_insurance/src/handler.py&quot;, line 37, in health_insurance_predict\n    df3 = pipeline.data_preparation( df2 )\n  File &quot;/mnt/wsl/PHYSICALDRIVE2/projetos/health_insurance/src/healthinsurance/HealthInsurance.py&quot;, line 51, in data_preparation\n    df5.loc[:, &#x27;gender&#x27;] = df5[&#x27;gender&#x27;].map( self.target_encode_gender )\nAttributeError: &#x27;HealthInsurance&#x27; object has no attribute &#x27;target_encode_gender&#x27;</textarea>\n</div>\n<div class=\"explanation\">\n  The debugger caught an exception in your WSGI application.  You can now\n  look at the traceback which led to the error.  <span class=\"nojavascript\">\n  If you enable JavaScript you can also use additional features such as code\n  execution (if the evalex feature is enabled), automatic pasting of the\n  exceptions and much more.</span>\n</div>\n      <div class=\"footer\">\n        Brought to you by <strong class=\"arthur\">DON'T PANIC</strong>, your\n        friendly Werkzeug powered traceback interpreter.\n      </div>\n    </div>\n\n    <div class=\"pin-prompt\">\n      <div class=\"inner\">\n        <h3>Console Locked</h3>\n        <p>\n          The console is locked and needs to be unlocked by entering the PIN.\n          You can find the PIN printed out on the standard output of your\n          shell that runs the server.\n        <form>\n          <p>PIN:\n            <input type=text name=pin size=14>\n            <input type=submit name=btn value=\"Confirm Pin\">\n        </form>\n      </div>\n    </div>\n  </body>\n</html>\n\n<!--\n\nTraceback (most recent call last):\n  File \"/home/felipepedrosa/anaconda3/envs/health_insurance/lib/python3.9/site-packages/flask/app.py\", line 2091, in __call__\n    return self.wsgi_app(environ, start_response)\n  File \"/home/felipepedrosa/anaconda3/envs/health_insurance/lib/python3.9/site-packages/flask/app.py\", line 2076, in wsgi_app\n    response = self.handle_exception(e)\n  File \"/home/felipepedrosa/anaconda3/envs/health_insurance/lib/python3.9/site-packages/flask/app.py\", line 2073, in wsgi_app\n    response = self.full_dispatch_request()\n  File \"/home/felipepedrosa/anaconda3/envs/health_insurance/lib/python3.9/site-packages/flask/app.py\", line 1518, in full_dispatch_request\n    rv = self.handle_user_exception(e)\n  File \"/home/felipepedrosa/anaconda3/envs/health_insurance/lib/python3.9/site-packages/flask/app.py\", line 1516, in full_dispatch_request\n    rv = self.dispatch_request()\n  File \"/home/felipepedrosa/anaconda3/envs/health_insurance/lib/python3.9/site-packages/flask/app.py\", line 1502, in dispatch_request\n    return self.ensure_sync(self.view_functions[rule.endpoint])(**req.view_args)\n  File \"/mnt/wsl/PHYSICALDRIVE2/projetos/health_insurance/src/handler.py\", line 37, in health_insurance_predict\n    df3 = pipeline.data_preparation( df2 )\n  File \"/mnt/wsl/PHYSICALDRIVE2/projetos/health_insurance/src/healthinsurance/HealthInsurance.py\", line 51, in data_preparation\n    df5.loc[:, 'gender'] = df5['gender'].map( self.target_encode_gender )\nAttributeError: 'HealthInsurance' object has no attribute 'target_encode_gender'\n\n-->\n: 0"
     ]
    }
   ],
   "source": [
    "d1 = pd.DataFrame(r.json(), columns = r.json([0].keys()))\n",
    "d1.sort_values('score', ascending = False).head()"
   ]
  }
 ],
 "metadata": {
  "kernelspec": {
   "display_name": "Python 3 (ipykernel)",
   "language": "python",
   "name": "python3"
  },
  "language_info": {
   "codemirror_mode": {
    "name": "ipython",
    "version": 3
   },
   "file_extension": ".py",
   "mimetype": "text/x-python",
   "name": "python",
   "nbconvert_exporter": "python",
   "pygments_lexer": "ipython3",
   "version": "3.9.11"
  },
  "toc": {
   "base_numbering": 1,
   "nav_menu": {
    "height": "410px",
    "width": "276px"
   },
   "number_sections": false,
   "sideBar": true,
   "skip_h1_title": false,
   "title_cell": "Table of Contents",
   "title_sidebar": "Contents",
   "toc_cell": false,
   "toc_position": {
    "height": "calc(100% - 180px)",
    "left": "10px",
    "top": "150px",
    "width": "165px"
   },
   "toc_section_display": true,
   "toc_window_display": false
  },
  "varInspector": {
   "cols": {
    "lenName": 16,
    "lenType": 16,
    "lenVar": 40
   },
   "kernels_config": {
    "python": {
     "delete_cmd_postfix": "",
     "delete_cmd_prefix": "del ",
     "library": "var_list.py",
     "varRefreshCmd": "print(var_dic_list())"
    },
    "r": {
     "delete_cmd_postfix": ") ",
     "delete_cmd_prefix": "rm(",
     "library": "var_list.r",
     "varRefreshCmd": "cat(var_dic_list()) "
    }
   },
   "types_to_exclude": [
    "module",
    "function",
    "builtin_function_or_method",
    "instance",
    "_Feature"
   ],
   "window_display": false
  }
 },
 "nbformat": 4,
 "nbformat_minor": 5
}
